{
 "cells": [
  {
   "cell_type": "code",
   "execution_count": 2,
   "metadata": {
    "collapsed": true
   },
   "outputs": [],
   "source": [
    "import numpy as np\n",
    "from numpy.random import choice"
   ]
  },
  {
   "cell_type": "code",
   "execution_count": 2,
   "metadata": {
    "collapsed": true
   },
   "outputs": [],
   "source": [
    "# v(s') = v(s) + a(v(s') -  v(s))"
   ]
  },
  {
   "cell_type": "code",
   "execution_count": 22,
   "metadata": {
    "collapsed": false
   },
   "outputs": [],
   "source": [
    "s_prime = np.array([['X', 'O',.15], ['X','O',.2]])\n",
    "s =  np.array([['X',.6,.2], ['X','O', .2]])"
   ]
  },
  {
   "cell_type": "code",
   "execution_count": null,
   "metadata": {
    "collapsed": true
   },
   "outputs": [],
   "source": [
    "a = .1\n",
    "\n",
    "last_move = index\n",
    "last_state = s\n",
    "explore = False\n",
    "current_state = Vs_prime\n",
    "\n",
    "if not explore:\n",
    "    Vs = v[last_state][last_move]\n",
    "    v[last_state][last_move] = Vs + a*(Vs_prime - Vs)"
   ]
  },
  {
   "cell_type": "code",
   "execution_count": 16,
   "metadata": {
    "collapsed": true
   },
   "outputs": [],
   "source": [
    "v = {'503': a}"
   ]
  },
  {
   "cell_type": "code",
   "execution_count": 17,
   "metadata": {
    "collapsed": false
   },
   "outputs": [
    {
     "data": {
      "text/plain": [
       "{'503': array([[1, 2, None],\n",
       "        [2, 4, 5]], dtype=object)}"
      ]
     },
     "execution_count": 17,
     "metadata": {},
     "output_type": "execute_result"
    }
   ],
   "source": [
    "v"
   ]
  },
  {
   "cell_type": "code",
   "execution_count": 9,
   "metadata": {
    "collapsed": false
   },
   "outputs": [],
   "source": [
    "v['503'][0,0] = 47"
   ]
  },
  {
   "cell_type": "markdown",
   "metadata": {},
   "source": [
    "# Tim stuff"
   ]
  },
  {
   "cell_type": "code",
   "execution_count": null,
   "metadata": {
    "collapsed": true
   },
   "outputs": [],
   "source": [
    "state = [x,o,None,o,x,o,None,None,None]\n",
    "Get input (either from human or CPU)\n",
    "get possible future states() returns list of states like [(x,o,x,o,x,o,None,None,None),(etc)] and what move you have\n",
    "    to make to get to them\n",
    ".1 e-greedy policy\n",
    ".1 chance of randomly choosing a state. If True, set explore = True\n",
    ".9 chance of look up future state values in policy network dictionary, which looks like {(x,o,x,...):.1, (...):.6},\n",
    "    and choose value with highest probability. Explore = False\n",
    "Make move (update board)\n",
    "Do temporal difference learning\n",
    "Print board\n",
    "Check end game conditions. If endgame, print result (win/loss/tie)\n",
    "If not end game: Get next input (either from human or CPU)"
   ]
  },
  {
   "cell_type": "code",
   "execution_count": 5,
   "metadata": {
    "collapsed": false
   },
   "outputs": [
    {
     "data": {
      "text/plain": [
       "[None, None, None, None, None, None, None, None, None]"
      ]
     },
     "execution_count": 5,
     "metadata": {},
     "output_type": "execute_result"
    }
   ],
   "source": [
    "board = [None] * 9\n",
    "pi1 = dict()\n",
    "pi2 = dict()\n",
    "# pi1 = create_player_pi('x')\n",
    "# pi2 = create_player_pi('o')\n",
    "while not is_endgame():\n",
    "    get_input(board, human or CPU)\n",
    "    update_board()\n",
    "    print_board()\n",
    "    update_value()\n",
    "print_outcome()"
   ]
  },
  {
   "cell_type": "code",
   "execution_count": null,
   "metadata": {
    "collapsed": true
   },
   "outputs": [],
   "source": [
    "# def create_player_pi(mark):\n",
    "#     \"\"\"\n",
    "#     mark: 'x' or 'o' for which mark that player will use\n",
    "#     returns: policy for player in the form of a dictionary. All win and loss states are initialized with \n",
    "#         win probabilities of 1 and 0, respectively. Other states are not initialized.\n",
    "#     \"\"\"\n",
    "#     pi = dict()\n",
    "    \n",
    "def get_input(board, policy, mark):\n",
    "    \"\"\"\n",
    "    board: game board list\n",
    "    policy: policy dictionary for player, or 'human' to get input from the user\n",
    "    returns: nothing. Board list is modified.\n",
    "    \"\"\"\n",
    "    if policy == 'human':\n",
    "        new_move = False\n",
    "        while new_move == False:\n",
    "            new_move = eval(raw_input(\"Enter the row and column you want to make a mark in, using the format x,y \"))\n",
    "            if is_legal(new_move):\n",
    "                update_board(board, new_move, mark)\n",
    "            else:\n",
    "                new_move == False\n",
    "                print \"Invalid move.\\n\"\n",
    "    else:\n",
    "        future_states = list_states(board, mark)\n",
    "        if choice(range(10) == 1):\n",
    "            explore = True\n",
    "            next_state = future_states[choice(len(future_states))]\n",
    "        else:\n",
    "            max_prob = 0\n",
    "            for state in future_states:\n",
    "                if state in policy:\n",
    "                    if policy[state] > max_prob:\n",
    "                        new_move = state # Translate this to a tuple of indices like (3,3)\n",
    "                        max_prob = policy[state]\n",
    "                outcome = get_outcome(state)\n",
    "                elif outcome:\n",
    "                    if outcome == mark:\n",
    "                        policy[state] = 1\n",
    "                        if 1 > max_prob:\n",
    "                            new_move = state # Translate this to a tuple of indices like (3,3)\n",
    "                            max_prob = 1\n",
    "                    elif outcome == 'draw':\n",
    "                        policy[state] = .5\n",
    "                        if .5 > max_prob:\n",
    "                            new_move = state # Translate this to a tuple of indices like (3,3)\n",
    "                            max_prob = .5\n",
    "                else:\n",
    "                    policy[state] = .5\n",
    "                    if .5 > max_prob:\n",
    "                        new_move = state # Translate this to a tuple of indices like (3,3)\n",
    "                        max_prob = .5\n",
    "    # Write board update at end of function here\n",
    "    # I also need to save the chosen state and it's probability to adjust later\n",
    "    "
   ]
  },
  {
   "cell_type": "code",
   "execution_count": 27,
   "metadata": {
    "collapsed": false
   },
   "outputs": [
    {
     "name": "stdout",
     "output_type": "stream",
     "text": [
      "It worked\n"
     ]
    }
   ],
   "source": [
    "if 'x':\n",
    "    print 'It worked'"
   ]
  },
  {
   "cell_type": "code",
   "execution_count": 21,
   "metadata": {
    "collapsed": false
   },
   "outputs": [
    {
     "data": {
      "text/plain": [
       "1"
      ]
     },
     "execution_count": 21,
     "metadata": {},
     "output_type": "execute_result"
    }
   ],
   "source": [
    "future_states = [[1,2,3],[3,3,3]]\n",
    "choice(len(future_states))"
   ]
  },
  {
   "cell_type": "markdown",
   "metadata": {},
   "source": [
    "# Object-oriented version"
   ]
  },
  {
   "cell_type": "code",
   "execution_count": null,
   "metadata": {
    "collapsed": true
   },
   "outputs": [],
   "source": [
    "class ttt_board(object):\n",
    "    \n",
    "    def __init__(self):\n",
    "        self.spaces = ['_'] * 9\n",
    "        self.vals = [2**i for i in range(9)]\n",
    "        \n",
    "    def __str__(self):\n",
    "        return '%s\\n%s\\n%s\\n' % (' '.join(self.spaces[:3]), ' '.join(self.spaces[3:6]), ' '.join(self.spaces[6:]))\n",
    "    \n",
    "    def update(self, ix, mark):\n",
    "        self.spaces[ix] = mark\n",
    "        \n",
    "    def get_player_total(self, mark):\n",
    "        total = 0\n",
    "        for i, x in enumerate(self.spaces):\n",
    "            if x == mark:\n",
    "                total += self.vals[i]\n",
    "        return total\n",
    "\n",
    "    \n",
    "class ttt_player(object):\n",
    "    \n",
    "    def __init__(self, player_type, mark):\n",
    "        self.player_type = player_type\n",
    "        self.mark = mark\n",
    "        if player_type == 'computer':\n",
    "            self.policy = dict()\n",
    "            self.prev_state = None\n",
    "    \n",
    "    \n",
    "    def __str__(self):\n",
    "        return 'Player %s' % self.mark\n",
    "    \n",
    "    \n",
    "    def get_next_states(self, board):\n",
    "        b = board[:]\n",
    "        res = []\n",
    "        for i, s in enumerate(board):\n",
    "            if s == '_':\n",
    "                b = board[:]\n",
    "                b[i] = self.mark\n",
    "                res.append(b)\n",
    "        return res\n",
    "    \n",
    "    def get_move_outcome(self, board):\n",
    "        win_totals = [7, 56, 448, 73, 146, 292, 273, 84]\n",
    "        X_total = board.get_player_total('X')\n",
    "        O_total = board.get_player_total('O')\n",
    "        for val in win_totals:\n",
    "            if X_total & val == val: # if X wins\n",
    "                return 'X'\n",
    "            if O_total & val == val: # if O wins\n",
    "                return 'O'\n",
    "    \n",
    "    def get_move(self, board):\n",
    "        if self.player_type == 'human':\n",
    "            while True:\n",
    "                try:\n",
    "                    row_index, col_index = eval(raw_input( \\\n",
    "                                \"Enter the row and column you want to make a mark in, using the format x,y \"))\n",
    "                    # Get correct index in the board list, adjusting for 0-indexing\n",
    "                    move_index = (row_index-1)*3 + col_index - 1\n",
    "                    if board.spaces[move_index] == '_':\n",
    "                        return move_index\n",
    "                except:\n",
    "                    pass\n",
    "                print \"Invalid move.\\n\"\n",
    "        \n",
    "        # Make Computer player decision\n",
    "        possible_move_indices = [i for i, x in enumerate(board.spaces) if x == '_']\n",
    "        if choice(range(10) == 1):     # 10% chance of randomly choosing a move\n",
    "            move_index = choice(possible_move_indices)\n",
    "            \n",
    "            return move_index\n",
    "        \n",
    "        max_prob = 0\n",
    "        for i in possible_move_indices:\n",
    "            state = board.spaces[:]\n",
    "            state[i] = self.mark\n",
    "            if state in self.policy:\n",
    "                if self.policy[state] > max_prob:\n",
    "                    move_index = i\n",
    "                    max_prob = self.policy[state]\n",
    "            else:\n",
    "                outcome = get_move_outcome(state)\n",
    "                if outcome == mark:\n",
    "                    policy[state] = 1\n",
    "                    if 1 > max_prob:\n",
    "                        move_index = i\n",
    "                        max_prob = 1\n",
    "                elif outcome == 'draw':\n",
    "                    policy[state] = .5\n",
    "                    if .5 > max_prob:\n",
    "                        move_index = i\n",
    "                        max_prob = .5\n",
    "            else:\n",
    "                policy[state] = .5\n",
    "                if .5 > max_prob:\n",
    "                    move_index = i\n",
    "                    max_prob = .5\n",
    "\n",
    "        return move_index\n",
    "            \n",
    "\n",
    "# get possible future states() returns list of states like [(x,o,x,o,x,o,None,None,None),(etc)] and what move you have\n",
    "#     to make to get to them\n",
    "# .1 e-greedy policy\n",
    "# .1 chance of randomly choosing a state. If True, set explore = True\n",
    "# .9 chance of look up future state values in policy network dictionary, which looks like {(x,o,x,...):.1, (...):.6},\n",
    "#     and choose value with highest probability. Explore = False\n",
    "                            \n",
    "            \n",
    "# Game object instantiates the board and the correct number of CPU players\n",
    "class ttt_game(object):\n",
    "    \n",
    "    def __init__(self, n_human_players):\n",
    "        self.board = ttt_board()\n",
    "        if n_human_players == 0:\n",
    "            self.playerX = ttt_player('computer', 'X')\n",
    "            self.playerO = ttt_player('computer', 'O')\n",
    "        elif n_human_players == 1:\n",
    "            self.playerX = ttt_player('human', 'X')\n",
    "            self.playerO = ttt_player('computer', 'O')\n",
    "        elif n_human_players == 2:\n",
    "            self.playerX = ttt_player('human', 'X')\n",
    "            self.playerO = ttt_player('human', 'O')\n",
    "        self.current_player = self.playerX\n",
    "        \n",
    "        \n",
    "    def take_a_turn(self):\n",
    "        print \"%s's turn:\" % self.current_player\n",
    "        move_index = self.current_player.get_move(self.board)\n",
    "        self.board.update(move_index, self.current_player.mark)\n",
    "        if self.current_player == self.playerX:\n",
    "            self.current_player = self.playerO\n",
    "        else:\n",
    "            self.current_player = self.playerX\n",
    "        print self.board\n",
    "        \n",
    "        \n",
    "    def game_outcome(self):\n",
    "        win_totals = [7, 56, 448, 73, 146, 292, 273, 84]\n",
    "        X_total = self.board.get_player_total('X')\n",
    "        O_total = self.board.get_player_total('O')\n",
    "        for val in win_totals:\n",
    "            if X_total & val == val:\n",
    "                return 'Player X wins!'\n",
    "            if O_total & val == val:\n",
    "                return 'Player O wins!'\n",
    "        if '_' not in self.board.spaces:\n",
    "            return 'The game is a tie!'\n",
    "        return None\n",
    "\n",
    "        \n",
    "def main():\n",
    "    game = ttt_game(2)\n",
    "    print game.board\n",
    "    outcome = game.game_outcome()\n",
    "\n",
    "    while not outcome:\n",
    "        game.take_a_turn()\n",
    "        outcome = game.game_outcome()\n",
    "        \n",
    "    print outcome\n",
    "    \n",
    "    "
   ]
  },
  {
   "cell_type": "code",
   "execution_count": 4,
   "metadata": {
    "collapsed": false
   },
   "outputs": [],
   "source": [
    "# Possible new version of get_move()\n",
    "    def get_move(self, board):\n",
    "        if self.player_type == 'human':\n",
    "            while True:\n",
    "                try:\n",
    "                    row_index, col_index = eval(raw_input( \\\n",
    "                                \"Enter the row and column you want to make a mark in, using the format x,y \"))\n",
    "                    # Get correct index in the board list, adjusting for 0-indexing\n",
    "                    move_index = (row_index-1)*3 + col_index - 1\n",
    "                    if board.spaces[move_index] == '_':\n",
    "                        return move_index\n",
    "                except:\n",
    "                    pass\n",
    "                print \"Invalid move.\\n\"\n",
    "        \n",
    "        # Make Computer player decision\n",
    "        possible_move_indices = [i for i, x in enumerate(board.spaces) if x == '_']\n",
    "        if choice(range(10) == 1):     # 10% chance of randomly choosing a move\n",
    "            move_index = choice(possible_move_indices)\n",
    "            prev_state = board.spaces[:]\n",
    "            prev_state[move_index] = self.mark    # Store this in the Player object?\n",
    "            return move_index\n",
    "        \n",
    "        max_prob = 0\n",
    "        for i in possible_move_indices:\n",
    "            state = board.spaces[:]\n",
    "            state[i] = self.mark\n",
    "            if self.policy[state] > max_prob:\n",
    "                move_index = i\n",
    "                max_prob = self.policy[state]\n",
    "        update_policy(prev_state, max_prob)   # Create a function that does this   \n",
    "        # Set new prev_state here?\n",
    "        return move_index\n",
    "            "
   ]
  },
  {
   "cell_type": "markdown",
   "metadata": {},
   "source": [
    "## Next steps:  \n",
    "- Ok, so at this point, get_move() is all messed up. The Player needs to be able to evaluate the outcome of a future move in order to fill his/her policy for wins/losses, but the Board.get_player_total() method makes that hard for a Player to do. At this point it makes sense to have the Board be completely uninvolved in evaluating Players.  \n",
    "-- Do Players AND Game both evaluate the game outcome??  \n",
    "-- I can try writing a pseudo-code function that chooses moves assuming the policy is completely filled in. Then add to the code for when the policy isn't filled in. Also fix the prev_state thing.  \n",
    "- how do I do temporal difference learning on player X's last move before player O wins? Do I need to send outcome info to each player after every turn?  \n",
    "-- I think should send an update signal when the game ends. Give a 1 for winning, 0 for losing, andn .5 for tie.  \n",
    "-- Currently, take_a_turn() and get_move() focuses on making moves but not updating the Players' knowledge. How would I write this flow if I were doing it from scratch? Separate out the \"take a turn\" and \"update Player knowledge\" concepts?\n",
    "- how does player keep track of policy updates? Knowing that it should update the previous state's action probability? I think the answer is yes. Player should store \"exploratory_move\" (yes/no), as well as \"previous_board_state.\" Then do temporal difference learning if appropriate on next turn.\n",
    "\n",
    "for reference: http://mamallamacoding.blogspot.com/2014/03/making-tictactoe-with-object-oriented.html"
   ]
  },
  {
   "cell_type": "markdown",
   "metadata": {},
   "source": [
    "### Outline:\n",
    "- Game  \n",
    "-- instantiates new Players, or accesses provided Players  \n",
    "-- assigns marks to Players  \n",
    "-- instantiates the Board  \n",
    "-- keeps track of whose turn it is  \n",
    "-- passes Board to Players when asking for a move, then updates Board with move  \n",
    "-- keeps track of game outcome\n",
    "- Board  \n",
    "-- returns totals for each Player\n",
    "- Player  \n",
    "-- can exist on its own outside of Game  \n",
    "-- has a policy  \n",
    "-- selects a move  \n",
    "-- remembers Board state from Player's previous move, and updates policy if needed  "
   ]
  },
  {
   "cell_type": "code",
   "execution_count": 20,
   "metadata": {
    "collapsed": false
   },
   "outputs": [
    {
     "name": "stdout",
     "output_type": "stream",
     "text": [
      "['X', '_', '_', '_', 'O', '_', '_', '_', '_']\n"
     ]
    },
    {
     "data": {
      "text/plain": [
       "6"
      ]
     },
     "execution_count": 20,
     "metadata": {},
     "output_type": "execute_result"
    }
   ],
   "source": [
    "p1 = ttt_player('computer', 'X')\n",
    "b = ttt_board()\n",
    "b.update(0, 'X')\n",
    "b.update(4, 'O')\n",
    "p1.get_next_states(b.spaces)\n",
    "print b.spaces\n",
    "choice([i for i, x in enumerate(b.spaces) if x == '_'])"
   ]
  },
  {
   "cell_type": "code",
   "execution_count": 13,
   "metadata": {
    "collapsed": true
   },
   "outputs": [],
   "source": [
    "game = ttt_game(2)"
   ]
  },
  {
   "cell_type": "code",
   "execution_count": 63,
   "metadata": {
    "collapsed": false
   },
   "outputs": [
    {
     "name": "stdout",
     "output_type": "stream",
     "text": [
      "_ _ _\n",
      "_ _ _\n",
      "_ _ _\n",
      " human human\n"
     ]
    }
   ],
   "source": [
    "print game.board, game.playerX.player_type, game.playerO.player_type"
   ]
  },
  {
   "cell_type": "code",
   "execution_count": 9,
   "metadata": {
    "collapsed": false
   },
   "outputs": [
    {
     "name": "stdout",
     "output_type": "stream",
     "text": [
      "_ _ _\n",
      "_ _ _\n",
      "_ _ _\n",
      "\n",
      "Player X's turn:\n",
      "Enter the row and column you want to make a mark in, using the format x,y 1,1\n",
      "X _ _\n",
      "_ _ _\n",
      "_ _ _\n",
      "\n",
      "Player O's turn:\n",
      "Enter the row and column you want to make a mark in, using the format x,y 2,1\n",
      "X _ _\n",
      "O _ _\n",
      "_ _ _\n",
      "\n",
      "Player X's turn:\n",
      "Enter the row and column you want to make a mark in, using the format x,y 1,2\n",
      "X X _\n",
      "O _ _\n",
      "_ _ _\n",
      "\n",
      "Player O's turn:\n",
      "Enter the row and column you want to make a mark in, using the format x,y 2,2\n",
      "X X _\n",
      "O O _\n",
      "_ _ _\n",
      "\n",
      "Player X's turn:\n",
      "Enter the row and column you want to make a mark in, using the format x,y 3,1\n",
      "X X _\n",
      "O O _\n",
      "X _ _\n",
      "\n",
      "Player O's turn:\n",
      "Enter the row and column you want to make a mark in, using the format x,y 3,2\n",
      "X X _\n",
      "O O _\n",
      "X O _\n",
      "\n",
      "Player X's turn:\n",
      "Enter the row and column you want to make a mark in, using the format x,y 1,3\n",
      "X X X\n",
      "O O _\n",
      "X O _\n",
      "\n",
      "Player X wins!\n"
     ]
    }
   ],
   "source": [
    "main()"
   ]
  },
  {
   "cell_type": "code",
   "execution_count": null,
   "metadata": {
    "collapsed": false
   },
   "outputs": [],
   "source": []
  },
  {
   "cell_type": "code",
   "execution_count": null,
   "metadata": {
    "collapsed": true
   },
   "outputs": [],
   "source": []
  }
 ],
 "metadata": {
  "anaconda-cloud": {},
  "kernelspec": {
   "display_name": "Python [conda root]",
   "language": "python",
   "name": "conda-root-py"
  },
  "language_info": {
   "codemirror_mode": {
    "name": "ipython",
    "version": 2
   },
   "file_extension": ".py",
   "mimetype": "text/x-python",
   "name": "python",
   "nbconvert_exporter": "python",
   "pygments_lexer": "ipython2",
   "version": "2.7.12"
  }
 },
 "nbformat": 4,
 "nbformat_minor": 1
}
