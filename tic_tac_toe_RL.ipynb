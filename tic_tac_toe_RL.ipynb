{
 "cells": [
  {
   "cell_type": "code",
   "execution_count": 1,
   "metadata": {},
   "outputs": [],
   "source": [
    "import numpy as np\n",
    "import matplotlib.pyplot as plt\n",
    "import pandas as pd\n",
    "from numpy.random import choice\n",
    "import warnings\n",
    "from tictactoe import *\n",
    "from tictactoe_helper import *\n",
    "import imp\n",
    "\n",
    "%matplotlib inline"
   ]
  },
  {
   "cell_type": "markdown",
   "metadata": {
    "collapsed": true
   },
   "source": [
    "https://www.neverstopbuilding.com/blog/2013/12/13/tic-tac-toe-understanding-the-minimax-algorithm13  \n",
    "https://github.com/khpeek/Q-learning-Tic-Tac-Toe"
   ]
  },
  {
   "cell_type": "markdown",
   "metadata": {},
   "source": [
    "### Outline:\n",
    "- Game  \n",
    "-- instantiates new Players, or accesses provided Players    \n",
    "-- instantiates the Board  \n",
    "-- keeps track of whose turn it is  \n",
    "-- passes Board to Players when asking for a move, then updates Board with move  \n",
    "-- keeps track of game outcome\n",
    "- Board  \n",
    "-- the board that is updated over the course of the game\n",
    "- Player  \n",
    "-- can exist on its own outside of Game  \n",
    "-- has a policy  \n",
    "-- selects a move  \n",
    "-- can calculate if a board state is a win/loss/tie\n",
    "-- remembers Board state from Player's previous move, and updates policy if needed  \n",
    "-- if set to 'human', the Player just asks the human for input for each move"
   ]
  },
  {
   "cell_type": "code",
   "execution_count": 10,
   "metadata": {},
   "outputs": [],
   "source": [
    "player1 = ttt_player('computer', 'X', epsilon=.9)\n",
    "player2 = ttt_player('computer', 'O', epsilon=1)\n",
    "#player2.alpha = 0"
   ]
  },
  {
   "cell_type": "code",
   "execution_count": 3,
   "metadata": {},
   "outputs": [
    {
     "data": {
      "text/plain": [
       "0.234"
      ]
     },
     "execution_count": 3,
     "metadata": {},
     "output_type": "execute_result"
    }
   ],
   "source": [
    "from decimal import Decimal\n",
    "a = round(.234234, 3)\n",
    "b = round(.234123, 3)\n",
    "b"
   ]
  },
  {
   "cell_type": "code",
   "execution_count": 11,
   "metadata": {},
   "outputs": [
    {
     "name": "stdout",
     "output_type": "stream",
     "text": [
      "CPU times: user 3min 34s, sys: 1.89 s, total: 3min 36s\n",
      "Wall time: 3min 42s\n"
     ]
    }
   ],
   "source": [
    "%%time\n",
    "p1_2_training_game = train_computer_players(player1, player2, n_games=800000)\n",
    "# 6 min with np.allclose\n",
    "# 1 min 26s with round 3\n",
    "# 1 min 25s with round 5"
   ]
  },
  {
   "cell_type": "code",
   "execution_count": 14,
   "metadata": {},
   "outputs": [],
   "source": [
    "#p1_2_real_game = train_computer_players(player1, player2, n_games=100000, adj_pO_epsilon=False, adj_pX_epsilon=False)"
   ]
  },
  {
   "cell_type": "code",
   "execution_count": 5,
   "metadata": {
    "scrolled": true
   },
   "outputs": [
    {
     "name": "stdout",
     "output_type": "stream",
     "text": [
      "_ _ _\n",
      "_ _ _\n",
      "_ _ _\n",
      "Initial board state\n",
      "\n",
      "X _ _\n",
      "_ _ _\n",
      "_ _ _\n",
      "Win probability = 0.50017000000000000\n",
      "\n",
      "_ X _\n",
      "_ _ _\n",
      "_ _ _\n",
      "Win probability = 0.50017000000000000\n",
      "\n",
      "_ _ X\n",
      "_ _ _\n",
      "_ _ _\n",
      "Win probability = 0.50017000000000000\n",
      "\n",
      "_ _ _\n",
      "X _ _\n",
      "_ _ _\n",
      "Win probability = 0.50017000000000000\n",
      "\n",
      "_ _ _\n",
      "_ X _\n",
      "_ _ _\n",
      "Win probability = 0.50017000000000000\n",
      "\n",
      "_ _ _\n",
      "_ _ X\n",
      "_ _ _\n",
      "Win probability = 0.50017000000000000\n",
      "\n",
      "_ _ _\n",
      "_ _ _\n",
      "X _ _\n",
      "Win probability = 0.50017000000000000\n",
      "\n",
      "_ _ _\n",
      "_ _ _\n",
      "_ X _\n",
      "Win probability = 0.50017000000000000\n",
      "\n",
      "_ _ _\n",
      "_ _ _\n",
      "_ _ X\n",
      "Win probability = 0.50017000000000000\n",
      "\n"
     ]
    }
   ],
   "source": [
    "# round 5, less exploration in training\n",
    "state = ['_', '_', '_', '_', '_', '_', '_', '_', '_']\n",
    "explore_policy(state, player1)"
   ]
  },
  {
   "cell_type": "code",
   "execution_count": 6,
   "metadata": {
    "scrolled": true
   },
   "outputs": [
    {
     "name": "stdout",
     "output_type": "stream",
     "text": [
      "_ _ _\n",
      "_ _ _\n",
      "_ _ _\n",
      "Initial board state\n",
      "\n",
      "X _ _\n",
      "_ _ _\n",
      "_ _ _\n",
      "Win probability = 0.50017000000000000\n",
      "\n",
      "_ X _\n",
      "_ _ _\n",
      "_ _ _\n",
      "Win probability = 0.50017000000000000\n",
      "\n",
      "_ _ X\n",
      "_ _ _\n",
      "_ _ _\n",
      "Win probability = 0.50017000000000000\n",
      "\n",
      "_ _ _\n",
      "X _ _\n",
      "_ _ _\n",
      "Win probability = 0.50017000000000000\n",
      "\n",
      "_ _ _\n",
      "_ X _\n",
      "_ _ _\n",
      "Win probability = 0.50017000000000000\n",
      "\n",
      "_ _ _\n",
      "_ _ X\n",
      "_ _ _\n",
      "Win probability = 0.50017000000000000\n",
      "\n",
      "_ _ _\n",
      "_ _ _\n",
      "X _ _\n",
      "Win probability = 0.50017000000000000\n",
      "\n",
      "_ _ _\n",
      "_ _ _\n",
      "_ X _\n",
      "Win probability = 0.50017000000000000\n",
      "\n",
      "_ _ _\n",
      "_ _ _\n",
      "_ _ X\n",
      "Win probability = 0.50017000000000000\n",
      "\n"
     ]
    }
   ],
   "source": [
    "# round 5\n",
    "state = ['_', '_', '_', '_', '_', '_', '_', '_', '_']\n",
    "explore_policy(state, player1)"
   ]
  },
  {
   "cell_type": "code",
   "execution_count": 4,
   "metadata": {
    "scrolled": true
   },
   "outputs": [
    {
     "name": "stdout",
     "output_type": "stream",
     "text": [
      "_ _ _\n",
      "_ _ _\n",
      "_ _ _\n",
      "Initial board state\n",
      "\n",
      "X _ _\n",
      "_ _ _\n",
      "_ _ _\n",
      "Win probability = 0.51600000000000001\n",
      "\n",
      "_ X _\n",
      "_ _ _\n",
      "_ _ _\n",
      "Win probability = 0.51600000000000001\n",
      "\n",
      "_ _ X\n",
      "_ _ _\n",
      "_ _ _\n",
      "Win probability = 0.51600000000000001\n",
      "\n",
      "_ _ _\n",
      "X _ _\n",
      "_ _ _\n",
      "Win probability = 0.51600000000000001\n",
      "\n",
      "_ _ _\n",
      "_ X _\n",
      "_ _ _\n",
      "Win probability = 0.51600000000000001\n",
      "\n",
      "_ _ _\n",
      "_ _ X\n",
      "_ _ _\n",
      "Win probability = 0.51600000000000001\n",
      "\n",
      "_ _ _\n",
      "_ _ _\n",
      "X _ _\n",
      "Win probability = 0.51600000000000001\n",
      "\n",
      "_ _ _\n",
      "_ _ _\n",
      "_ X _\n",
      "Win probability = 0.51600000000000001\n",
      "\n",
      "_ _ _\n",
      "_ _ _\n",
      "_ _ X\n",
      "Win probability = 0.51600000000000001\n",
      "\n"
     ]
    }
   ],
   "source": [
    "# round 3\n",
    "state = ['_', '_', '_', '_', '_', '_', '_', '_', '_']\n",
    "explore_policy(state, player1)"
   ]
  },
  {
   "cell_type": "code",
   "execution_count": 12,
   "metadata": {
    "scrolled": true
   },
   "outputs": [
    {
     "name": "stdout",
     "output_type": "stream",
     "text": [
      "X _ _\n",
      "_ _ _\n",
      "_ _ _\n",
      "Initial board state\n",
      "\n",
      "X O _\n",
      "_ _ _\n",
      "_ _ _\n",
      "Win probability = 0.13139000000000001\n",
      "\n",
      "X _ O\n",
      "_ _ _\n",
      "_ _ _\n",
      "Win probability = 0.29890000000000000\n",
      "\n",
      "X _ _\n",
      "O _ _\n",
      "_ _ _\n",
      "Win probability = 0.22916000000000000\n",
      "\n",
      "X _ _\n",
      "_ O _\n",
      "_ _ _\n",
      "Win probability = 0.50012999999999996\n",
      "\n",
      "X _ _\n",
      "_ _ O\n",
      "_ _ _\n",
      "Win probability = 0.30012000000000000\n",
      "\n",
      "X _ _\n",
      "_ _ _\n",
      "O _ _\n",
      "Win probability = 0.22486999999999999\n",
      "\n",
      "X _ _\n",
      "_ _ _\n",
      "_ O _\n",
      "Win probability = 0.26444000000000001\n",
      "\n",
      "X _ _\n",
      "_ _ _\n",
      "_ _ O\n",
      "Win probability = 0.33723999999999998\n",
      "\n"
     ]
    }
   ],
   "source": [
    "# round 5, less exploration in training\n",
    "state = ['X', '_', '_', '_', '_', '_', '_', '_', '_']\n",
    "explore_policy(state, player2)"
   ]
  },
  {
   "cell_type": "code",
   "execution_count": 7,
   "metadata": {
    "scrolled": true
   },
   "outputs": [
    {
     "name": "stdout",
     "output_type": "stream",
     "text": [
      "X _ _\n",
      "_ _ _\n",
      "_ _ _\n",
      "Initial board state\n",
      "\n",
      "X O _\n",
      "_ _ _\n",
      "_ _ _\n",
      "Win probability = 0.26768999999999998\n",
      "\n",
      "X _ O\n",
      "_ _ _\n",
      "_ _ _\n",
      "Win probability = 0.30551000000000000\n",
      "\n",
      "X _ _\n",
      "O _ _\n",
      "_ _ _\n",
      "Win probability = 0.20562000000000000\n",
      "\n",
      "X _ _\n",
      "_ O _\n",
      "_ _ _\n",
      "Win probability = 0.50012999999999996\n",
      "\n",
      "X _ _\n",
      "_ _ O\n",
      "_ _ _\n",
      "Win probability = 0.39195999999999998\n",
      "\n",
      "X _ _\n",
      "_ _ _\n",
      "O _ _\n",
      "Win probability = 0.31724000000000002\n",
      "\n",
      "X _ _\n",
      "_ _ _\n",
      "_ O _\n",
      "Win probability = 0.26093000000000000\n",
      "\n",
      "X _ _\n",
      "_ _ _\n",
      "_ _ O\n",
      "Win probability = 0.29464000000000001\n",
      "\n"
     ]
    }
   ],
   "source": [
    "# round 5\n",
    "state = ['X', '_', '_', '_', '_', '_', '_', '_', '_']\n",
    "explore_policy(state, player2)"
   ]
  },
  {
   "cell_type": "code",
   "execution_count": 5,
   "metadata": {
    "scrolled": true
   },
   "outputs": [
    {
     "name": "stdout",
     "output_type": "stream",
     "text": [
      "X _ _\n",
      "_ _ _\n",
      "_ _ _\n",
      "Initial board state\n",
      "\n",
      "X O _\n",
      "_ _ _\n",
      "_ _ _\n",
      "Win probability = 0.22800000000000001\n",
      "\n",
      "X _ O\n",
      "_ _ _\n",
      "_ _ _\n",
      "Win probability = 0.22100000000000000\n",
      "\n",
      "X _ _\n",
      "O _ _\n",
      "_ _ _\n",
      "Win probability = 0.19000000000000000\n",
      "\n",
      "X _ _\n",
      "_ O _\n",
      "_ _ _\n",
      "Win probability = 0.51200000000000001\n",
      "\n",
      "X _ _\n",
      "_ _ O\n",
      "_ _ _\n",
      "Win probability = 0.23200000000000001\n",
      "\n",
      "X _ _\n",
      "_ _ _\n",
      "O _ _\n",
      "Win probability = 0.23300000000000001\n",
      "\n",
      "X _ _\n",
      "_ _ _\n",
      "_ O _\n",
      "Win probability = 0.26200000000000001\n",
      "\n",
      "X _ _\n",
      "_ _ _\n",
      "_ _ O\n",
      "Win probability = 0.23400000000000001\n",
      "\n"
     ]
    }
   ],
   "source": [
    "# round 3\n",
    "state = ['X', '_', '_', '_', '_', '_', '_', '_', '_']\n",
    "explore_policy(state, player2)"
   ]
  },
  {
   "cell_type": "code",
   "execution_count": 6,
   "metadata": {
    "scrolled": true
   },
   "outputs": [
    {
     "name": "stdout",
     "output_type": "stream",
     "text": [
      "X _ _\n",
      "_ _ _\n",
      "_ _ _\n",
      "Initial board state\n",
      "\n",
      "X O _\n",
      "_ _ _\n",
      "_ _ _\n",
      "Win probability = 0.19400000000000001\n",
      "\n",
      "X _ O\n",
      "_ _ _\n",
      "_ _ _\n",
      "Win probability = 0.31800000000000000\n",
      "\n",
      "X _ _\n",
      "O _ _\n",
      "_ _ _\n",
      "Win probability = 0.23400000000000001\n",
      "\n",
      "X _ _\n",
      "_ O _\n",
      "_ _ _\n",
      "Win probability = 0.51200000000000001\n",
      "\n",
      "X _ _\n",
      "_ _ O\n",
      "_ _ _\n",
      "Win probability = 0.22800000000000001\n",
      "\n",
      "X _ _\n",
      "_ _ _\n",
      "O _ _\n",
      "Win probability = 0.28799999999999998\n",
      "\n",
      "X _ _\n",
      "_ _ _\n",
      "_ O _\n",
      "Win probability = 0.34200000000000003\n",
      "\n",
      "X _ _\n",
      "_ _ _\n",
      "_ _ O\n",
      "Win probability = 0.18700000000000000\n",
      "\n"
     ]
    }
   ],
   "source": [
    "state = ['X', '_', '_', '_', '_', '_', '_', '_', '_']\n",
    "explore_policy(state, player2)"
   ]
  },
  {
   "cell_type": "code",
   "execution_count": 15,
   "metadata": {
    "scrolled": true
   },
   "outputs": [
    {
     "name": "stdout",
     "output_type": "stream",
     "text": [
      "X O _\n",
      "_ _ _\n",
      "_ _ _\n",
      "Initial board state\n",
      "\n",
      "X O X\n",
      "_ _ _\n",
      "_ _ _\n",
      "Win probability = 0.58716000000000002\n",
      "\n",
      "X O _\n",
      "X _ _\n",
      "_ _ _\n",
      "Win probability = 0.99995999999999996\n",
      "\n",
      "X O _\n",
      "_ X _\n",
      "_ _ _\n",
      "Win probability = 0.99992999999999999\n",
      "\n",
      "X O _\n",
      "_ _ X\n",
      "_ _ _\n",
      "Win probability = 0.79479999999999995\n",
      "\n",
      "X O _\n",
      "_ _ _\n",
      "X _ _\n",
      "Win probability = 0.99995999999999996\n",
      "\n",
      "X O _\n",
      "_ _ _\n",
      "_ X _\n",
      "Win probability = 0.50246999999999997\n",
      "\n",
      "X O _\n",
      "_ _ _\n",
      "_ _ X\n",
      "Win probability = 0.71940000000000004\n",
      "\n"
     ]
    }
   ],
   "source": [
    "# round 5, less exploration in training\n",
    "state = ['X', 'O', '_', '_', '_', '_', '_', '_', '_']\n",
    "explore_policy(state, player1)"
   ]
  },
  {
   "cell_type": "code",
   "execution_count": 8,
   "metadata": {
    "scrolled": true
   },
   "outputs": [
    {
     "name": "stdout",
     "output_type": "stream",
     "text": [
      "X O _\n",
      "_ _ _\n",
      "_ _ _\n",
      "Initial board state\n",
      "\n",
      "X O X\n",
      "_ _ _\n",
      "_ _ _\n",
      "Win probability = 0.63527000000000000\n",
      "\n",
      "X O _\n",
      "X _ _\n",
      "_ _ _\n",
      "Win probability = 0.97238999999999998\n",
      "\n",
      "X O _\n",
      "_ X _\n",
      "_ _ _\n",
      "Win probability = 0.99873000000000001\n",
      "\n",
      "X O _\n",
      "_ _ X\n",
      "_ _ _\n",
      "Win probability = 0.74077999999999999\n",
      "\n",
      "X O _\n",
      "_ _ _\n",
      "X _ _\n",
      "Win probability = 0.99995999999999996\n",
      "\n",
      "X O _\n",
      "_ _ _\n",
      "_ X _\n",
      "Win probability = 0.50048000000000004\n",
      "\n",
      "X O _\n",
      "_ _ _\n",
      "_ _ X\n",
      "Win probability = 0.73607000000000000\n",
      "\n"
     ]
    }
   ],
   "source": [
    "# round 5\n",
    "state = ['X', 'O', '_', '_', '_', '_', '_', '_', '_']\n",
    "explore_policy(state, player1)"
   ]
  },
  {
   "cell_type": "code",
   "execution_count": 6,
   "metadata": {
    "scrolled": true
   },
   "outputs": [
    {
     "name": "stdout",
     "output_type": "stream",
     "text": [
      "X O _\n",
      "_ _ _\n",
      "_ _ _\n",
      "Initial board state\n",
      "\n",
      "X O X\n",
      "_ _ _\n",
      "_ _ _\n",
      "Win probability = 0.66100000000000003\n",
      "\n",
      "X O _\n",
      "X _ _\n",
      "_ _ _\n",
      "Win probability = 0.99600000000000000\n",
      "\n",
      "X O _\n",
      "_ X _\n",
      "_ _ _\n",
      "Win probability = 0.99600000000000000\n",
      "\n",
      "X O _\n",
      "_ _ X\n",
      "_ _ _\n",
      "Win probability = 0.76500000000000001\n",
      "\n",
      "X O _\n",
      "_ _ _\n",
      "X _ _\n",
      "Win probability = 0.94699999999999995\n",
      "\n",
      "X O _\n",
      "_ _ _\n",
      "_ X _\n",
      "Win probability = 0.59599999999999997\n",
      "\n",
      "X O _\n",
      "_ _ _\n",
      "_ _ X\n",
      "Win probability = 0.70799999999999996\n",
      "\n"
     ]
    }
   ],
   "source": [
    "# round 3\n",
    "state = ['X', 'O', '_', '_', '_', '_', '_', '_', '_']\n",
    "explore_policy(state, player1)"
   ]
  },
  {
   "cell_type": "code",
   "execution_count": 8,
   "metadata": {
    "scrolled": true
   },
   "outputs": [
    {
     "name": "stdout",
     "output_type": "stream",
     "text": [
      "_ _ _\n",
      "X _ _\n",
      "_ _ _\n",
      "Initial board state\n",
      "\n",
      "O _ _\n",
      "X _ _\n",
      "_ _ _\n",
      "Win probability = 0.50001414832167068\n",
      "\n",
      "_ O _\n",
      "X _ _\n",
      "_ _ _\n",
      "Win probability = 0.28616200204709702\n",
      "\n",
      "_ _ O\n",
      "X _ _\n",
      "_ _ _\n",
      "Win probability = 0.38382233248558001\n",
      "\n",
      "_ _ _\n",
      "X O _\n",
      "_ _ _\n",
      "Win probability = 0.50000891392253322\n",
      "\n",
      "_ _ _\n",
      "X _ O\n",
      "_ _ _\n",
      "Win probability = 0.50001442069110003\n",
      "\n",
      "_ _ _\n",
      "X _ _\n",
      "O _ _\n",
      "Win probability = 0.50068053430214110\n",
      "\n",
      "_ _ _\n",
      "X _ _\n",
      "_ O _\n",
      "Win probability = 0.22228104457487960\n",
      "\n",
      "_ _ _\n",
      "X _ _\n",
      "_ _ O\n",
      "Win probability = 0.31550165713188472\n",
      "\n"
     ]
    }
   ],
   "source": [
    "state = ['_', '_', '_', 'X', '_', '_', '_', '_', '_']\n",
    "explore_policy(state, player2)"
   ]
  },
  {
   "cell_type": "code",
   "execution_count": 8,
   "metadata": {
    "scrolled": true
   },
   "outputs": [
    {
     "name": "stdout",
     "output_type": "stream",
     "text": [
      "_ _ _\n",
      "X _ _\n",
      "_ _ _\n",
      "Initial board state\n",
      "\n",
      "O _ _\n",
      "X _ _\n",
      "_ _ _\n",
      "Win probability = 0.51100000000000001\n",
      "\n",
      "_ O _\n",
      "X _ _\n",
      "_ _ _\n",
      "Win probability = 0.22600000000000001\n",
      "\n",
      "_ _ O\n",
      "X _ _\n",
      "_ _ _\n",
      "Win probability = 0.42399999999999999\n",
      "\n",
      "_ _ _\n",
      "X O _\n",
      "_ _ _\n",
      "Win probability = 0.51200000000000001\n",
      "\n",
      "_ _ _\n",
      "X _ O\n",
      "_ _ _\n",
      "Win probability = 0.51100000000000001\n",
      "\n",
      "_ _ _\n",
      "X _ _\n",
      "O _ _\n",
      "Win probability = 0.51100000000000001\n",
      "\n",
      "_ _ _\n",
      "X _ _\n",
      "_ O _\n",
      "Win probability = 0.37200000000000000\n",
      "\n",
      "_ _ _\n",
      "X _ _\n",
      "_ _ O\n",
      "Win probability = 0.24199999999999999\n",
      "\n"
     ]
    }
   ],
   "source": [
    "# After real games\n",
    "state = ['_', '_', '_', 'X', '_', '_', '_', '_', '_']\n",
    "explore_policy(state, player2)"
   ]
  },
  {
   "cell_type": "code",
   "execution_count": 16,
   "metadata": {
    "scrolled": true
   },
   "outputs": [
    {
     "name": "stdout",
     "output_type": "stream",
     "text": [
      "_ X O\n",
      "_ X _\n",
      "O _ _\n",
      "Initial board state\n",
      "\n",
      "X X O\n",
      "_ X _\n",
      "O _ _\n",
      "Win probability = 0.99995999999999996\n",
      "\n",
      "_ X O\n",
      "X X _\n",
      "O _ _\n",
      "Win probability = 0.97382999999999997\n",
      "\n",
      "_ X O\n",
      "_ X X\n",
      "O _ _\n",
      "Win probability = 0.99768000000000001\n",
      "\n",
      "_ X O\n",
      "_ X _\n",
      "O X _\n",
      "Win probability = 1.00000000000000000\n",
      "\n",
      "_ X O\n",
      "_ X _\n",
      "O _ X\n",
      "Win probability = 0.99712999999999996\n",
      "\n"
     ]
    }
   ],
   "source": [
    "# round 5, less exploration in training\n",
    "state = ['_','X','O','_','X','_','O','_','_']\n",
    "explore_policy(state, player1)"
   ]
  },
  {
   "cell_type": "code",
   "execution_count": 39,
   "metadata": {},
   "outputs": [
    {
     "name": "stdout",
     "output_type": "stream",
     "text": [
      "_ _ _\n",
      "_ _ _\n",
      "_ _ _\n",
      "\n",
      "Player X's turn:\n",
      "best move ixs:  [0, 1, 2, 3, 4, 5, 6, 7, 8]\n",
      "max_prob:  0.5\n",
      "X _ _\n",
      "_ _ _\n",
      "_ _ _\n",
      "\n",
      "Player O's turn:\n",
      "Enter the row and column you want to make a mark in, using the format x,y 2,2\n",
      "X _ _\n",
      "_ O _\n",
      "_ _ _\n",
      "\n",
      "Player X's turn:\n",
      "best move ixs:  [1, 2, 3, 5, 6, 7, 8]\n",
      "max_prob:  0.5\n",
      "X _ _\n",
      "_ O _\n",
      "_ X _\n",
      "\n",
      "Player O's turn:\n",
      "Enter the row and column you want to make a mark in, using the format x,y 3,1\n",
      "X _ _\n",
      "_ O _\n",
      "O X _\n",
      "\n",
      "Player X's turn:\n",
      "best move ixs:  [2]\n",
      "max_prob:  0.5\n",
      "X _ X\n",
      "_ O _\n",
      "O X _\n",
      "\n",
      "Player O's turn:\n",
      "Enter the row and column you want to make a mark in, using the format x,y 1,2\n",
      "X O X\n",
      "_ O _\n",
      "O X _\n",
      "\n",
      "Player X's turn:\n",
      "best move ixs:  [3, 5, 8]\n",
      "max_prob:  0.5\n",
      "X O X\n",
      "_ O _\n",
      "O X X\n",
      "\n",
      "Player O's turn:\n",
      "Enter the row and column you want to make a mark in, using the format x,y 2,3\n",
      "X O X\n",
      "_ O O\n",
      "O X X\n",
      "\n",
      "Player X's turn:\n",
      "best move ixs:  [3]\n",
      "max_prob:  0.5\n",
      "X O X\n",
      "X O O\n",
      "O X X\n",
      "\n",
      "The game is a tie!\n"
     ]
    }
   ],
   "source": [
    "test_computer(player1, n_games=1)"
   ]
  },
  {
   "cell_type": "markdown",
   "metadata": {},
   "source": [
    "### Player 1 and Player 2 win stats"
   ]
  },
  {
   "cell_type": "code",
   "execution_count": 9,
   "metadata": {},
   "outputs": [],
   "source": [
    "p1_2_train_scores, p1_2_train_scores_agg = compute_player_stats(p1_2_training_game, 'playerO')"
   ]
  },
  {
   "cell_type": "code",
   "execution_count": 10,
   "metadata": {},
   "outputs": [
    {
     "data": {
      "image/png": "[encoded data removed]",
      "text/plain": [
       "<matplotlib.figure.Figure at 0x1047803d0>"
      ]
     },
     "metadata": {},
     "output_type": "display_data"
    }
   ],
   "source": [
    "p1_2_train_scores_agg.plot()\n",
    "plt.title('Player 2 proportion of win/draw games in every 2000 training games')\n",
    "plt.xlabel('Group');"
   ]
  },
  {
   "cell_type": "code",
   "execution_count": 11,
   "metadata": {},
   "outputs": [],
   "source": [
    "player1.set_epsilon(0)\n",
    "player2.set_epsilon(0)\n",
    "p1_2_real_game = train_computer_players(player1, player2, n_games=20000, adj_pX_epsilon=False, adj_pO_epsilon=False)"
   ]
  },
  {
   "cell_type": "code",
   "execution_count": 12,
   "metadata": {},
   "outputs": [],
   "source": [
    "p1_2_real_scores, p1_2_real_scores_agg = compute_player_stats(p1_2_real_game, 'playerX')"
   ]
  },
  {
   "cell_type": "code",
   "execution_count": 13,
   "metadata": {},
   "outputs": [
    {
     "data": {
      "image/png": "[encoded data removed]",
      "text/plain": [
       "<matplotlib.figure.Figure at 0x10db7e210>"
      ]
     },
     "metadata": {},
     "output_type": "display_data"
    }
   ],
   "source": [
    "p1_2_real_scores_agg.plot()\n",
    "plt.title('Player 1 proportion of win/draw games in every 200 real games');"
   ]
  },
  {
   "cell_type": "code",
   "execution_count": 14,
   "metadata": {},
   "outputs": [
    {
     "data": {
      "text/plain": [
       "0.5"
      ]
     },
     "execution_count": 14,
     "metadata": {},
     "output_type": "execute_result"
    }
   ],
   "source": [
    "p1_2_real_scores.score.mean()"
   ]
  },
  {
   "cell_type": "markdown",
   "metadata": {},
   "source": [
    "### Player 3 win stats"
   ]
  },
  {
   "cell_type": "code",
   "execution_count": 15,
   "metadata": {},
   "outputs": [],
   "source": [
    "player3 = ttt_player('computer', 'O', epsilon=.9)"
   ]
  },
  {
   "cell_type": "code",
   "execution_count": 16,
   "metadata": {},
   "outputs": [],
   "source": [
    "player1.set_epsilon(0)\n",
    "player1.alpha = 0\n",
    "p1_3_training_game = train_computer_players(player1, player3, adj_pX_epsilon=False)"
   ]
  },
  {
   "cell_type": "code",
   "execution_count": 17,
   "metadata": {},
   "outputs": [
    {
     "data": {
      "text/plain": [
       "1496"
      ]
     },
     "execution_count": 17,
     "metadata": {},
     "output_type": "execute_result"
    }
   ],
   "source": [
    "len(player3.policy)\n"
   ]
  },
  {
   "cell_type": "code",
   "execution_count": 55,
   "metadata": {
    "scrolled": true
   },
   "outputs": [
    {
     "name": "stdout",
     "output_type": "stream",
     "text": [
      "X _ _\n",
      "_ _ _\n",
      "_ _ _\n",
      "Initial board state\n",
      "\n",
      "X O _\n",
      "_ _ _\n",
      "_ _ _\n",
      "Win probability = 0.00000000011908208\n",
      "\n",
      "X _ O\n",
      "_ _ _\n",
      "_ _ _\n",
      "Win probability = 0.00000000001614477\n",
      "\n",
      "X _ _\n",
      "O _ _\n",
      "_ _ _\n",
      "Win probability = 0.00000000039924351\n",
      "\n",
      "X _ _\n",
      "_ O _\n",
      "_ _ _\n",
      "Win probability = 0.50000000000000000\n",
      "\n",
      "X _ _\n",
      "_ _ O\n",
      "_ _ _\n",
      "Win probability = 0.00000000000690413\n",
      "\n",
      "X _ _\n",
      "_ _ _\n",
      "O _ _\n",
      "Win probability = 0.00000000101490790\n",
      "\n",
      "X _ _\n",
      "_ _ _\n",
      "_ O _\n",
      "Win probability = 0.00000000420971647\n",
      "\n",
      "X _ _\n",
      "_ _ _\n",
      "_ _ O\n",
      "Win probability = 0.00000000627944241\n",
      "\n"
     ]
    }
   ],
   "source": [
    "state = ['X', '_', '_', '_', '_', '_', '_', '_', '_']\n",
    "explore_policy(state, player3)"
   ]
  },
  {
   "cell_type": "code",
   "execution_count": 19,
   "metadata": {},
   "outputs": [],
   "source": [
    "p1_3_train_scores, p1_3_train_scores_agg = compute_player_stats(p1_3_training_game, 'playerO')"
   ]
  },
  {
   "cell_type": "code",
   "execution_count": 20,
   "metadata": {},
   "outputs": [
    {
     "data": {
      "image/png": "[encoded data removed]",
      "text/plain": [
       "<matplotlib.figure.Figure at 0x1121bec50>"
      ]
     },
     "metadata": {},
     "output_type": "display_data"
    }
   ],
   "source": [
    "p1_3_train_scores_agg.plot()\n",
    "plt.title('Player 3 proportion of win/draw games in every 2000 training games');"
   ]
  },
  {
   "cell_type": "code",
   "execution_count": 21,
   "metadata": {},
   "outputs": [],
   "source": [
    "player3.set_epsilon(0)\n",
    "p1_3_real_game = train_computer_players(player1, player3, n_games=20000, adj_pX_epsilon=False, adj_pO_epsilon=False)"
   ]
  },
  {
   "cell_type": "code",
   "execution_count": 22,
   "metadata": {},
   "outputs": [],
   "source": [
    "p1_3_real_scores, p1_3_real_scores_agg = compute_player_stats(p1_3_real_game, 'playerO')"
   ]
  },
  {
   "cell_type": "code",
   "execution_count": 23,
   "metadata": {},
   "outputs": [
    {
     "data": {
      "image/png": "[encoded data removed]",
      "text/plain": [
       "<matplotlib.figure.Figure at 0x11255ea90>"
      ]
     },
     "metadata": {},
     "output_type": "display_data"
    }
   ],
   "source": [
    "p1_3_real_scores_agg.plot()\n",
    "plt.title('Player 3 proportion of win/draw games in every 200 real games')\n",
    "plt.ylim(0,1.1);"
   ]
  },
  {
   "cell_type": "code",
   "execution_count": 24,
   "metadata": {},
   "outputs": [],
   "source": [
    "p1_3_more_training = train_computer_players(player1, player3, n_games=50000,\n",
    "                                            adj_pX_epsilon=False, adj_pO_epsilon=False)"
   ]
  },
  {
   "cell_type": "code",
   "execution_count": 25,
   "metadata": {},
   "outputs": [],
   "source": [
    "p1_3_real_scores2, p1_3_real_scores_agg2 = compute_player_stats(p1_3_more_training, 'playerO')"
   ]
  },
  {
   "cell_type": "code",
   "execution_count": 26,
   "metadata": {},
   "outputs": [
    {
     "data": {
      "image/png": "[encoded data removed]",
      "text/plain": [
       "<matplotlib.figure.Figure at 0x11229c550>"
      ]
     },
     "metadata": {},
     "output_type": "display_data"
    }
   ],
   "source": [
    "p1_3_real_scores_agg2.plot()\n",
    "plt.title('Player 3 proportion of win/draw games in every 200 real games')\n",
    "plt.ylim(0,1.1);"
   ]
  },
  {
   "cell_type": "code",
   "execution_count": 35,
   "metadata": {},
   "outputs": [
    {
     "data": {
      "text/plain": [
       "0"
      ]
     },
     "execution_count": 35,
     "metadata": {},
     "output_type": "execute_result"
    }
   ],
   "source": [
    "player3.epsilon"
   ]
  },
  {
   "cell_type": "markdown",
   "metadata": {},
   "source": [
    "### Figure out if Player 3 is buggy"
   ]
  },
  {
   "cell_type": "code",
   "execution_count": 61,
   "metadata": {},
   "outputs": [
    {
     "name": "stdout",
     "output_type": "stream",
     "text": [
      "X X _\n",
      "O O _\n",
      "_ _ _\n",
      "Initial board state\n",
      "\n",
      "X X X\n",
      "O O _\n",
      "_ _ _\n",
      "Win probability = 1.00000000000000000\n",
      "\n",
      "X X _\n",
      "O O X\n",
      "_ _ _\n",
      "Win probability = 0.60141331827904998\n",
      "\n",
      "X X _\n",
      "O O _\n",
      "X _ _\n",
      "Win probability = 0.07396816663904195\n",
      "\n",
      "X X _\n",
      "O O _\n",
      "_ X _\n",
      "Win probability = 0.13516021384178606\n",
      "\n",
      "X X _\n",
      "O O _\n",
      "_ _ X\n",
      "Win probability = 0.04719398929906676\n",
      "\n"
     ]
    }
   ],
   "source": [
    "explore_policy(['X','X','_','O','O','_','_','_','_'], player1)"
   ]
  },
  {
   "cell_type": "code",
   "execution_count": 62,
   "metadata": {},
   "outputs": [
    {
     "name": "stdout",
     "output_type": "stream",
     "text": [
      "X X _\n",
      "_ O _\n",
      "_ _ _\n",
      "Initial board state\n",
      "\n",
      "X X O\n",
      "_ O _\n",
      "_ _ _\n",
      "Win probability = 0.50000000000000000\n",
      "\n",
      "X X _\n",
      "O O _\n",
      "_ _ _\n",
      "Win probability = 0.00000041041550522\n",
      "\n",
      "X X _\n",
      "_ O O\n",
      "_ _ _\n",
      "Win probability = 0.00000045601722802\n",
      "\n",
      "X X _\n",
      "_ O _\n",
      "O _ _\n",
      "Win probability = 0.00000000000000000\n",
      "\n",
      "X X _\n",
      "_ O _\n",
      "_ O _\n",
      "Win probability = 0.00000000073752089\n",
      "\n",
      "X X _\n",
      "_ O _\n",
      "_ _ O\n",
      "Win probability = 0.00000002651728188\n",
      "\n"
     ]
    }
   ],
   "source": [
    "explore_policy(['X','X','_','_','O','_','_','_','_'], player3)"
   ]
  },
  {
   "cell_type": "code",
   "execution_count": 63,
   "metadata": {
    "scrolled": true
   },
   "outputs": [
    {
     "name": "stdout",
     "output_type": "stream",
     "text": [
      "X X _\n",
      "_ O _\n",
      "_ _ _\n",
      "Initial board state\n",
      "\n",
      "X X O\n",
      "_ O _\n",
      "_ _ _\n",
      "Win probability = 0.50000000000000089\n",
      "\n",
      "X X _\n",
      "O O _\n",
      "_ _ _\n",
      "Win probability = 0.20712923576225445\n",
      "\n",
      "X X _\n",
      "_ O O\n",
      "_ _ _\n",
      "Win probability = 0.04768837211788724\n",
      "\n",
      "X X _\n",
      "_ O _\n",
      "O _ _\n",
      "Win probability = 0.14612109711042437\n",
      "\n",
      "X X _\n",
      "_ O _\n",
      "_ O _\n",
      "Win probability = 0.11772295798026493\n",
      "\n",
      "X X _\n",
      "_ O _\n",
      "_ _ O\n",
      "Win probability = 0.10103516433642107\n",
      "\n"
     ]
    }
   ],
   "source": [
    "explore_policy(['X','X','_','_','O','_','_','_','_'], player2)"
   ]
  },
  {
   "cell_type": "code",
   "execution_count": 64,
   "metadata": {},
   "outputs": [
    {
     "name": "stdout",
     "output_type": "stream",
     "text": [
      "X X O\n",
      "_ O _\n",
      "X _ _\n",
      "Initial board state\n",
      "\n",
      "X X O\n",
      "O O _\n",
      "X _ _\n",
      "Win probability = 0.50000000000000000\n",
      "\n",
      "X X O\n",
      "_ O O\n",
      "X _ _\n",
      "Win probability = 0.00001075736654947\n",
      "\n",
      "X X O\n",
      "_ O _\n",
      "X O _\n",
      "Win probability = 0.00000004041652473\n",
      "\n",
      "X X O\n",
      "_ O _\n",
      "X _ O\n",
      "Win probability = 0.00000024234625168\n",
      "\n"
     ]
    }
   ],
   "source": [
    "explore_policy(['X','X','O','_','O','_','X','_','_'], player3)"
   ]
  },
  {
   "cell_type": "code",
   "execution_count": 159,
   "metadata": {},
   "outputs": [
    {
     "name": "stdout",
     "output_type": "stream",
     "text": [
      "0.00257688760366\n"
     ]
    }
   ],
   "source": [
    "a = a+.1*-a\n",
    "print a"
   ]
  },
  {
   "cell_type": "code",
   "execution_count": 65,
   "metadata": {},
   "outputs": [
    {
     "name": "stdout",
     "output_type": "stream",
     "text": [
      "X X O\n",
      "_ O _\n",
      "X _ _\n",
      "Initial board state\n",
      "\n",
      "X X O\n",
      "O O _\n",
      "X _ _\n",
      "Win probability = 0.50000000000000044\n",
      "\n",
      "X X O\n",
      "_ O O\n",
      "X _ _\n",
      "Win probability = 0.14089767531755445\n",
      "\n",
      "X X O\n",
      "_ O _\n",
      "X O _\n",
      "Win probability = 0.00079063669212751\n",
      "\n",
      "X X O\n",
      "_ O _\n",
      "X _ O\n",
      "Win probability = 0.13628249080899935\n",
      "\n"
     ]
    }
   ],
   "source": [
    "explore_policy(['X','X','O','_','O','_','X','_','_'], player2)"
   ]
  },
  {
   "cell_type": "code",
   "execution_count": 66,
   "metadata": {},
   "outputs": [
    {
     "name": "stdout",
     "output_type": "stream",
     "text": [
      "X X O\n",
      "_ O _\n",
      "X _ O\n",
      "Initial board state\n",
      "\n",
      "X X O\n",
      "X O _\n",
      "X _ O\n",
      "Win probability = 1.00000000000000000\n",
      "\n",
      "X X O\n",
      "_ O X\n",
      "X _ O\n",
      "Win probability = 0.50000000000000044\n",
      "\n",
      "X X O\n",
      "_ O _\n",
      "X X O\n",
      "Win probability = 0.00292556693979397\n",
      "\n"
     ]
    }
   ],
   "source": [
    "explore_policy(['X','X','O','_','O','_','X','_','O'], player1)"
   ]
  },
  {
   "cell_type": "code",
   "execution_count": 67,
   "metadata": {},
   "outputs": [
    {
     "name": "stdout",
     "output_type": "stream",
     "text": [
      "X X O\n",
      "_ O X\n",
      "X _ O\n",
      "Initial board state\n",
      "\n",
      "X X O\n",
      "O O X\n",
      "X _ O\n",
      "Win probability = 0.50000000000000000\n",
      "\n",
      "X X O\n",
      "_ O X\n",
      "X O O\n",
      "Win probability = 0.00000000059739192\n",
      "\n"
     ]
    }
   ],
   "source": [
    "explore_policy(['X','X','O','_','O','X','X','_','O'], player3)"
   ]
  },
  {
   "cell_type": "code",
   "execution_count": 96,
   "metadata": {},
   "outputs": [
    {
     "name": "stdout",
     "output_type": "stream",
     "text": [
      "_ _ _\n",
      "_ _ _\n",
      "_ _ _\n",
      "\n",
      "Player X's turn:\n",
      "best move ixs:  [0, 1, 2, 3, 4, 5, 6, 7, 8]\n",
      "max_prob:  0.5\n",
      "X _ _\n",
      "_ _ _\n",
      "_ _ _\n",
      "\n",
      "Player O's turn:\n",
      "Enter the row and column you want to make a mark in, using the format x,y 2,2\n",
      "X _ _\n",
      "_ O _\n",
      "_ _ _\n",
      "\n",
      "Player X's turn:\n",
      "best move ixs:  [1, 2, 3, 5, 6, 7, 8]\n",
      "max_prob:  0.5\n",
      "X _ _\n",
      "_ O _\n",
      "_ _ X\n",
      "\n",
      "Player O's turn:\n",
      "Enter the row and column you want to make a mark in, using the format x,y 3,2\n",
      "X _ _\n",
      "_ O _\n",
      "_ O X\n",
      "\n",
      "Player X's turn:\n",
      "best move ixs:  [1]\n",
      "max_prob:  0.5\n",
      "X X _\n",
      "_ O _\n",
      "_ O X\n",
      "\n",
      "Player O's turn:\n",
      "Enter the row and column you want to make a mark in, using the format x,y 1,3\n",
      "X X O\n",
      "_ O _\n",
      "_ O X\n",
      "\n",
      "Player X's turn:\n",
      "best move ixs:  [6]\n",
      "max_prob:  0.5\n",
      "X X O\n",
      "_ O _\n",
      "X O X\n",
      "\n",
      "Player O's turn:\n",
      "Enter the row and column you want to make a mark in, using the format x,y 2,1\n",
      "X X O\n",
      "O O _\n",
      "X O X\n",
      "\n",
      "Player X's turn:\n",
      "best move ixs:  [5]\n",
      "max_prob:  0.5\n",
      "X X O\n",
      "O O X\n",
      "X O X\n",
      "\n",
      "The game is a tie!\n"
     ]
    }
   ],
   "source": [
    "test_computer(player1, n_games=1)"
   ]
  },
  {
   "cell_type": "code",
   "execution_count": 70,
   "metadata": {},
   "outputs": [
    {
     "data": {
      "text/plain": [
       "1751"
      ]
     },
     "execution_count": 70,
     "metadata": {},
     "output_type": "execute_result"
    }
   ],
   "source": [
    "len(player3.policy)"
   ]
  },
  {
   "cell_type": "code",
   "execution_count": 71,
   "metadata": {
    "scrolled": true
   },
   "outputs": [
    {
     "name": "stdout",
     "output_type": "stream",
     "text": [
      "_ _ _\n",
      "_ _ _\n",
      "_ _ _\n",
      "Initial board state\n",
      "\n",
      "X _ _\n",
      "_ _ _\n",
      "_ _ _\n",
      "Win probability = 0.50000000000000133\n",
      "\n",
      "_ X _\n",
      "_ _ _\n",
      "_ _ _\n",
      "Win probability = 0.50000234415819367\n",
      "\n",
      "_ _ X\n",
      "_ _ _\n",
      "_ _ _\n",
      "Win probability = 0.50000000286905710\n",
      "\n",
      "_ _ _\n",
      "X _ _\n",
      "_ _ _\n",
      "Win probability = 0.50000169618567569\n",
      "\n",
      "_ _ _\n",
      "_ X _\n",
      "_ _ _\n",
      "Win probability = 0.50000038831593496\n",
      "\n",
      "_ _ _\n",
      "_ _ X\n",
      "_ _ _\n",
      "Win probability = 0.50000317155810037\n",
      "\n",
      "_ _ _\n",
      "_ _ _\n",
      "X _ _\n",
      "Win probability = 0.50000000073787887\n",
      "\n",
      "_ _ _\n",
      "_ _ _\n",
      "_ X _\n",
      "Win probability = 0.50000222094548930\n",
      "\n",
      "_ _ _\n",
      "_ _ _\n",
      "_ _ X\n",
      "Win probability = 0.50000000860830762\n",
      "\n"
     ]
    }
   ],
   "source": [
    "explore_policy(['_','_','_','_','_','_','_','_','_'], player1)"
   ]
  },
  {
   "cell_type": "code",
   "execution_count": 8,
   "metadata": {},
   "outputs": [
    {
     "name": "stdout",
     "output_type": "stream",
     "text": [
      "_ X O\n",
      "O X X\n",
      "O _ _\n",
      "Initial board state\n",
      "\n",
      "X X O\n",
      "O X X\n",
      "O _ _\n",
      "Win probability = 0.96011000000000002\n",
      "\n",
      "_ X O\n",
      "O X X\n",
      "O X _\n",
      "Win probability = 1.00000000000000000\n",
      "\n",
      "_ X O\n",
      "O X X\n",
      "O _ X\n",
      "Win probability = 0.00951000000000000\n",
      "\n"
     ]
    }
   ],
   "source": [
    "# round 5, less exploration in training\n",
    "explore_policy(['_','X','O','O','X','X','O','_','_'], player1)"
   ]
  },
  {
   "cell_type": "code",
   "execution_count": 72,
   "metadata": {},
   "outputs": [
    {
     "name": "stdout",
     "output_type": "stream",
     "text": [
      "_ X O\n",
      "O X X\n",
      "O _ _\n",
      "Initial board state\n",
      "\n",
      "X X O\n",
      "O X X\n",
      "O _ _\n",
      "Win probability = 0.98986222020477732\n",
      "\n",
      "_ X O\n",
      "O X X\n",
      "O X _\n",
      "Win probability = 1.00000000000000000\n",
      "\n",
      "_ X O\n",
      "O X X\n",
      "O _ X\n",
      "Win probability = 0.05757427739361200\n",
      "\n"
     ]
    }
   ],
   "source": [
    "explore_policy(['_','X','O','O','X','X','O','_','_'], player1)"
   ]
  },
  {
   "cell_type": "markdown",
   "metadata": {},
   "source": [
    "### What is Player 1's deal?"
   ]
  },
  {
   "cell_type": "code",
   "execution_count": 73,
   "metadata": {},
   "outputs": [
    {
     "name": "stdout",
     "output_type": "stream",
     "text": [
      "X X _\n",
      "_ O _\n",
      "_ _ _\n",
      "Initial board state\n",
      "\n",
      "X X O\n",
      "_ O _\n",
      "_ _ _\n",
      "Win probability = 0.50000000000000000\n",
      "\n",
      "X X _\n",
      "O O _\n",
      "_ _ _\n",
      "Win probability = 0.00000041041550522\n",
      "\n",
      "X X _\n",
      "_ O O\n",
      "_ _ _\n",
      "Win probability = 0.00000045601722802\n",
      "\n",
      "X X _\n",
      "_ O _\n",
      "O _ _\n",
      "Win probability = 0.00000000000000000\n",
      "\n",
      "X X _\n",
      "_ O _\n",
      "_ O _\n",
      "Win probability = 0.00000000073752089\n",
      "\n",
      "X X _\n",
      "_ O _\n",
      "_ _ O\n",
      "Win probability = 0.00000002651728188\n",
      "\n"
     ]
    }
   ],
   "source": [
    "explore_policy(['X','X','_','_','O','_','_','_','_'], player3)"
   ]
  },
  {
   "cell_type": "code",
   "execution_count": 46,
   "metadata": {},
   "outputs": [
    {
     "name": "stdout",
     "output_type": "stream",
     "text": [
      "_ _ _\n",
      "_ _ _\n",
      "_ _ _\n",
      "\n",
      "Player X's turn:\n",
      "Enter the row and column you want to make a mark in, using the format x,y 1,1\n",
      "X _ _\n",
      "_ _ _\n",
      "_ _ _\n",
      "\n",
      "Player O's turn:\n",
      "X _ _\n",
      "O _ _\n",
      "_ _ _\n",
      "\n",
      "Player X's turn:\n",
      "Enter the row and column you want to make a mark in, using the format x,y 1,3\n",
      "X _ X\n",
      "O _ _\n",
      "_ _ _\n",
      "\n",
      "Player O's turn:\n",
      "best move ixs:  [1, 5, 7, 8]\n",
      "max_prob:  0.5\n",
      "X _ X\n",
      "O _ O\n",
      "_ _ _\n",
      "\n",
      "Player X's turn:\n",
      "Enter the row and column you want to make a mark in, using the format x,y 1,2\n",
      "X X X\n",
      "O _ O\n",
      "_ _ _\n",
      "\n",
      "Player X wins!\n"
     ]
    }
   ],
   "source": [
    "player3.set_epsilon(.5)\n",
    "test_computer(player3, n_games=1)"
   ]
  },
  {
   "cell_type": "code",
   "execution_count": 74,
   "metadata": {},
   "outputs": [
    {
     "name": "stdout",
     "output_type": "stream",
     "text": [
      "X _ X\n",
      "O _ _\n",
      "_ _ _\n",
      "Initial board state\n",
      "\n",
      "X O X\n",
      "O _ _\n",
      "_ _ _\n"
     ]
    },
    {
     "ename": "KeyError",
     "evalue": "('X', 'O', 'X', 'O', '_', '_', '_', '_', '_')",
     "output_type": "error",
     "traceback": [
      "\u001b[0;31m---------------------------------------------------------------------------\u001b[0m",
      "\u001b[0;31mKeyError\u001b[0m                                  Traceback (most recent call last)",
      "\u001b[0;32m<ipython-input-74-a791f9bf91c5>\u001b[0m in \u001b[0;36m<module>\u001b[0;34m()\u001b[0m\n\u001b[0;32m----> 1\u001b[0;31m \u001b[0mexplore_policy\u001b[0m\u001b[0;34m(\u001b[0m\u001b[0;34m[\u001b[0m\u001b[0;34m'X'\u001b[0m\u001b[0;34m,\u001b[0m\u001b[0;34m'_'\u001b[0m\u001b[0;34m,\u001b[0m\u001b[0;34m'X'\u001b[0m\u001b[0;34m,\u001b[0m\u001b[0;34m'O'\u001b[0m\u001b[0;34m,\u001b[0m\u001b[0;34m'_'\u001b[0m\u001b[0;34m,\u001b[0m\u001b[0;34m'_'\u001b[0m\u001b[0;34m,\u001b[0m\u001b[0;34m'_'\u001b[0m\u001b[0;34m,\u001b[0m\u001b[0;34m'_'\u001b[0m\u001b[0;34m,\u001b[0m\u001b[0;34m'_'\u001b[0m\u001b[0;34m]\u001b[0m\u001b[0;34m,\u001b[0m \u001b[0mplayer3\u001b[0m\u001b[0;34m)\u001b[0m\u001b[0;34m\u001b[0m\u001b[0m\n\u001b[0m",
      "\u001b[0;32m<ipython-input-45-98f62e52f925>\u001b[0m in \u001b[0;36mexplore_policy\u001b[0;34m(state, player)\u001b[0m\n\u001b[1;32m     67\u001b[0m         \u001b[0mpotential_state\u001b[0m\u001b[0;34m[\u001b[0m\u001b[0mi\u001b[0m\u001b[0;34m]\u001b[0m \u001b[0;34m=\u001b[0m \u001b[0mplayer\u001b[0m\u001b[0;34m.\u001b[0m\u001b[0mmark\u001b[0m\u001b[0;34m\u001b[0m\u001b[0m\n\u001b[1;32m     68\u001b[0m         \u001b[0mprint_board\u001b[0m\u001b[0;34m(\u001b[0m\u001b[0mpotential_state\u001b[0m\u001b[0;34m)\u001b[0m\u001b[0;34m\u001b[0m\u001b[0m\n\u001b[0;32m---> 69\u001b[0;31m         \u001b[0;32mprint\u001b[0m \u001b[0;34m'Win probability = %.17f\\n'\u001b[0m \u001b[0;34m%\u001b[0m \u001b[0mplayer\u001b[0m\u001b[0;34m.\u001b[0m\u001b[0mpolicy\u001b[0m\u001b[0;34m[\u001b[0m\u001b[0mtuple\u001b[0m\u001b[0;34m(\u001b[0m\u001b[0mpotential_state\u001b[0m\u001b[0;34m)\u001b[0m\u001b[0;34m]\u001b[0m\u001b[0;34m\u001b[0m\u001b[0m\n\u001b[0m\u001b[1;32m     70\u001b[0m \u001b[0;34m\u001b[0m\u001b[0m\n\u001b[1;32m     71\u001b[0m \u001b[0;34m\u001b[0m\u001b[0m\n",
      "\u001b[0;31mKeyError\u001b[0m: ('X', 'O', 'X', 'O', '_', '_', '_', '_', '_')"
     ]
    }
   ],
   "source": [
    "explore_policy(['X','_','X','O','_','_','_','_','_'], player3)"
   ]
  },
  {
   "cell_type": "code",
   "execution_count": 78,
   "metadata": {
    "scrolled": true
   },
   "outputs": [
    {
     "name": "stdout",
     "output_type": "stream",
     "text": [
      "X _ _\n",
      "O _ _\n",
      "_ _ _\n",
      "Initial board state\n",
      "\n",
      "X X _\n",
      "O _ _\n",
      "_ _ _\n",
      "Win probability = 0.88209304572364799\n",
      "\n",
      "X _ X\n",
      "O _ _\n",
      "_ _ _\n",
      "Win probability = 0.87876867161072036\n",
      "\n",
      "X _ _\n",
      "O X _\n",
      "_ _ _\n",
      "Win probability = 0.99999997770097437\n",
      "\n",
      "X _ _\n",
      "O _ X\n",
      "_ _ _\n",
      "Win probability = 0.50000764972816292\n",
      "\n",
      "X _ _\n",
      "O _ _\n",
      "X _ _\n",
      "Win probability = 0.63998814404340776\n",
      "\n",
      "X _ _\n",
      "O _ _\n",
      "_ X _\n",
      "Win probability = 0.69013965920311970\n",
      "\n",
      "X _ _\n",
      "O _ _\n",
      "_ _ X\n",
      "Win probability = 0.77824843059546378\n",
      "\n"
     ]
    }
   ],
   "source": [
    "explore_policy(['X','_','_','O','_','_','_','_','_'], player1)"
   ]
  },
  {
   "cell_type": "code",
   "execution_count": 75,
   "metadata": {},
   "outputs": [
    {
     "name": "stdout",
     "output_type": "stream",
     "text": [
      "X X O\n",
      "_ O _\n",
      "X _ _\n",
      "Initial board state\n",
      "\n",
      "X X O\n",
      "O O _\n",
      "X _ _\n",
      "Win probability = 0.50000000000000000\n",
      "\n",
      "X X O\n",
      "_ O O\n",
      "X _ _\n",
      "Win probability = 0.00001075736654947\n",
      "\n",
      "X X O\n",
      "_ O _\n",
      "X O _\n",
      "Win probability = 0.00000004041652473\n",
      "\n",
      "X X O\n",
      "_ O _\n",
      "X _ O\n",
      "Win probability = 0.00000024234625168\n",
      "\n"
     ]
    }
   ],
   "source": [
    "explore_policy(['X','X','O','_','O','_','X','_','_'], player3)"
   ]
  },
  {
   "cell_type": "code",
   "execution_count": null,
   "metadata": {
    "collapsed": true
   },
   "outputs": [],
   "source": []
  },
  {
   "cell_type": "code",
   "execution_count": null,
   "metadata": {
    "collapsed": true
   },
   "outputs": [],
   "source": []
  },
  {
   "cell_type": "markdown",
   "metadata": {},
   "source": [
    "# Mental Bookmark\n",
    "- Rounding the probabilities doesn't seem to affect the results too much (so rounding to 4 or 5 decimals is fine). When probabilities are wrong, it seems to be because the players haven't trained long enough to adjust them.\n",
    "- Changing P1's alpha to 0 eliminated the issue where P3 didn't explore the possibility space (I think P1 was always playing the same move because it learned that that move was \"better,\" but that was just because P3 played that position poorly and lost.)\n",
    "- P1 doesn't prefer corners. What if I train it against a P2 with a constant epsilon = .9? Then it should learn that corners are better because corners lead to more game paths where O loses.  \n",
    "-- Nope, X prefers the center if O is moving randomly (or close to randomly). But why? I worked out the numbers and corners should be slightly better.\n",
    "- consider \"shaping.\" Player 3 learns faster against expert Player 1 than if Player 1 is set to explore? Create these players:  \n",
    "-- Expert Player X, explores all moves and is an expert player  \n",
    "-- Apprentice Player O, trains against Expert X and therefore only explores the best moves for X (should train faster than New Expert O)  \n",
    "-- Random Player, compare win rate when an Expert plays Random vs. when Apprentice plays Random (Apprentice should perform poorly when Random makes non-Expert moves)\n",
    "-- New Expert O, trains against Expert X while X epsilon > .5. Should perform better against Random than Apprentice.  \n",
    "- create readme\n",
    "- create a module that I can import?\n",
    "- give computer players one policy dictionary to share?  \n",
    "-- they'll train twice as fast, and have all entries\n",
    "- Try training ExpertX (alpha = .1) vs. RandomO. Expert X should learn to prefer corners as a first move, because they lead to games where a greater proportion of the moves are dangerous for O."
   ]
  },
  {
   "cell_type": "markdown",
   "metadata": {},
   "source": [
    "## Stuff to write about\n",
    "- Implementation  \n",
    "--  training player3 with player1's learning rate != 0 somehow resulted in p3 not exploring a lot of paths. I think it's because p1's policy changed a bunch in response to p3's erratic behavior as a learner, and thus p1 learned some new \"best\" moves and stuck with those for a while.  \n",
    "-- have to continue training after stopping exploration, to let policies settle\n",
    "\n",
    "\n",
    "- Interesting stuff  \n",
    "-- this algo will win either quickly or slowly if it has equal probability of winning with either. As will minimax if you don't do alpha-beta pruning.  \n",
    "-- if board is [\\_,X,O,\\_,X,\\_,O,\\_,\\_], any move by X has 100% chance of winning!  \n",
    "-- \"shaping behavior\": train against expert opponent to explore the best moves faster"
   ]
  },
  {
   "cell_type": "code",
   "execution_count": null,
   "metadata": {
    "collapsed": true
   },
   "outputs": [],
   "source": []
  }
 ],
 "metadata": {
  "anaconda-cloud": {},
  "kernelspec": {
   "display_name": "Python [conda root]",
   "language": "python",
   "name": "conda-root-py"
  },
  "language_info": {
   "codemirror_mode": {
    "name": "ipython",
    "version": 2
   },
   "file_extension": ".py",
   "mimetype": "text/x-python",
   "name": "python",
   "nbconvert_exporter": "python",
   "pygments_lexer": "ipython2",
   "version": "2.7.12"
  }
 },
 "nbformat": 4,
 "nbformat_minor": 1
}
