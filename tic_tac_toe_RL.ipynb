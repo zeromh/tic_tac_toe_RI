{
 "cells": [
  {
   "cell_type": "code",
   "execution_count": 1,
   "metadata": {
    "collapsed": true
   },
   "outputs": [],
   "source": [
    "import numpy as np\n",
    "import matplotlib.pyplot as plt\n",
    "import pandas as pd\n",
    "from numpy.random import choice\n",
    "import warnings\n",
    "\n",
    "%matplotlib inline"
   ]
  },
  {
   "cell_type": "markdown",
   "metadata": {
    "collapsed": true
   },
   "source": [
    "https://www.neverstopbuilding.com/blog/2013/12/13/tic-tac-toe-understanding-the-minimax-algorithm13  \n",
    "https://github.com/khpeek/Q-learning-Tic-Tac-Toe"
   ]
  },
  {
   "cell_type": "markdown",
   "metadata": {},
   "source": [
    "### Outline:\n",
    "- Game  \n",
    "-- instantiates new Players, or accesses provided Players    \n",
    "-- instantiates the Board  \n",
    "-- keeps track of whose turn it is  \n",
    "-- passes Board to Players when asking for a move, then updates Board with move  \n",
    "-- keeps track of game outcome\n",
    "- Board  \n",
    "-- the board that is updated over the course of the game\n",
    "- Player  \n",
    "-- can exist on its own outside of Game  \n",
    "-- has a policy  \n",
    "-- selects a move  \n",
    "-- can calculate if a board state is a win/loss/tie\n",
    "-- remembers Board state from Player's previous move, and updates policy if needed  \n",
    "-- if set to 'human', the Player just asks the human for input for each move"
   ]
  },
  {
   "cell_type": "markdown",
   "metadata": {},
   "source": [
    "# Classes"
   ]
  },
  {
   "cell_type": "code",
   "execution_count": null,
   "metadata": {
    "collapsed": true
   },
   "outputs": [],
   "source": []
  },
  {
   "cell_type": "code",
   "execution_count": 2,
   "metadata": {
    "collapsed": true
   },
   "outputs": [],
   "source": [
    "class ttt_board(object):\n",
    "    \n",
    "    def __init__(self):\n",
    "        self.spaces = ['_'] * 9\n",
    "        \n",
    "    def __str__(self):\n",
    "        # Allow for printing of board in human-readable format\n",
    "        return '%s\\n%s\\n%s\\n' % (' '.join(self.spaces[:3]), ' '.join(self.spaces[3:6]), ' '.join(self.spaces[6:]))\n",
    "    \n",
    "    def update(self, ix, mark):\n",
    "        \"\"\"\n",
    "        Updates the board with a new X or O.\n",
    "        \"\"\"\n",
    "        self.spaces[ix] = mark\n",
    "\n",
    "    \n",
    "class ttt_player(object):\n",
    "    \n",
    "    def __init__(self, player_type, mark, epsilon=.9, alpha=.1):\n",
    "        self.player_type = player_type\n",
    "        self.mark = mark\n",
    "        self.board_vals = [2**i for i in range(9)]\n",
    "        if player_type == 'computer':\n",
    "            self.policy = dict()\n",
    "            self.alpha = alpha            # learning rate\n",
    "            self.epsilon = epsilon        # exploration rate\n",
    "            self.prev_state = None\n",
    "    \n",
    "    \n",
    "    def __str__(self):\n",
    "        return 'Player %s' % self.mark\n",
    "    \n",
    "    \n",
    "    def set_epsilon(self, epsilon):\n",
    "        \"\"\"\n",
    "        Sets the player's exploration rate. This is the rate at which the player explores move options that\n",
    "        *don't* have the highest win probability based on the player's current policy.\n",
    "        \"\"\"\n",
    "        self.epsilon = epsilon\n",
    "    \n",
    "    \n",
    "    def set_alpha(self, alpha):\n",
    "        \"\"\"\n",
    "        Sets the player's learning rate. This indicates how much the player should adjust its win probabilities\n",
    "        based on new information.\n",
    "        \"\"\"\n",
    "        self.alpha = alpha\n",
    "    \n",
    "    \n",
    "    def get_player_total(self, state):\n",
    "        \"\"\"\n",
    "        Returns a total for each player based on values I've assigned to each space on the board.\n",
    "        This enables us to easily know if someone has won the game.\n",
    "        \"\"\"\n",
    "        total = 0\n",
    "        for i, x in enumerate(state):\n",
    "            if x == self.mark:\n",
    "                total += self.board_vals[i]\n",
    "        return total\n",
    "    \n",
    "    \n",
    "    def get_move_outcome(self, state):\n",
    "        \"\"\"\n",
    "        Informs the player that the given state is a win, draw, or none of the above. Uses bitwise operations to\n",
    "        translate the board state into an indication of a win. See explanation here:\n",
    "        http://mamallamacoding.blogspot.com/2014/03/making-tictactoe-with-object-oriented.html\n",
    "        \"\"\"\n",
    "        win_totals = [7, 56, 448, 73, 146, 292, 273, 84]\n",
    "        total = self.get_player_total(state)\n",
    "        for val in win_totals:\n",
    "            if total & val == val: # bitwise operation!\n",
    "                return 'win'\n",
    "        if '_' not in state:\n",
    "            return 'draw'\n",
    "        return None\n",
    "    \n",
    "    \n",
    "    def get_prob_from_policy(self, state):\n",
    "        \"\"\"\n",
    "        This function returns a player's current understanding of its probability of winning from a given\n",
    "        board state. If the player has never seen this state before, the function fills the player's policy with\n",
    "        a 1 if it's a win state (e.g. three X's in a row), a .5 if it's a draw state, or a .5 if it's an unknown\n",
    "        state prior to the end of the game.\n",
    "        \n",
    "        (A player will never store a lose state in its policy [e.g. three O's in a row if you are player X] \n",
    "        because the player will not make any more moves after it has lost.)\n",
    "        \"\"\"\n",
    "        state = tuple(state)\n",
    "        if state in self.policy:\n",
    "            return self.policy[state]\n",
    "        \n",
    "        outcome = self.get_move_outcome(state)\n",
    "        if outcome == 'win':\n",
    "            self.policy[state] = 1\n",
    "        elif outcome == 'draw':\n",
    "            self.policy[state] = .5\n",
    "        else:                       # Fill with .5 if winner hasn't been decided yet\n",
    "            self.policy[state] = .5\n",
    "        return self.policy[state]\n",
    "\n",
    "                                   \n",
    "    def update_policy(self, current_win_prob, board, state):\n",
    "        \"\"\"\n",
    "        Updates the win probability of a previous state based on the win probability of the current state.\n",
    "        \"\"\"\n",
    "        prev_state = tuple(self.prev_state)\n",
    "        prev_win_prob = self.policy[prev_state]\n",
    "        self.policy[prev_state] = prev_win_prob + self.alpha*(current_win_prob - prev_win_prob)\n",
    "        \n",
    "        \n",
    "    def get_move(self, board, print_output):\n",
    "        \"\"\"\n",
    "        Gets a move from a human or computer player.\n",
    "        returns: index of the board space that the player wants to make an X or O in (ix from 0-8)\n",
    "        \"\"\"\n",
    "        if self.player_type == 'human':\n",
    "            while True:\n",
    "                try:\n",
    "                    row_index, col_index = eval(raw_input( \\\n",
    "                                \"Enter the row and column you want to make a mark in, using the format x,y \"))\n",
    "                    # Get correct index in the board list, adjusting for 0-indexing\n",
    "                    move_index = (row_index-1)*3 + col_index - 1\n",
    "                    if board.spaces[move_index] == '_':\n",
    "                        return move_index\n",
    "                except:\n",
    "                    pass\n",
    "                print \"Invalid move.\\n\"\n",
    "        \n",
    "        # Make Computer player decision\n",
    "        state = board.spaces[:]\n",
    "        possible_move_indices = [i for i, x in enumerate(state) if x == '_']\n",
    "        \n",
    "        if np.random.uniform() < self.epsilon:     # randomly choose a move with probability = epsilon\n",
    "            move_index = choice(possible_move_indices)\n",
    "            next_state = state[:]\n",
    "            next_state[move_index] = self.mark\n",
    "            _ = self.get_prob_from_policy(next_state) # I don't use the result, but this function fills the\n",
    "                            # policy with a win probability for this state if this state key doesn't already exist\n",
    "        \n",
    "        else:               # Choose the best known move with probability = 1-epsilon\n",
    "            max_prob = 0\n",
    "            best_move_ixs = []\n",
    "            for i in possible_move_indices:\n",
    "                potential_state = state[:]\n",
    "                potential_state[i] = self.mark\n",
    "                prob = self.get_prob_from_policy(potential_state)\n",
    "                \n",
    "                # Treat win probabilities that are equal up to the 3rd decimal place as equivalent for\n",
    "                # the purpose of choosing a move\n",
    "                if np.isclose(prob, max_prob, rtol=0, atol=10**-4):\n",
    "                        best_move_ixs.append(i)\n",
    "                elif prob > max_prob:\n",
    "                        best_move_ixs = [i]\n",
    "                        max_prob = prob\n",
    "            if print_output:\n",
    "                print 'best move ixs: ', best_move_ixs\n",
    "                print 'max_prob: ', max_prob\n",
    "            move_index = choice(best_move_ixs)\n",
    "            if self.prev_state:\n",
    "                self.update_policy(max_prob, board, state)  \n",
    "\n",
    "        self.prev_state = state\n",
    "        self.prev_state[move_index] = self.mark\n",
    "        return move_index\n",
    "                            \n",
    "            \n",
    "# Game object instantiates the board and human or CPU players\n",
    "class ttt_game(object):\n",
    "    \n",
    "    def __init__(self, playerX, playerO, print_output = True):\n",
    "        self.board = ttt_board()\n",
    "        if isinstance(playerX, ttt_player):\n",
    "            if playerX.mark == 'X':\n",
    "                self.playerX = playerX\n",
    "                self.playerX.prev_state = None\n",
    "            else:\n",
    "                raise ValueError('playerX must have player mark \"X\".')\n",
    "        elif playerX == 'human':\n",
    "            self.playerX = ttt_player('human', 'X')\n",
    "        elif playerX == 'computer':\n",
    "            self.playerX = ttt_player('computer', 'X')\n",
    "        else:\n",
    "            raise ValueError('playerX must be a ttt_player object, or it must be a string indicating \"human\" or \"computer.\"')\n",
    "          \n",
    "        if isinstance(playerO, ttt_player):\n",
    "            if playerO.mark == 'O':\n",
    "                self.playerO = playerO\n",
    "                self.playerO.prev_state = None\n",
    "            else:\n",
    "                raise ValueError('playerO must have player mark \"O\".')\n",
    "        elif playerO == 'human':\n",
    "            self.playerO = ttt_player('human', 'O')\n",
    "        elif playerO == 'computer':\n",
    "            self.playerO = ttt_player('computer', 'O')\n",
    "        else:\n",
    "            raise ValueError('playerO must be a ttt_player object, or it must be a string indicating \"human\" or \"computer.\"')\n",
    "               \n",
    "        self.playerX_score = []\n",
    "        self.playerO_score = []\n",
    "        self.current_player = self.playerX\n",
    "        self.print_output = print_output\n",
    "        \n",
    "        \n",
    "    def set_print(self, print_output):\n",
    "        \"\"\"\n",
    "        Sets the print_output attribute. If True, ttt_game will print the board at each move, say whose turn\n",
    "        it is, and state the outcome of each game.\n",
    "        print_output: True or False\n",
    "        \"\"\"\n",
    "        self.print_output = print_output\n",
    "    \n",
    "    \n",
    "    def take_a_turn(self):\n",
    "        \"\"\"\n",
    "        Asks the current player to select its next move.\n",
    "        \"\"\"\n",
    "        if self.print_output:\n",
    "            print \"%s's turn:\" % self.current_player\n",
    "        move_index = self.current_player.get_move(self.board, self.print_output)\n",
    "        self.board.update(move_index, self.current_player.mark)\n",
    "        if self.current_player == self.playerX:\n",
    "            self.current_player = self.playerO\n",
    "        else:\n",
    "            self.current_player = self.playerX\n",
    "        if self.print_output:\n",
    "            print self.board\n",
    "        \n",
    "        \n",
    "    def game_outcome(self):\n",
    "        \"\"\"\n",
    "        Returns information on wins or ties, or returns None if the game is not yet over.\n",
    "        \"\"\"\n",
    "        state = self.board.spaces\n",
    "        win_totals = [7, 56, 448, 73, 146, 292, 273, 84]\n",
    "        X_total = self.playerX.get_player_total(state)\n",
    "        O_total = self.playerO.get_player_total(state)\n",
    "        for val in win_totals:\n",
    "            if X_total & val == val:        # Bitwise operation!\n",
    "                self.playerX_score.append(1)\n",
    "                self.playerO_score.append(0)\n",
    "                return 'Player X wins!'\n",
    "            if O_total & val == val:\n",
    "                self.playerO_score.append(1)\n",
    "                self.playerX_score.append(1)\n",
    "                return 'Player O wins!'\n",
    "        if '_' not in state:\n",
    "            self.playerX_score.append(.5)\n",
    "            self.playerO_score.append(.5)\n",
    "            return 'The game is a tie!'\n",
    "        return None\n",
    "\n",
    "                                   \n",
    "    def send_game_end_signal(self, outcome):\n",
    "        \"\"\"\n",
    "        The \"current player\" is the player who took the penultimate turn. We send that player information on\n",
    "        the game outcome, so that player can adjust its policy.\n",
    "        \"\"\"\n",
    "        penultimate_player = self.current_player\n",
    "        if outcome == 'The game is a tie!':\n",
    "            win_prob = .5\n",
    "        else:\n",
    "            win_prob = 0\n",
    "        if penultimate_player.player_type == 'computer':\n",
    "            penultimate_player.update_policy(win_prob, self.board, self.board)   \n",
    "    \n",
    "    \n",
    "    def play(self):\n",
    "        \"\"\"\n",
    "        Plays a game of tic tac toe.\n",
    "        \"\"\"\n",
    "        if self.print_output:\n",
    "            print self.board\n",
    "        outcome = self.game_outcome()\n",
    "        while not (outcome):\n",
    "            self.take_a_turn()\n",
    "            outcome = self.game_outcome()\n",
    "        self.send_game_end_signal(outcome)\n",
    "        if self.print_output:\n",
    "            print outcome\n",
    "      \n",
    "    \n",
    "    def reset(self):\n",
    "        \"\"\"\n",
    "        Resets board and certain player attributes in preparation for a new game.\n",
    "        \"\"\"\n",
    "        self.board = ttt_board()\n",
    "        self.playerX.prev_state = None\n",
    "        self.playerO.prev_state = None\n",
    "        self.current_player = self.playerX\n",
    "\n",
    "     \n",
    "    def get_player_score(self, player):\n",
    "        \"\"\"\n",
    "        Returns all scores (win statistics) for the given player.\n",
    "        player: string indicating 'playerX' or 'playerO'\n",
    "        \"\"\"\n",
    "        if player == 'playerX':\n",
    "            return self.playerX_score\n",
    "        if player == 'playerO':\n",
    "            return self.playerO_score\n",
    "        raise ValueError('player should be either \"playerX\" or \"playerO\"')\n",
    "\n",
    "            "
   ]
  },
  {
   "cell_type": "markdown",
   "metadata": {},
   "source": [
    "# Helper functions"
   ]
  },
  {
   "cell_type": "code",
   "execution_count": null,
   "metadata": {
    "collapsed": true
   },
   "outputs": [],
   "source": [
    "def print_board(state):\n",
    "    \"\"\"\n",
    "    state: list of strings that indicates the board state\n",
    "    \"\"\"\n",
    "    print '%s\\n%s\\n%s' % (' '.join(state[:3]), ' '.join(state[3:6]), ' '.join(state[6:]))\n",
    "                          \n",
    "\n",
    "def train_computer_players(playerX, playerO, n_games=200000, adj_pX_epsilon=True, adj_pO_epsilon=True):\n",
    "    \"\"\"\n",
    "    Trains an \"X\" computer player and an \"O\" computer player on 200000 games of tic tac toe.\n",
    "    By default, player exploration rate is set high to learn quickly, and then is decreased according\n",
    "    to the following scheme:\n",
    "    .9 for first 50% of games, .5 for next 40%, 0.0 for the last 10%\n",
    "    \n",
    "    If adj_p_epsilon is set to False, the player's exploration rate will remain as it was before\n",
    "    calling this function.\n",
    "    \"\"\"\n",
    "    if adj_pX_epsilon:\n",
    "        playerX.set_epsilon(.9)\n",
    "    if adj_pO_epsilon:\n",
    "        playerO.set_epsilon(.9)\n",
    "    game = ttt_game(playerX, playerO, print_output = False)\n",
    "    for i in range(1, n_games+1):\n",
    "        if i/float(n_games) >= .5:\n",
    "            if i/float(n_games) >= .9:\n",
    "                if adj_pX_epsilon:\n",
    "                    playerX.set_epsilon(0)\n",
    "                if adj_pO_epsilon:\n",
    "                    playerO.set_epsilon(0)\n",
    "            else:\n",
    "                if adj_pX_epsilon:\n",
    "                    playerX.set_epsilon(.2)\n",
    "                if adj_pO_epsilon:\n",
    "                    playerO.set_epsilon(.2)\n",
    "        game.play()\n",
    "        game.reset()\n",
    "    return game\n",
    "        \n",
    "\n",
    "def test_computer(computer_player, n_games=3):\n",
    "    \"\"\"\n",
    "    Used when a human wants to evaluate a computer player.\n",
    "    This function plays n_games with a human versus the computer_player.\n",
    "    \"\"\"    \n",
    "    #computer_player.set_epsilon(0)\n",
    "    if computer_player.mark == 'X':\n",
    "        game = ttt_game(computer_player, 'human', print_output=True)\n",
    "    if computer_player.mark == 'O':\n",
    "        game = ttt_game('human', computer_player, print_output=True)\n",
    "    for i in range(n_games):\n",
    "        game.play()\n",
    "        game.reset()\n",
    "        \n",
    "        \n",
    "def explore_policy(state, player):\n",
    "    \"\"\"\n",
    "    Given a board state, this function shows all possible next moves for a player and the probability of winning\n",
    "    from those next moves, according to the player's policy.\n",
    "    state: list of strings indicating the board state\n",
    "    player: ttt_player object \n",
    "    \"\"\"\n",
    "    print_board(state)\n",
    "    print 'Initial board state\\n'\n",
    "    possible_move_indices = [i for i, x in enumerate(state) if x == '_']\n",
    "    for i in possible_move_indices:\n",
    "        potential_state = state[:]\n",
    "        potential_state[i] = player.mark        \n",
    "        print_board(potential_state)\n",
    "        print 'Win probability = %.17f\\n' % player.policy[tuple(potential_state)]\n",
    "    \n",
    "    \n",
    "def compute_player_stats(game, player, n_groups=100):\n",
    "    scores = pd.DataFrame(game.get_player_score(player))\n",
    "    scores.columns = ['score']\n",
    "    scores['win_draw'] = (scores.score != 0).astype(int)\n",
    "    group_size = len(scores)/n_groups\n",
    "    if group_size == 0:\n",
    "        warnings.warn('This player has fewer scores than n_groups. Scores will not be aggregated.')\n",
    "        group_size = 1\n",
    "    scores_agg = scores.groupby(scores.index/group_size).win_draw.aggregate(lambda x: x.sum()/float(x.shape[0]))\n",
    "    return scores, scores_agg"
   ]
  },
  {
   "cell_type": "code",
   "execution_count": 34,
   "metadata": {
    "collapsed": true
   },
   "outputs": [],
   "source": [
    "player1 = ttt_player('computer', 'X', epsilon=.9)\n",
    "player2 = ttt_player('computer', 'O', epsilon=1)\n",
    "#player2.alpha = 0"
   ]
  },
  {
   "cell_type": "code",
   "execution_count": 35,
   "metadata": {
    "collapsed": true
   },
   "outputs": [],
   "source": [
    "p1_2_training_game = train_computer_players(player1, player2, n_games=200000)"
   ]
  },
  {
   "cell_type": "code",
   "execution_count": 14,
   "metadata": {
    "collapsed": false
   },
   "outputs": [],
   "source": [
    "#p1_2_real_game = train_computer_players(player1, player2, n_games=100000, adj_pO_epsilon=False, adj_pX_epsilon=False)"
   ]
  },
  {
   "cell_type": "code",
   "execution_count": 33,
   "metadata": {
    "collapsed": false
   },
   "outputs": [
    {
     "name": "stdout",
     "output_type": "stream",
     "text": [
      "_ _ _\n",
      "_ _ _\n",
      "_ _ _\n",
      "Initial board state\n",
      "\n",
      "X _ _\n",
      "_ _ _\n",
      "_ _ _\n",
      "Win probability = 0.98535518590140225\n",
      "\n",
      "_ X _\n",
      "_ _ _\n",
      "_ _ _\n",
      "Win probability = 0.98587345495534184\n",
      "\n",
      "_ _ X\n",
      "_ _ _\n",
      "_ _ _\n",
      "Win probability = 0.98559850343492372\n",
      "\n",
      "_ _ _\n",
      "X _ _\n",
      "_ _ _\n",
      "Win probability = 0.98593878817146230\n",
      "\n",
      "_ _ _\n",
      "_ X _\n",
      "_ _ _\n",
      "Win probability = 0.99637483431855367\n",
      "\n",
      "_ _ _\n",
      "_ _ X\n",
      "_ _ _\n",
      "Win probability = 0.98491927362704523\n",
      "\n",
      "_ _ _\n",
      "_ _ _\n",
      "X _ _\n",
      "Win probability = 0.98517409148066726\n",
      "\n",
      "_ _ _\n",
      "_ _ _\n",
      "_ X _\n",
      "Win probability = 0.98593791804318998\n",
      "\n",
      "_ _ _\n",
      "_ _ _\n",
      "_ _ X\n",
      "Win probability = 0.98531265299264104\n",
      "\n"
     ]
    }
   ],
   "source": [
    "state = ['_', '_', '_', '_', '_', '_', '_', '_', '_']\n",
    "explore_policy(state, player1)"
   ]
  },
  {
   "cell_type": "code",
   "execution_count": null,
   "metadata": {
    "collapsed": true
   },
   "outputs": [],
   "source": [
    "#### After real games\n",
    "state = ['_', '_', '_', '_', '_', '_', '_', '_', '_']\n",
    "explore_policy(state, player1)"
   ]
  },
  {
   "cell_type": "code",
   "execution_count": 30,
   "metadata": {
    "collapsed": true
   },
   "outputs": [
    {
     "name": "stdout",
     "output_type": "stream",
     "text": [
      "X _ _\n",
      "_ _ _\n",
      "_ _ _\n",
      "Initial board state\n",
      "\n",
      "X O _\n",
      "_ _ _\n",
      "_ _ _\n",
      "Win probability = 0.50000000000000000\n",
      "\n",
      "X _ O\n",
      "_ _ _\n",
      "_ _ _\n",
      "Win probability = 0.50000000000000000\n",
      "\n",
      "X _ _\n",
      "O _ _\n",
      "_ _ _\n",
      "Win probability = 0.50000000000000000\n",
      "\n",
      "X _ _\n",
      "_ O _\n",
      "_ _ _\n",
      "Win probability = 0.50000000000000000\n",
      "\n",
      "X _ _\n",
      "_ _ O\n",
      "_ _ _\n",
      "Win probability = 0.50000000000000000\n",
      "\n",
      "X _ _\n",
      "_ _ _\n",
      "O _ _\n",
      "Win probability = 0.50000000000000000\n",
      "\n",
      "X _ _\n",
      "_ _ _\n",
      "_ O _\n",
      "Win probability = 0.50000000000000000\n",
      "\n",
      "X _ _\n",
      "_ _ _\n",
      "_ _ O\n",
      "Win probability = 0.50000000000000000\n",
      "\n"
     ]
    }
   ],
   "source": [
    "state = ['X', '_', '_', '_', '_', '_', '_', '_', '_']\n",
    "explore_policy(state, player2)"
   ]
  },
  {
   "cell_type": "code",
   "execution_count": 67,
   "metadata": {
    "collapsed": true
   },
   "outputs": [
    {
     "name": "stdout",
     "output_type": "stream",
     "text": [
      "X _ _\n",
      "_ _ _\n",
      "_ _ _\n",
      "Initial board state\n",
      "\n",
      "X O _\n",
      "_ _ _\n",
      "_ _ _\n",
      "Win probability = 0.18737530654001841\n",
      "\n",
      "X _ O\n",
      "_ _ _\n",
      "_ _ _\n",
      "Win probability = 0.24214233007289510\n",
      "\n",
      "X _ _\n",
      "O _ _\n",
      "_ _ _\n",
      "Win probability = 0.18838534308654881\n",
      "\n",
      "X _ _\n",
      "_ O _\n",
      "_ _ _\n",
      "Win probability = 0.50000000538575251\n",
      "\n",
      "X _ _\n",
      "_ _ O\n",
      "_ _ _\n",
      "Win probability = 0.32048128414295668\n",
      "\n",
      "X _ _\n",
      "_ _ _\n",
      "O _ _\n",
      "Win probability = 0.33452838754375175\n",
      "\n",
      "X _ _\n",
      "_ _ _\n",
      "_ O _\n",
      "Win probability = 0.24745382114959777\n",
      "\n",
      "X _ _\n",
      "_ _ _\n",
      "_ _ O\n",
      "Win probability = 0.24302427569023763\n",
      "\n"
     ]
    }
   ],
   "source": [
    "# After real games\n",
    "state = ['X', '_', '_', '_', '_', '_', '_', '_', '_']\n",
    "explore_policy(state, player2)"
   ]
  },
  {
   "cell_type": "code",
   "execution_count": 8,
   "metadata": {
    "collapsed": true
   },
   "outputs": [
    {
     "name": "stdout",
     "output_type": "stream",
     "text": [
      "_ _ _\n",
      "X _ _\n",
      "_ _ _\n",
      "Initial board state\n",
      "\n",
      "O _ _\n",
      "X _ _\n",
      "_ _ _\n",
      "Win probability = 0.50001414832167068\n",
      "\n",
      "_ O _\n",
      "X _ _\n",
      "_ _ _\n",
      "Win probability = 0.28616200204709702\n",
      "\n",
      "_ _ O\n",
      "X _ _\n",
      "_ _ _\n",
      "Win probability = 0.38382233248558001\n",
      "\n",
      "_ _ _\n",
      "X O _\n",
      "_ _ _\n",
      "Win probability = 0.50000891392253322\n",
      "\n",
      "_ _ _\n",
      "X _ O\n",
      "_ _ _\n",
      "Win probability = 0.50001442069110003\n",
      "\n",
      "_ _ _\n",
      "X _ _\n",
      "O _ _\n",
      "Win probability = 0.50068053430214110\n",
      "\n",
      "_ _ _\n",
      "X _ _\n",
      "_ O _\n",
      "Win probability = 0.22228104457487960\n",
      "\n",
      "_ _ _\n",
      "X _ _\n",
      "_ _ O\n",
      "Win probability = 0.31550165713188472\n",
      "\n"
     ]
    }
   ],
   "source": [
    "state = ['_', '_', '_', 'X', '_', '_', '_', '_', '_']\n",
    "explore_policy(state, player2)"
   ]
  },
  {
   "cell_type": "code",
   "execution_count": 68,
   "metadata": {
    "collapsed": true
   },
   "outputs": [
    {
     "name": "stdout",
     "output_type": "stream",
     "text": [
      "_ _ _\n",
      "X _ _\n",
      "_ _ _\n",
      "Initial board state\n",
      "\n",
      "O _ _\n",
      "X _ _\n",
      "_ _ _\n",
      "Win probability = 0.50000154888162762\n",
      "\n",
      "_ O _\n",
      "X _ _\n",
      "_ _ _\n",
      "Win probability = 0.34899297254332839\n",
      "\n",
      "_ _ O\n",
      "X _ _\n",
      "_ _ _\n",
      "Win probability = 0.28274182107305290\n",
      "\n",
      "_ _ _\n",
      "X O _\n",
      "_ _ _\n",
      "Win probability = 0.50000000145701207\n",
      "\n",
      "_ _ _\n",
      "X _ O\n",
      "_ _ _\n",
      "Win probability = 0.50001179977088361\n",
      "\n",
      "_ _ _\n",
      "X _ _\n",
      "O _ _\n",
      "Win probability = 0.50001307638968384\n",
      "\n",
      "_ _ _\n",
      "X _ _\n",
      "_ O _\n",
      "Win probability = 0.24150384190829743\n",
      "\n",
      "_ _ _\n",
      "X _ _\n",
      "_ _ O\n",
      "Win probability = 0.24388400735064977\n",
      "\n"
     ]
    }
   ],
   "source": [
    "# After real games\n",
    "state = ['_', '_', '_', 'X', '_', '_', '_', '_', '_']\n",
    "explore_policy(state, player2)"
   ]
  },
  {
   "cell_type": "code",
   "execution_count": 39,
   "metadata": {
    "collapsed": false
   },
   "outputs": [
    {
     "name": "stdout",
     "output_type": "stream",
     "text": [
      "_ _ _\n",
      "_ _ _\n",
      "_ _ _\n",
      "\n",
      "Player X's turn:\n",
      "best move ixs:  [0, 1, 2, 3, 4, 5, 6, 7, 8]\n",
      "max_prob:  0.5\n",
      "X _ _\n",
      "_ _ _\n",
      "_ _ _\n",
      "\n",
      "Player O's turn:\n",
      "Enter the row and column you want to make a mark in, using the format x,y 2,2\n",
      "X _ _\n",
      "_ O _\n",
      "_ _ _\n",
      "\n",
      "Player X's turn:\n",
      "best move ixs:  [1, 2, 3, 5, 6, 7, 8]\n",
      "max_prob:  0.5\n",
      "X _ _\n",
      "_ O _\n",
      "_ X _\n",
      "\n",
      "Player O's turn:\n",
      "Enter the row and column you want to make a mark in, using the format x,y 3,1\n",
      "X _ _\n",
      "_ O _\n",
      "O X _\n",
      "\n",
      "Player X's turn:\n",
      "best move ixs:  [2]\n",
      "max_prob:  0.5\n",
      "X _ X\n",
      "_ O _\n",
      "O X _\n",
      "\n",
      "Player O's turn:\n",
      "Enter the row and column you want to make a mark in, using the format x,y 1,2\n",
      "X O X\n",
      "_ O _\n",
      "O X _\n",
      "\n",
      "Player X's turn:\n",
      "best move ixs:  [3, 5, 8]\n",
      "max_prob:  0.5\n",
      "X O X\n",
      "_ O _\n",
      "O X X\n",
      "\n",
      "Player O's turn:\n",
      "Enter the row and column you want to make a mark in, using the format x,y 2,3\n",
      "X O X\n",
      "_ O O\n",
      "O X X\n",
      "\n",
      "Player X's turn:\n",
      "best move ixs:  [3]\n",
      "max_prob:  0.5\n",
      "X O X\n",
      "X O O\n",
      "O X X\n",
      "\n",
      "The game is a tie!\n"
     ]
    }
   ],
   "source": [
    "test_computer(player1, n_games=1)"
   ]
  },
  {
   "cell_type": "markdown",
   "metadata": {},
   "source": [
    "### Player 1 and Player 2 win stats"
   ]
  },
  {
   "cell_type": "code",
   "execution_count": 6,
   "metadata": {
    "collapsed": false
   },
   "outputs": [],
   "source": [
    "p1_2_train_scores, p1_2_train_scores_agg = compute_player_stats(p1_2_training_game, 'playerO')"
   ]
  },
  {
   "cell_type": "code",
   "execution_count": 7,
   "metadata": {
    "collapsed": false
   },
   "outputs": [
    {
     "data": {
      "image/png": "[encoded data removed]",
      "text/plain": [
       "<matplotlib.figure.Figure at 0x10d08ae50>"
      ]
     },
     "metadata": {},
     "output_type": "display_data"
    }
   ],
   "source": [
    "p1_2_train_scores_agg.plot()\n",
    "plt.title('Player 2 proportion of win/draw games in every 2000 training games')\n",
    "plt.xlabel('Group');"
   ]
  },
  {
   "cell_type": "code",
   "execution_count": 36,
   "metadata": {
    "collapsed": true
   },
   "outputs": [],
   "source": [
    "player1.set_epsilon(0)\n",
    "player2.set_epsilon(0)\n",
    "p1_2_real_game = train_computer_players(player1, player2, n_games=20000, adj_pX_epsilon=False, adj_pO_epsilon=False)"
   ]
  },
  {
   "cell_type": "code",
   "execution_count": 18,
   "metadata": {
    "collapsed": true
   },
   "outputs": [],
   "source": [
    "p1_2_real_scores, p1_2_real_scores_agg = compute_player_stats(p1_2_real_game, 'playerX')"
   ]
  },
  {
   "cell_type": "code",
   "execution_count": 19,
   "metadata": {
    "collapsed": false
   },
   "outputs": [
    {
     "data": {
      "image/png": "[encoded data removed]",
      "text/plain": [
       "<matplotlib.figure.Figure at 0x10dbef690>"
      ]
     },
     "metadata": {},
     "output_type": "display_data"
    }
   ],
   "source": [
    "p1_2_real_scores_agg.plot()\n",
    "plt.title('Player 1 proportion of win/draw games in every 200 real games');"
   ]
  },
  {
   "cell_type": "code",
   "execution_count": 25,
   "metadata": {
    "collapsed": false
   },
   "outputs": [
    {
     "data": {
      "text/plain": [
       "0.99527"
      ]
     },
     "execution_count": 25,
     "metadata": {},
     "output_type": "execute_result"
    }
   ],
   "source": [
    "p1_2_real_scores.score.mean()"
   ]
  },
  {
   "cell_type": "markdown",
   "metadata": {},
   "source": [
    "### Player 3 win stats"
   ]
  },
  {
   "cell_type": "code",
   "execution_count": 52,
   "metadata": {
    "collapsed": true
   },
   "outputs": [],
   "source": [
    "player3 = ttt_player('computer', 'O', epsilon=.9)"
   ]
  },
  {
   "cell_type": "code",
   "execution_count": 53,
   "metadata": {
    "collapsed": true
   },
   "outputs": [],
   "source": [
    "player1.set_epsilon(0)\n",
    "player1.alpha = 0\n",
    "p1_3_training_game = train_computer_players(player1, player3, adj_pX_epsilon=False)"
   ]
  },
  {
   "cell_type": "code",
   "execution_count": 54,
   "metadata": {
    "collapsed": false
   },
   "outputs": [
    {
     "data": {
      "text/plain": [
       "1751"
      ]
     },
     "execution_count": 54,
     "metadata": {},
     "output_type": "execute_result"
    }
   ],
   "source": [
    "len(player3.policy)\n"
   ]
  },
  {
   "cell_type": "code",
   "execution_count": 55,
   "metadata": {
    "collapsed": false
   },
   "outputs": [
    {
     "name": "stdout",
     "output_type": "stream",
     "text": [
      "X _ _\n",
      "_ _ _\n",
      "_ _ _\n",
      "Initial board state\n",
      "\n",
      "X O _\n",
      "_ _ _\n",
      "_ _ _\n",
      "Win probability = 0.00000000011908208\n",
      "\n",
      "X _ O\n",
      "_ _ _\n",
      "_ _ _\n",
      "Win probability = 0.00000000001614477\n",
      "\n",
      "X _ _\n",
      "O _ _\n",
      "_ _ _\n",
      "Win probability = 0.00000000039924351\n",
      "\n",
      "X _ _\n",
      "_ O _\n",
      "_ _ _\n",
      "Win probability = 0.50000000000000000\n",
      "\n",
      "X _ _\n",
      "_ _ O\n",
      "_ _ _\n",
      "Win probability = 0.00000000000690413\n",
      "\n",
      "X _ _\n",
      "_ _ _\n",
      "O _ _\n",
      "Win probability = 0.00000000101490790\n",
      "\n",
      "X _ _\n",
      "_ _ _\n",
      "_ O _\n",
      "Win probability = 0.00000000420971647\n",
      "\n",
      "X _ _\n",
      "_ _ _\n",
      "_ _ O\n",
      "Win probability = 0.00000000627944241\n",
      "\n"
     ]
    }
   ],
   "source": [
    "state = ['X', '_', '_', '_', '_', '_', '_', '_', '_']\n",
    "explore_policy(state, player3)"
   ]
  },
  {
   "cell_type": "code",
   "execution_count": 56,
   "metadata": {
    "collapsed": false
   },
   "outputs": [],
   "source": [
    "p1_3_train_scores, p1_3_train_scores_agg = compute_player_stats(p1_3_training_game, 'playerO')"
   ]
  },
  {
   "cell_type": "code",
   "execution_count": 57,
   "metadata": {
    "collapsed": false
   },
   "outputs": [
    {
     "data": {
      "image/png": "[encoded data removed]",
      "text/plain": [
       "<matplotlib.figure.Figure at 0x112621c50>"
      ]
     },
     "metadata": {},
     "output_type": "display_data"
    }
   ],
   "source": [
    "p1_3_train_scores_agg.plot()\n",
    "plt.title('Player 3 proportion of win/draw games in every 2000 training games');"
   ]
  },
  {
   "cell_type": "code",
   "execution_count": 58,
   "metadata": {
    "collapsed": true
   },
   "outputs": [],
   "source": [
    "player3.set_epsilon(0)\n",
    "p1_3_real_game = train_computer_players(player1, player3, n_games=20000, adj_pX_epsilon=False, adj_pO_epsilon=False)"
   ]
  },
  {
   "cell_type": "code",
   "execution_count": 59,
   "metadata": {
    "collapsed": true
   },
   "outputs": [],
   "source": [
    "p1_3_real_scores, p1_3_real_scores_agg = compute_player_stats(p1_3_real_game, 'playerO')"
   ]
  },
  {
   "cell_type": "code",
   "execution_count": 60,
   "metadata": {
    "collapsed": false
   },
   "outputs": [
    {
     "data": {
      "image/png": "[encoded data removed]",
      "text/plain": [
       "<matplotlib.figure.Figure at 0x112136650>"
      ]
     },
     "metadata": {},
     "output_type": "display_data"
    }
   ],
   "source": [
    "p1_3_real_scores_agg.plot()\n",
    "plt.title('Player 3 proportion of win/draw games in every 200 real games')\n",
    "plt.ylim(0,1.1);"
   ]
  },
  {
   "cell_type": "code",
   "execution_count": 87,
   "metadata": {
    "collapsed": false
   },
   "outputs": [],
   "source": [
    "p1_3_more_training = train_computer_players(player1, player3, n_games=50000,\n",
    "                                            adj_pX_epsilon=False, adj_pO_epsilon=False)"
   ]
  },
  {
   "cell_type": "code",
   "execution_count": 88,
   "metadata": {
    "collapsed": true
   },
   "outputs": [],
   "source": [
    "p1_3_real_scores2, p1_3_real_scores_agg2 = compute_player_stats(p1_3_more_training, 'playerO')"
   ]
  },
  {
   "cell_type": "code",
   "execution_count": 89,
   "metadata": {
    "collapsed": false
   },
   "outputs": [
    {
     "data": {
      "image/png": "[encoded data removed]",
      "text/plain": [
       "<matplotlib.figure.Figure at 0x10ea7a090>"
      ]
     },
     "metadata": {},
     "output_type": "display_data"
    }
   ],
   "source": [
    "p1_3_real_scores_agg2.plot()\n",
    "plt.title('Player 3 proportion of win/draw games in every 200 real games')\n",
    "plt.ylim(0,1.1);"
   ]
  },
  {
   "cell_type": "code",
   "execution_count": 35,
   "metadata": {
    "collapsed": false
   },
   "outputs": [
    {
     "data": {
      "text/plain": [
       "0"
      ]
     },
     "execution_count": 35,
     "metadata": {},
     "output_type": "execute_result"
    }
   ],
   "source": [
    "player3.epsilon"
   ]
  },
  {
   "cell_type": "markdown",
   "metadata": {},
   "source": [
    "### Figure out if Player 3 is buggy"
   ]
  },
  {
   "cell_type": "code",
   "execution_count": 61,
   "metadata": {
    "collapsed": false
   },
   "outputs": [
    {
     "name": "stdout",
     "output_type": "stream",
     "text": [
      "X X _\n",
      "O O _\n",
      "_ _ _\n",
      "Initial board state\n",
      "\n",
      "X X X\n",
      "O O _\n",
      "_ _ _\n",
      "Win probability = 1.00000000000000000\n",
      "\n",
      "X X _\n",
      "O O X\n",
      "_ _ _\n",
      "Win probability = 0.60141331827904998\n",
      "\n",
      "X X _\n",
      "O O _\n",
      "X _ _\n",
      "Win probability = 0.07396816663904195\n",
      "\n",
      "X X _\n",
      "O O _\n",
      "_ X _\n",
      "Win probability = 0.13516021384178606\n",
      "\n",
      "X X _\n",
      "O O _\n",
      "_ _ X\n",
      "Win probability = 0.04719398929906676\n",
      "\n"
     ]
    }
   ],
   "source": [
    "explore_policy(['X','X','_','O','O','_','_','_','_'], player1)"
   ]
  },
  {
   "cell_type": "code",
   "execution_count": 62,
   "metadata": {
    "collapsed": false
   },
   "outputs": [
    {
     "name": "stdout",
     "output_type": "stream",
     "text": [
      "X X _\n",
      "_ O _\n",
      "_ _ _\n",
      "Initial board state\n",
      "\n",
      "X X O\n",
      "_ O _\n",
      "_ _ _\n",
      "Win probability = 0.50000000000000000\n",
      "\n",
      "X X _\n",
      "O O _\n",
      "_ _ _\n",
      "Win probability = 0.00000041041550522\n",
      "\n",
      "X X _\n",
      "_ O O\n",
      "_ _ _\n",
      "Win probability = 0.00000045601722802\n",
      "\n",
      "X X _\n",
      "_ O _\n",
      "O _ _\n",
      "Win probability = 0.00000000000000000\n",
      "\n",
      "X X _\n",
      "_ O _\n",
      "_ O _\n",
      "Win probability = 0.00000000073752089\n",
      "\n",
      "X X _\n",
      "_ O _\n",
      "_ _ O\n",
      "Win probability = 0.00000002651728188\n",
      "\n"
     ]
    }
   ],
   "source": [
    "explore_policy(['X','X','_','_','O','_','_','_','_'], player3)"
   ]
  },
  {
   "cell_type": "code",
   "execution_count": 63,
   "metadata": {
    "collapsed": false
   },
   "outputs": [
    {
     "name": "stdout",
     "output_type": "stream",
     "text": [
      "X X _\n",
      "_ O _\n",
      "_ _ _\n",
      "Initial board state\n",
      "\n",
      "X X O\n",
      "_ O _\n",
      "_ _ _\n",
      "Win probability = 0.50000000000000089\n",
      "\n",
      "X X _\n",
      "O O _\n",
      "_ _ _\n",
      "Win probability = 0.20712923576225445\n",
      "\n",
      "X X _\n",
      "_ O O\n",
      "_ _ _\n",
      "Win probability = 0.04768837211788724\n",
      "\n",
      "X X _\n",
      "_ O _\n",
      "O _ _\n",
      "Win probability = 0.14612109711042437\n",
      "\n",
      "X X _\n",
      "_ O _\n",
      "_ O _\n",
      "Win probability = 0.11772295798026493\n",
      "\n",
      "X X _\n",
      "_ O _\n",
      "_ _ O\n",
      "Win probability = 0.10103516433642107\n",
      "\n"
     ]
    }
   ],
   "source": [
    "explore_policy(['X','X','_','_','O','_','_','_','_'], player2)"
   ]
  },
  {
   "cell_type": "code",
   "execution_count": 64,
   "metadata": {
    "collapsed": false
   },
   "outputs": [
    {
     "name": "stdout",
     "output_type": "stream",
     "text": [
      "X X O\n",
      "_ O _\n",
      "X _ _\n",
      "Initial board state\n",
      "\n",
      "X X O\n",
      "O O _\n",
      "X _ _\n",
      "Win probability = 0.50000000000000000\n",
      "\n",
      "X X O\n",
      "_ O O\n",
      "X _ _\n",
      "Win probability = 0.00001075736654947\n",
      "\n",
      "X X O\n",
      "_ O _\n",
      "X O _\n",
      "Win probability = 0.00000004041652473\n",
      "\n",
      "X X O\n",
      "_ O _\n",
      "X _ O\n",
      "Win probability = 0.00000024234625168\n",
      "\n"
     ]
    }
   ],
   "source": [
    "explore_policy(['X','X','O','_','O','_','X','_','_'], player3)"
   ]
  },
  {
   "cell_type": "code",
   "execution_count": 159,
   "metadata": {
    "collapsed": false
   },
   "outputs": [
    {
     "name": "stdout",
     "output_type": "stream",
     "text": [
      "0.00257688760366\n"
     ]
    }
   ],
   "source": [
    "a = a+.1*-a\n",
    "print a"
   ]
  },
  {
   "cell_type": "code",
   "execution_count": 65,
   "metadata": {
    "collapsed": false
   },
   "outputs": [
    {
     "name": "stdout",
     "output_type": "stream",
     "text": [
      "X X O\n",
      "_ O _\n",
      "X _ _\n",
      "Initial board state\n",
      "\n",
      "X X O\n",
      "O O _\n",
      "X _ _\n",
      "Win probability = 0.50000000000000044\n",
      "\n",
      "X X O\n",
      "_ O O\n",
      "X _ _\n",
      "Win probability = 0.14089767531755445\n",
      "\n",
      "X X O\n",
      "_ O _\n",
      "X O _\n",
      "Win probability = 0.00079063669212751\n",
      "\n",
      "X X O\n",
      "_ O _\n",
      "X _ O\n",
      "Win probability = 0.13628249080899935\n",
      "\n"
     ]
    }
   ],
   "source": [
    "explore_policy(['X','X','O','_','O','_','X','_','_'], player2)"
   ]
  },
  {
   "cell_type": "code",
   "execution_count": 66,
   "metadata": {
    "collapsed": false
   },
   "outputs": [
    {
     "name": "stdout",
     "output_type": "stream",
     "text": [
      "X X O\n",
      "_ O _\n",
      "X _ O\n",
      "Initial board state\n",
      "\n",
      "X X O\n",
      "X O _\n",
      "X _ O\n",
      "Win probability = 1.00000000000000000\n",
      "\n",
      "X X O\n",
      "_ O X\n",
      "X _ O\n",
      "Win probability = 0.50000000000000044\n",
      "\n",
      "X X O\n",
      "_ O _\n",
      "X X O\n",
      "Win probability = 0.00292556693979397\n",
      "\n"
     ]
    }
   ],
   "source": [
    "explore_policy(['X','X','O','_','O','_','X','_','O'], player1)"
   ]
  },
  {
   "cell_type": "code",
   "execution_count": 67,
   "metadata": {
    "collapsed": false
   },
   "outputs": [
    {
     "name": "stdout",
     "output_type": "stream",
     "text": [
      "X X O\n",
      "_ O X\n",
      "X _ O\n",
      "Initial board state\n",
      "\n",
      "X X O\n",
      "O O X\n",
      "X _ O\n",
      "Win probability = 0.50000000000000000\n",
      "\n",
      "X X O\n",
      "_ O X\n",
      "X O O\n",
      "Win probability = 0.00000000059739192\n",
      "\n"
     ]
    }
   ],
   "source": [
    "explore_policy(['X','X','O','_','O','X','X','_','O'], player3)"
   ]
  },
  {
   "cell_type": "code",
   "execution_count": 96,
   "metadata": {
    "collapsed": false
   },
   "outputs": [
    {
     "name": "stdout",
     "output_type": "stream",
     "text": [
      "_ _ _\n",
      "_ _ _\n",
      "_ _ _\n",
      "\n",
      "Player X's turn:\n",
      "best move ixs:  [0, 1, 2, 3, 4, 5, 6, 7, 8]\n",
      "max_prob:  0.5\n",
      "X _ _\n",
      "_ _ _\n",
      "_ _ _\n",
      "\n",
      "Player O's turn:\n",
      "Enter the row and column you want to make a mark in, using the format x,y 2,2\n",
      "X _ _\n",
      "_ O _\n",
      "_ _ _\n",
      "\n",
      "Player X's turn:\n",
      "best move ixs:  [1, 2, 3, 5, 6, 7, 8]\n",
      "max_prob:  0.5\n",
      "X _ _\n",
      "_ O _\n",
      "_ _ X\n",
      "\n",
      "Player O's turn:\n",
      "Enter the row and column you want to make a mark in, using the format x,y 3,2\n",
      "X _ _\n",
      "_ O _\n",
      "_ O X\n",
      "\n",
      "Player X's turn:\n",
      "best move ixs:  [1]\n",
      "max_prob:  0.5\n",
      "X X _\n",
      "_ O _\n",
      "_ O X\n",
      "\n",
      "Player O's turn:\n",
      "Enter the row and column you want to make a mark in, using the format x,y 1,3\n",
      "X X O\n",
      "_ O _\n",
      "_ O X\n",
      "\n",
      "Player X's turn:\n",
      "best move ixs:  [6]\n",
      "max_prob:  0.5\n",
      "X X O\n",
      "_ O _\n",
      "X O X\n",
      "\n",
      "Player O's turn:\n",
      "Enter the row and column you want to make a mark in, using the format x,y 2,1\n",
      "X X O\n",
      "O O _\n",
      "X O X\n",
      "\n",
      "Player X's turn:\n",
      "best move ixs:  [5]\n",
      "max_prob:  0.5\n",
      "X X O\n",
      "O O X\n",
      "X O X\n",
      "\n",
      "The game is a tie!\n"
     ]
    }
   ],
   "source": [
    "test_computer(player1, n_games=1)"
   ]
  },
  {
   "cell_type": "code",
   "execution_count": 70,
   "metadata": {
    "collapsed": false
   },
   "outputs": [
    {
     "data": {
      "text/plain": [
       "1751"
      ]
     },
     "execution_count": 70,
     "metadata": {},
     "output_type": "execute_result"
    }
   ],
   "source": [
    "len(player3.policy)"
   ]
  },
  {
   "cell_type": "code",
   "execution_count": 71,
   "metadata": {
    "collapsed": false
   },
   "outputs": [
    {
     "name": "stdout",
     "output_type": "stream",
     "text": [
      "_ _ _\n",
      "_ _ _\n",
      "_ _ _\n",
      "Initial board state\n",
      "\n",
      "X _ _\n",
      "_ _ _\n",
      "_ _ _\n",
      "Win probability = 0.50000000000000133\n",
      "\n",
      "_ X _\n",
      "_ _ _\n",
      "_ _ _\n",
      "Win probability = 0.50000234415819367\n",
      "\n",
      "_ _ X\n",
      "_ _ _\n",
      "_ _ _\n",
      "Win probability = 0.50000000286905710\n",
      "\n",
      "_ _ _\n",
      "X _ _\n",
      "_ _ _\n",
      "Win probability = 0.50000169618567569\n",
      "\n",
      "_ _ _\n",
      "_ X _\n",
      "_ _ _\n",
      "Win probability = 0.50000038831593496\n",
      "\n",
      "_ _ _\n",
      "_ _ X\n",
      "_ _ _\n",
      "Win probability = 0.50000317155810037\n",
      "\n",
      "_ _ _\n",
      "_ _ _\n",
      "X _ _\n",
      "Win probability = 0.50000000073787887\n",
      "\n",
      "_ _ _\n",
      "_ _ _\n",
      "_ X _\n",
      "Win probability = 0.50000222094548930\n",
      "\n",
      "_ _ _\n",
      "_ _ _\n",
      "_ _ X\n",
      "Win probability = 0.50000000860830762\n",
      "\n"
     ]
    }
   ],
   "source": [
    "explore_policy(['_','_','_','_','_','_','_','_','_'], player1)"
   ]
  },
  {
   "cell_type": "code",
   "execution_count": 72,
   "metadata": {
    "collapsed": false
   },
   "outputs": [
    {
     "name": "stdout",
     "output_type": "stream",
     "text": [
      "_ X O\n",
      "O X X\n",
      "O _ _\n",
      "Initial board state\n",
      "\n",
      "X X O\n",
      "O X X\n",
      "O _ _\n",
      "Win probability = 0.98986222020477732\n",
      "\n",
      "_ X O\n",
      "O X X\n",
      "O X _\n",
      "Win probability = 1.00000000000000000\n",
      "\n",
      "_ X O\n",
      "O X X\n",
      "O _ X\n",
      "Win probability = 0.05757427739361200\n",
      "\n"
     ]
    }
   ],
   "source": [
    "explore_policy(['_','X','O','O','X','X','O','_','_'], player1)"
   ]
  },
  {
   "cell_type": "markdown",
   "metadata": {},
   "source": [
    "### What is Player 1's deal?"
   ]
  },
  {
   "cell_type": "code",
   "execution_count": 73,
   "metadata": {
    "collapsed": false
   },
   "outputs": [
    {
     "name": "stdout",
     "output_type": "stream",
     "text": [
      "X X _\n",
      "_ O _\n",
      "_ _ _\n",
      "Initial board state\n",
      "\n",
      "X X O\n",
      "_ O _\n",
      "_ _ _\n",
      "Win probability = 0.50000000000000000\n",
      "\n",
      "X X _\n",
      "O O _\n",
      "_ _ _\n",
      "Win probability = 0.00000041041550522\n",
      "\n",
      "X X _\n",
      "_ O O\n",
      "_ _ _\n",
      "Win probability = 0.00000045601722802\n",
      "\n",
      "X X _\n",
      "_ O _\n",
      "O _ _\n",
      "Win probability = 0.00000000000000000\n",
      "\n",
      "X X _\n",
      "_ O _\n",
      "_ O _\n",
      "Win probability = 0.00000000073752089\n",
      "\n",
      "X X _\n",
      "_ O _\n",
      "_ _ O\n",
      "Win probability = 0.00000002651728188\n",
      "\n"
     ]
    }
   ],
   "source": [
    "explore_policy(['X','X','_','_','O','_','_','_','_'], player3)"
   ]
  },
  {
   "cell_type": "code",
   "execution_count": 46,
   "metadata": {
    "collapsed": false
   },
   "outputs": [
    {
     "name": "stdout",
     "output_type": "stream",
     "text": [
      "_ _ _\n",
      "_ _ _\n",
      "_ _ _\n",
      "\n",
      "Player X's turn:\n",
      "Enter the row and column you want to make a mark in, using the format x,y 1,1\n",
      "X _ _\n",
      "_ _ _\n",
      "_ _ _\n",
      "\n",
      "Player O's turn:\n",
      "X _ _\n",
      "O _ _\n",
      "_ _ _\n",
      "\n",
      "Player X's turn:\n",
      "Enter the row and column you want to make a mark in, using the format x,y 1,3\n",
      "X _ X\n",
      "O _ _\n",
      "_ _ _\n",
      "\n",
      "Player O's turn:\n",
      "best move ixs:  [1, 5, 7, 8]\n",
      "max_prob:  0.5\n",
      "X _ X\n",
      "O _ O\n",
      "_ _ _\n",
      "\n",
      "Player X's turn:\n",
      "Enter the row and column you want to make a mark in, using the format x,y 1,2\n",
      "X X X\n",
      "O _ O\n",
      "_ _ _\n",
      "\n",
      "Player X wins!\n"
     ]
    }
   ],
   "source": [
    "player3.set_epsilon(.5)\n",
    "test_computer(player3, n_games=1)"
   ]
  },
  {
   "cell_type": "code",
   "execution_count": 74,
   "metadata": {
    "collapsed": false
   },
   "outputs": [
    {
     "name": "stdout",
     "output_type": "stream",
     "text": [
      "X _ X\n",
      "O _ _\n",
      "_ _ _\n",
      "Initial board state\n",
      "\n",
      "X O X\n",
      "O _ _\n",
      "_ _ _\n"
     ]
    },
    {
     "ename": "KeyError",
     "evalue": "('X', 'O', 'X', 'O', '_', '_', '_', '_', '_')",
     "output_type": "error",
     "traceback": [
      "\u001b[0;31m---------------------------------------------------------------------------\u001b[0m",
      "\u001b[0;31mKeyError\u001b[0m                                  Traceback (most recent call last)",
      "\u001b[0;32m<ipython-input-74-a791f9bf91c5>\u001b[0m in \u001b[0;36m<module>\u001b[0;34m()\u001b[0m\n\u001b[0;32m----> 1\u001b[0;31m \u001b[0mexplore_policy\u001b[0m\u001b[0;34m(\u001b[0m\u001b[0;34m[\u001b[0m\u001b[0;34m'X'\u001b[0m\u001b[0;34m,\u001b[0m\u001b[0;34m'_'\u001b[0m\u001b[0;34m,\u001b[0m\u001b[0;34m'X'\u001b[0m\u001b[0;34m,\u001b[0m\u001b[0;34m'O'\u001b[0m\u001b[0;34m,\u001b[0m\u001b[0;34m'_'\u001b[0m\u001b[0;34m,\u001b[0m\u001b[0;34m'_'\u001b[0m\u001b[0;34m,\u001b[0m\u001b[0;34m'_'\u001b[0m\u001b[0;34m,\u001b[0m\u001b[0;34m'_'\u001b[0m\u001b[0;34m,\u001b[0m\u001b[0;34m'_'\u001b[0m\u001b[0;34m]\u001b[0m\u001b[0;34m,\u001b[0m \u001b[0mplayer3\u001b[0m\u001b[0;34m)\u001b[0m\u001b[0;34m\u001b[0m\u001b[0m\n\u001b[0m",
      "\u001b[0;32m<ipython-input-45-98f62e52f925>\u001b[0m in \u001b[0;36mexplore_policy\u001b[0;34m(state, player)\u001b[0m\n\u001b[1;32m     67\u001b[0m         \u001b[0mpotential_state\u001b[0m\u001b[0;34m[\u001b[0m\u001b[0mi\u001b[0m\u001b[0;34m]\u001b[0m \u001b[0;34m=\u001b[0m \u001b[0mplayer\u001b[0m\u001b[0;34m.\u001b[0m\u001b[0mmark\u001b[0m\u001b[0;34m\u001b[0m\u001b[0m\n\u001b[1;32m     68\u001b[0m         \u001b[0mprint_board\u001b[0m\u001b[0;34m(\u001b[0m\u001b[0mpotential_state\u001b[0m\u001b[0;34m)\u001b[0m\u001b[0;34m\u001b[0m\u001b[0m\n\u001b[0;32m---> 69\u001b[0;31m         \u001b[0;32mprint\u001b[0m \u001b[0;34m'Win probability = %.17f\\n'\u001b[0m \u001b[0;34m%\u001b[0m \u001b[0mplayer\u001b[0m\u001b[0;34m.\u001b[0m\u001b[0mpolicy\u001b[0m\u001b[0;34m[\u001b[0m\u001b[0mtuple\u001b[0m\u001b[0;34m(\u001b[0m\u001b[0mpotential_state\u001b[0m\u001b[0;34m)\u001b[0m\u001b[0;34m]\u001b[0m\u001b[0;34m\u001b[0m\u001b[0m\n\u001b[0m\u001b[1;32m     70\u001b[0m \u001b[0;34m\u001b[0m\u001b[0m\n\u001b[1;32m     71\u001b[0m \u001b[0;34m\u001b[0m\u001b[0m\n",
      "\u001b[0;31mKeyError\u001b[0m: ('X', 'O', 'X', 'O', '_', '_', '_', '_', '_')"
     ]
    }
   ],
   "source": [
    "explore_policy(['X','_','X','O','_','_','_','_','_'], player3)"
   ]
  },
  {
   "cell_type": "code",
   "execution_count": 78,
   "metadata": {
    "collapsed": false
   },
   "outputs": [
    {
     "name": "stdout",
     "output_type": "stream",
     "text": [
      "X _ _\n",
      "O _ _\n",
      "_ _ _\n",
      "Initial board state\n",
      "\n",
      "X X _\n",
      "O _ _\n",
      "_ _ _\n",
      "Win probability = 0.88209304572364799\n",
      "\n",
      "X _ X\n",
      "O _ _\n",
      "_ _ _\n",
      "Win probability = 0.87876867161072036\n",
      "\n",
      "X _ _\n",
      "O X _\n",
      "_ _ _\n",
      "Win probability = 0.99999997770097437\n",
      "\n",
      "X _ _\n",
      "O _ X\n",
      "_ _ _\n",
      "Win probability = 0.50000764972816292\n",
      "\n",
      "X _ _\n",
      "O _ _\n",
      "X _ _\n",
      "Win probability = 0.63998814404340776\n",
      "\n",
      "X _ _\n",
      "O _ _\n",
      "_ X _\n",
      "Win probability = 0.69013965920311970\n",
      "\n",
      "X _ _\n",
      "O _ _\n",
      "_ _ X\n",
      "Win probability = 0.77824843059546378\n",
      "\n"
     ]
    }
   ],
   "source": [
    "explore_policy(['X','_','_','O','_','_','_','_','_'], player1)"
   ]
  },
  {
   "cell_type": "code",
   "execution_count": 75,
   "metadata": {
    "collapsed": false
   },
   "outputs": [
    {
     "name": "stdout",
     "output_type": "stream",
     "text": [
      "X X O\n",
      "_ O _\n",
      "X _ _\n",
      "Initial board state\n",
      "\n",
      "X X O\n",
      "O O _\n",
      "X _ _\n",
      "Win probability = 0.50000000000000000\n",
      "\n",
      "X X O\n",
      "_ O O\n",
      "X _ _\n",
      "Win probability = 0.00001075736654947\n",
      "\n",
      "X X O\n",
      "_ O _\n",
      "X O _\n",
      "Win probability = 0.00000004041652473\n",
      "\n",
      "X X O\n",
      "_ O _\n",
      "X _ O\n",
      "Win probability = 0.00000024234625168\n",
      "\n"
     ]
    }
   ],
   "source": [
    "explore_policy(['X','X','O','_','O','_','X','_','_'], player3)"
   ]
  },
  {
   "cell_type": "code",
   "execution_count": null,
   "metadata": {
    "collapsed": true
   },
   "outputs": [],
   "source": []
  },
  {
   "cell_type": "code",
   "execution_count": null,
   "metadata": {
    "collapsed": true
   },
   "outputs": [],
   "source": []
  },
  {
   "cell_type": "markdown",
   "metadata": {},
   "source": [
    "# Mental Bookmark\n",
    "- train faster\n",
    "- Expert O did worse than Challenger O against Random X. Why? \n",
    "- Changing P1's alpha to 0 eliminated the issue where P3 didn't explore the possibility space (I think P1 was always playing the same move because it learned that that move was \"better,\" but that was just because P3 played that position poorly and lost.)\n",
    "- P1 doesn't prefer corners. What if I train it against a P2 with a constant epsilon = .9? Then it should learn that corners are better because corners lead to more game paths where O loses.  \n",
    "-- Nope, X prefers the center if O is moving randomly (or close to randomly). But why? I worked out the numbers and corners should be slightly better.\n",
    "- consider \"shaping.\" Player 3 learns faster against expert Player 1 than if Player 1 is set to explore? Create these players:  \n",
    "-- Expert Player X, explores all moves and is an expert player  \n",
    "-- Apprentice Player O, trains against Expert X and therefore only explores the best moves for X (should train faster than New Expert O)  \n",
    "-- Random Player, compare win rate when an Expert plays Random vs. when Apprentice plays Random (Apprentice should perform poorly when Random makes non-Expert moves)\n",
    "-- New Expert O, trains against Expert X while X epsilon > .5. Should perform better against Random than Apprentice.  \n",
    "- maybe create an argument to remove np.isclose and train faster\n",
    "- create readme\n",
    "- create a module that I can import?\n",
    "- give computer players one policy dictionary to share?  \n",
    "-- they'll train twice as fast, and have all entries"
   ]
  },
  {
   "cell_type": "markdown",
   "metadata": {},
   "source": [
    "## Stuff to write about\n",
    "- Implementation  \n",
    "--  training player3 with player1's learning rate != 0 somehow resulted in p3 not exploring a lot of paths. I think it's because p1's policy changed a bunch in response to p3's erratic behavior as a learner, and thus p1 learned some new \"best\" moves and stuck with those for a while.  \n",
    "-- have to continue training after stopping exploration, to let policies settle\n",
    "\n",
    "\n",
    "- Interesting stuff  \n",
    "-- this algo will win either quickly or slowly if it has equal probability of winning with either. As will minimax if you don't do alpha-beta pruning.  \n",
    "-- if board is [\\_,X,O,\\_,X,\\_,O,\\_,\\_], any move by X has 100% chance of winning!\n",
    "-- \"shaping behavior\": train against expert opponent to explore the best moves faster"
   ]
  },
  {
   "cell_type": "code",
   "execution_count": null,
   "metadata": {
    "collapsed": true
   },
   "outputs": [],
   "source": []
  }
 ],
 "metadata": {
  "anaconda-cloud": {},
  "kernelspec": {
   "display_name": "Python [conda root]",
   "language": "python",
   "name": "conda-root-py"
  },
  "language_info": {
   "codemirror_mode": {
    "name": "ipython",
    "version": 2
   },
   "file_extension": ".py",
   "mimetype": "text/x-python",
   "name": "python",
   "nbconvert_exporter": "python",
   "pygments_lexer": "ipython2",
   "version": "2.7.12"
  }
 },
 "nbformat": 4,
 "nbformat_minor": 1
}
