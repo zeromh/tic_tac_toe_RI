{
 "cells": [
  {
   "cell_type": "code",
   "execution_count": null,
   "metadata": {
    "collapsed": true
   },
   "outputs": [],
   "source": [
    "import numpy as np\n",
    "import matplotlib.pyplot as plt\n",
    "import pandas as pd\n",
    "from numpy.random import choice\n",
    "\n",
    "%matplotlib inline"
   ]
  },
  {
   "cell_type": "markdown",
   "metadata": {
    "collapsed": true
   },
   "source": [
    "https://www.neverstopbuilding.com/blog/2013/12/13/tic-tac-toe-understanding-the-minimax-algorithm13  \n",
    "https://github.com/khpeek/Q-learning-Tic-Tac-Toe"
   ]
  },
  {
   "cell_type": "markdown",
   "metadata": {},
   "source": [
    "### Outline:\n",
    "- Game  \n",
    "-- instantiates new Players, or accesses provided Players    \n",
    "-- instantiates the Board  \n",
    "-- keeps track of whose turn it is  \n",
    "-- passes Board to Players when asking for a move, then updates Board with move  \n",
    "-- keeps track of game outcome\n",
    "- Board  \n",
    "-- the board that is updated over the course of the game\n",
    "- Player  \n",
    "-- can exist on its own outside of Game  \n",
    "-- has a policy  \n",
    "-- selects a move  \n",
    "-- can calculate if a board state is a win/loss/tie\n",
    "-- remembers Board state from Player's previous move, and updates policy if needed  \n",
    "-- if set to 'human', the Player just asks the human for input for each move"
   ]
  },
  {
   "cell_type": "markdown",
   "metadata": {},
   "source": [
    "# Classes"
   ]
  },
  {
   "cell_type": "code",
   "execution_count": null,
   "metadata": {
    "collapsed": true
   },
   "outputs": [],
   "source": []
  },
  {
   "cell_type": "code",
   "execution_count": 1,
   "metadata": {
    "collapsed": true
   },
   "outputs": [],
   "source": [
    "class ttt_board(object):\n",
    "    \n",
    "    def __init__(self):\n",
    "        self.spaces = ['_'] * 9\n",
    "        \n",
    "    def __str__(self):\n",
    "        # Allow for printing of board in human-readable format\n",
    "        return '%s\\n%s\\n%s\\n' % (' '.join(self.spaces[:3]), ' '.join(self.spaces[3:6]), ' '.join(self.spaces[6:]))\n",
    "    \n",
    "    def update(self, ix, mark):\n",
    "        \"\"\"\n",
    "        Updates the board with a new X or O.\n",
    "        \"\"\"\n",
    "        self.spaces[ix] = mark\n",
    "\n",
    "    \n",
    "class ttt_player(object):\n",
    "    \n",
    "    def __init__(self, player_type, mark, epsilon=.9, alpha=.1):\n",
    "        self.player_type = player_type\n",
    "        self.mark = mark\n",
    "        self.board_vals = [2**i for i in range(9)]\n",
    "        if player_type == 'computer':\n",
    "            self.policy = dict()\n",
    "            self.alpha = alpha            # learning rate\n",
    "            self.epsilon = epsilon        # exploration rate\n",
    "            self.prev_state = None\n",
    "    \n",
    "    \n",
    "    def __str__(self):\n",
    "        return 'Player %s' % self.mark\n",
    "    \n",
    "    \n",
    "    def set_epsilon(self, epsilon):\n",
    "        \"\"\"\n",
    "        Sets the player's exploration rate. This is the rate at which the player explores move options that\n",
    "        *don't* have the highest win probability based on the player's current policy.\n",
    "        \"\"\"\n",
    "        self.epsilon = epsilon\n",
    "    \n",
    "    \n",
    "    def get_player_total(self, state):\n",
    "        \"\"\"\n",
    "        Returns a total for each player based on values I've assigned to each space on the board.\n",
    "        This enables us to easily see if someone has won the game.\n",
    "        \"\"\"\n",
    "        total = 0\n",
    "        for i, x in enumerate(state):\n",
    "            if x == self.mark:\n",
    "                total += self.board_vals[i]\n",
    "        return total\n",
    "    \n",
    "    \n",
    "    def get_move_outcome(self, state):\n",
    "        \"\"\"\n",
    "        Informs the player that the given state is a win, draw, or none of the above. Uses bitwise operations to\n",
    "        translate the board state into an indication of a win. See explanation here:\n",
    "        http://mamallamacoding.blogspot.com/2014/03/making-tictactoe-with-object-oriented.html\n",
    "        \"\"\"\n",
    "        win_totals = [7, 56, 448, 73, 146, 292, 273, 84]\n",
    "        total = self.get_player_total(state)\n",
    "        for val in win_totals:\n",
    "            if total & val == val: # bitwise operation!\n",
    "                return 'win'\n",
    "        if '_' not in state:\n",
    "            return 'draw'\n",
    "        return None\n",
    "    \n",
    "    \n",
    "    def get_prob_from_policy(self, state):\n",
    "        \"\"\"\n",
    "        This function returns a player's current understanding of its probability of winning from a given\n",
    "        board state. If the player has never seen this state before, the function fills the player's policy with\n",
    "        a 1 if it's a win state (e.g. three X's in a row), a .5 if it's a draw state, or a .5 if it's an unknown\n",
    "        state prior to the end of the game.\n",
    "        \n",
    "        (A player will never store a lose state in its policy [e.g. three O's in a row if you are player X] \n",
    "        because the player will not make any more moves after it has lost.)\n",
    "        \"\"\"\n",
    "        state = tuple(state)\n",
    "        if state in self.policy:\n",
    "            return self.policy[state]\n",
    "        \n",
    "        outcome = self.get_move_outcome(state)\n",
    "        if outcome == 'win':\n",
    "            self.policy[state] = 1\n",
    "        elif outcome == 'draw':\n",
    "            self.policy[state] = .5\n",
    "        else:                       # Fill with .5 if winner hasn't been decided yet\n",
    "            self.policy[state] = .5\n",
    "        return self.policy[state]\n",
    "\n",
    "                                   \n",
    "    def update_policy(self, current_win_prob, board, state):\n",
    "        \"\"\"\n",
    "        Updates the win probability of a previous state based on the win probability of the current state.\n",
    "        \"\"\"\n",
    "        prev_state = tuple(self.prev_state)\n",
    "        prev_win_prob = self.policy[prev_state]\n",
    "        self.policy[prev_state] = prev_win_prob + self.alpha*(current_win_prob - prev_win_prob)\n",
    "        \n",
    "        \n",
    "    def get_move(self, board):\n",
    "        \"\"\"\n",
    "        Gets a move from a human or computer player.\n",
    "        returns: index of the board space that the player wants to make an X or O in (ix from 0-8)\n",
    "        \"\"\"\n",
    "        if self.player_type == 'human':\n",
    "            while True:\n",
    "                try:\n",
    "                    row_index, col_index = eval(raw_input( \\\n",
    "                                \"Enter the row and column you want to make a mark in, using the format x,y \"))\n",
    "                    # Get correct index in the board list, adjusting for 0-indexing\n",
    "                    move_index = (row_index-1)*3 + col_index - 1\n",
    "                    if board.spaces[move_index] == '_':\n",
    "                        return move_index\n",
    "                except:\n",
    "                    pass\n",
    "                print \"Invalid move.\\n\"\n",
    "        \n",
    "        # Make Computer player decision\n",
    "        state = board.spaces[:]\n",
    "        possible_move_indices = [i for i, x in enumerate(state) if x == '_']\n",
    "        \n",
    "        if np.random.uniform() < self.epsilon:     # randomly choose a move with probability = epsilon\n",
    "            move_index = choice(possible_move_indices)\n",
    "            next_state = state[:]\n",
    "            next_state[move_index] = self.mark\n",
    "            _ = self.get_prob_from_policy(next_state) # I don't use the result, but this function fills the\n",
    "                            # policy with a win probability for this state if this state key doesn't already exist\n",
    "        \n",
    "        else:               # Choose the best known move with probability = 1-epsilon\n",
    "            max_prob = 0\n",
    "            best_move_ixs = []\n",
    "            for i in possible_move_indices:\n",
    "                potential_state = state[:]\n",
    "                potential_state[i] = self.mark\n",
    "                prob = self.get_prob_from_policy(potential_state)\n",
    "                if prob == max_prob:\n",
    "                        best_move_ixs.append(i)\n",
    "                if prob > max_prob:\n",
    "                        best_move_ixs = [i]\n",
    "                        max_prob = prob\n",
    "            move_index = choice(best_move_ixs)\n",
    "            if self.prev_state:\n",
    "                self.update_policy(max_prob, board, state)  \n",
    "\n",
    "        self.prev_state = state\n",
    "        self.prev_state[move_index] = self.mark\n",
    "        return move_index\n",
    "                            \n",
    "            \n",
    "# Game object instantiates the board and human or CPU players\n",
    "class ttt_game(object):\n",
    "    \n",
    "    def __init__(self, playerX, playerO, print_output = True):\n",
    "        self.board = ttt_board()\n",
    "        if isinstance(playerX, ttt_player):\n",
    "            if playerX.mark == 'X':\n",
    "                self.playerX = playerX\n",
    "                self.playerX.prev_state = None\n",
    "            else:\n",
    "                raise ValueError('playerX must have player mark \"X\".')\n",
    "        elif playerX == 'human':\n",
    "            self.playerX = ttt_player('human', 'X')\n",
    "        elif playerX == 'computer':\n",
    "            self.playerX = ttt_player('computer', 'X')\n",
    "        else:\n",
    "            raise ValueError('playerX must be a ttt_player object, or it must be a string indicating \"human\" or \"computer.\"')\n",
    "          \n",
    "        if isinstance(playerO, ttt_player):\n",
    "            if playerO.mark == 'O':\n",
    "                self.playerO = playerO\n",
    "                self.playerO.prev_state = None\n",
    "            else:\n",
    "                raise ValueError('playerO must have player mark \"O\".')\n",
    "        elif playerO == 'human':\n",
    "            self.playerO = ttt_player('human', 'O')\n",
    "        elif playerO == 'computer':\n",
    "            self.playerO = ttt_player('computer', 'O')\n",
    "        else:\n",
    "            raise ValueError('playerO must be a ttt_player object, or it must be a string indicating \"human\" or \"computer.\"')\n",
    "               \n",
    "        self.playerX_score = []\n",
    "        self.playerO_score = []\n",
    "        self.current_player = self.playerX\n",
    "        self.print_output = print_output\n",
    "        \n",
    "        \n",
    "    def set_print(self, print_output):\n",
    "        \"\"\"\n",
    "        Sets the print_output attribute. If True, ttt_game will print the board at each move, say whose turn\n",
    "        it is, and state the outcome of each game.\n",
    "        print_output: True or False\n",
    "        \"\"\"\n",
    "        self.print_output = print_output\n",
    "    \n",
    "    \n",
    "    def take_a_turn(self):\n",
    "        \"\"\"\n",
    "        Asks the current player to select its next move.\n",
    "        \"\"\"\n",
    "        if self.print_output:\n",
    "            print \"%s's turn:\" % self.current_player\n",
    "        move_index = self.current_player.get_move(self.board)\n",
    "        self.board.update(move_index, self.current_player.mark)\n",
    "        if self.current_player == self.playerX:\n",
    "            self.current_player = self.playerO\n",
    "        else:\n",
    "            self.current_player = self.playerX\n",
    "        if self.print_output:\n",
    "            print self.board\n",
    "        \n",
    "        \n",
    "    def game_outcome(self):\n",
    "        \"\"\"\n",
    "        Returns information on wins or ties, or returns None if the game is not yet over.\n",
    "        \"\"\"\n",
    "        state = self.board.spaces\n",
    "        win_totals = [7, 56, 448, 73, 146, 292, 273, 84]\n",
    "        X_total = self.playerX.get_player_total(state)\n",
    "        O_total = self.playerO.get_player_total(state)\n",
    "        for val in win_totals:\n",
    "            if X_total & val == val:        # Bitwise operation!\n",
    "                self.playerX_score.append(1)\n",
    "                self.playerO_score.append(0)\n",
    "                return 'Player X wins!'\n",
    "            if O_total & val == val:\n",
    "                self.playerO_score.append(1)\n",
    "                self.playerX_score.append(1)\n",
    "                return 'Player O wins!'\n",
    "        if '_' not in state:\n",
    "            self.playerX_score.append(.5)\n",
    "            self.playerO_score.append(.5)\n",
    "            return 'The game is a tie!'\n",
    "        return None\n",
    "\n",
    "                                   \n",
    "    def send_game_end_signal(self, outcome):\n",
    "        \"\"\"\n",
    "        The \"current player\" is the player who took the penultimate turn. We send that player information on\n",
    "        the game outcome, so that player can adjust its policy.\n",
    "        \"\"\"\n",
    "        penultimate_player = self.current_player\n",
    "        if outcome == 'The game is a tie!':\n",
    "            win_prob = .5\n",
    "        else:\n",
    "            win_prob = 0\n",
    "        if penultimate_player.player_type == 'computer':\n",
    "            penultimate_player.update_policy(win_prob, self.board, self.board)   \n",
    "    \n",
    "    \n",
    "    def play(self):\n",
    "        \"\"\"\n",
    "        Plays a game of tic tac toe.\n",
    "        \"\"\"\n",
    "        if self.print_output:\n",
    "            print self.board\n",
    "        outcome = self.game_outcome()\n",
    "        while not (outcome):\n",
    "            self.take_a_turn()\n",
    "            outcome = self.game_outcome()\n",
    "        self.send_game_end_signal(outcome)\n",
    "        if self.print_output:\n",
    "            print outcome\n",
    "      \n",
    "    \n",
    "    def reset(self):\n",
    "        \"\"\"\n",
    "        Resets board and certain player attributes in preparation for a new game.\n",
    "        \"\"\"\n",
    "        self.board = ttt_board()\n",
    "        self.playerX.prev_state = None\n",
    "        self.playerO.prev_state = None\n",
    "        self.current_player = self.playerX\n",
    "\n",
    " "
   ]
  },
  {
   "cell_type": "markdown",
   "metadata": {},
   "source": [
    "# Helper functions"
   ]
  },
  {
   "cell_type": "code",
   "execution_count": 136,
   "metadata": {
    "collapsed": false
   },
   "outputs": [],
   "source": [
    "def print_board(state):\n",
    "    \"\"\"\n",
    "    state: list of strings that indicates the board state\n",
    "    \"\"\"\n",
    "    print '%s\\n%s\\n%s' % (' '.join(state[:3]), ' '.join(state[3:6]), ' '.join(state[6:]))\n",
    "                          \n",
    "\n",
    "def train_computer_players(player1, player2, n_games=200000, adj_p1_epsilon=True, adj_p2_epsilon=True):\n",
    "    \"\"\"\n",
    "    Trains an \"X\" computer player and an \"O\" computer player on 200000 games of tic tac toe,\n",
    "    with their exploration rate set to .9, in order to learn quickly.\n",
    "    \"\"\"\n",
    "    if adj_p1_epsilon:\n",
    "        player1.set_epsilon(.9)\n",
    "    if adj_p2_epsilon:\n",
    "        player2.set_epsilon(.9)\n",
    "    game = ttt_game(player1, player2, print_output = False)\n",
    "    for i in range(1, n_games+1):\n",
    "        if i/float(n_games) >= .5:\n",
    "            if i/float(n_games) >= .9:\n",
    "                if adj_p1_epsilon:\n",
    "                    player1.set_epsilon(0)\n",
    "                if adj_p2_epsilon:\n",
    "                    player2.set_epsilon(0)\n",
    "            else:\n",
    "                if adj_p1_epsilon:\n",
    "                    player1.set_epsilon(.2)\n",
    "                if adj_p2_epsilon:\n",
    "                    player2.set_epsilon(.2)\n",
    "        game.play()\n",
    "        game.reset()\n",
    "    return game\n",
    "        \n",
    "\n",
    "def test_computer(computer_player, n_games=3):\n",
    "    \"\"\"\n",
    "    Used when a human wants to evaluate a computer player.\n",
    "    This function plays n_games with a human versus the computer_player.\n",
    "    \"\"\"    \n",
    "    computer_player.set_epsilon(0)\n",
    "    if computer_player.mark == 'X':\n",
    "        game = ttt_game(computer_player, 'human', print_output=True)\n",
    "    if computer_player.mark == 'O':\n",
    "        game = ttt_game('human', computer_player, print_output=True)\n",
    "    for i in range(n_games):\n",
    "        game.play()\n",
    "        game.reset()\n",
    "        \n",
    "        \n",
    "def explore_policy(state, player):\n",
    "    \"\"\"\n",
    "    Given a board state, this function shows all possible next moves for a player and the probability of winning\n",
    "    from those next moves, according to the player's policy.\n",
    "    state: list of strings indicating the board state\n",
    "    player: ttt_player object \n",
    "    \"\"\"\n",
    "    print_board(state)\n",
    "    print 'Initial board state\\n'\n",
    "    possible_move_indices = [i for i, x in enumerate(state) if x == '_']\n",
    "    for i in possible_move_indices:\n",
    "        potential_state = state[:]\n",
    "        potential_state[i] = player.mark        \n",
    "        print_board(potential_state)\n",
    "        print 'Win probability = %.17f\\n' % player.policy[tuple(potential_state)]\n",
    "    \n",
    "    "
   ]
  },
  {
   "cell_type": "code",
   "execution_count": 125,
   "metadata": {
    "collapsed": true
   },
   "outputs": [],
   "source": [
    "player1 = ttt_player('computer', 'X', epsilon=.9)\n",
    "player2 = ttt_player('computer', 'O', epsilon=.9)"
   ]
  },
  {
   "cell_type": "code",
   "execution_count": 126,
   "metadata": {
    "collapsed": false
   },
   "outputs": [],
   "source": [
    "p1_2_game = train_computer_players(player1, player2)"
   ]
  },
  {
   "cell_type": "code",
   "execution_count": 7,
   "metadata": {
    "collapsed": true
   },
   "outputs": [
    {
     "name": "stdout",
     "output_type": "stream",
     "text": [
      "X _ _\n",
      "_ _ _\n",
      "_ _ _\n",
      "Initial board state\n",
      "\n",
      "X O _\n",
      "_ _ _\n",
      "_ _ _\n",
      "Win probability = 0.71088598028021743\n",
      "\n",
      "X _ O\n",
      "_ _ _\n",
      "_ _ _\n",
      "Win probability = 0.78530149523849113\n",
      "\n",
      "X _ _\n",
      "O _ _\n",
      "_ _ _\n",
      "Win probability = 0.73033496234705231\n",
      "\n",
      "X _ _\n",
      "_ O _\n",
      "_ _ _\n",
      "Win probability = 0.93861786735411801\n",
      "\n",
      "X _ _\n",
      "_ _ O\n",
      "_ _ _\n",
      "Win probability = 0.76362258480081358\n",
      "\n",
      "X _ _\n",
      "_ _ _\n",
      "O _ _\n",
      "Win probability = 0.80887194029267040\n",
      "\n",
      "X _ _\n",
      "_ _ _\n",
      "_ O _\n",
      "Win probability = 0.75830780967204903\n",
      "\n",
      "X _ _\n",
      "_ _ _\n",
      "_ _ O\n",
      "Win probability = 0.82851672037580937\n",
      "\n"
     ]
    }
   ],
   "source": [
    "state = ['X', '_', '_', '_', '_', '_', '_', '_', '_']\n",
    "explore_policy(state, player2)"
   ]
  },
  {
   "cell_type": "code",
   "execution_count": 89,
   "metadata": {
    "collapsed": true
   },
   "outputs": [
    {
     "name": "stdout",
     "output_type": "stream",
     "text": [
      "_ _ _\n",
      "_ _ _\n",
      "_ _ _\n",
      "\n",
      "Player X's turn:\n",
      "Enter the row and column you want to make a mark in, using the format x,y 1,1\n",
      "X _ _\n",
      "_ _ _\n",
      "_ _ _\n",
      "\n",
      "Player O's turn:\n",
      "X _ _\n",
      "_ O _\n",
      "_ _ _\n",
      "\n",
      "Player X's turn:\n",
      "Enter the row and column you want to make a mark in, using the format x,y 2,1\n",
      "X _ _\n",
      "X O _\n",
      "_ _ _\n",
      "\n",
      "Player O's turn:\n",
      "X _ _\n",
      "X O _\n",
      "O _ _\n",
      "\n",
      "Player X's turn:\n",
      "Enter the row and column you want to make a mark in, using the format x,y 1,3\n",
      "X _ X\n",
      "X O _\n",
      "O _ _\n",
      "\n",
      "Player O's turn:\n",
      "X O X\n",
      "X O _\n",
      "O _ _\n",
      "\n",
      "Player X's turn:\n",
      "Enter the row and column you want to make a mark in, using the format x,y 3,2\n",
      "X O X\n",
      "X O _\n",
      "O X _\n",
      "\n",
      "Player O's turn:\n",
      "X O X\n",
      "X O _\n",
      "O X O\n",
      "\n",
      "Player X's turn:\n",
      "Enter the row and column you want to make a mark in, using the format x,y 2,3\n",
      "X O X\n",
      "X O X\n",
      "O X O\n",
      "\n",
      "The game is a tie!\n",
      "_ _ _\n",
      "_ _ _\n",
      "_ _ _\n",
      "\n",
      "Player X's turn:\n",
      "Enter the row and column you want to make a mark in, using the format x,y 1,1\n",
      "X _ _\n",
      "_ _ _\n",
      "_ _ _\n",
      "\n",
      "Player O's turn:\n",
      "X _ _\n",
      "_ O _\n",
      "_ _ _\n",
      "\n",
      "Player X's turn:\n",
      "Enter the row and column you want to make a mark in, using the format x,y 3,1\n",
      "X _ _\n",
      "_ O _\n",
      "X _ _\n",
      "\n",
      "Player O's turn:\n",
      "X _ _\n",
      "O O _\n",
      "X _ _\n",
      "\n",
      "Player X's turn:\n",
      "Enter the row and column you want to make a mark in, using the format x,y 2,3\n",
      "X _ _\n",
      "O O X\n",
      "X _ _\n",
      "\n",
      "Player O's turn:\n",
      "X _ _\n",
      "O O X\n",
      "X O _\n",
      "\n",
      "Player X's turn:\n",
      "Enter the row and column you want to make a mark in, using the format x,y 1,2\n",
      "X X _\n",
      "O O X\n",
      "X O _\n",
      "\n",
      "Player O's turn:\n",
      "X X O\n",
      "O O X\n",
      "X O _\n",
      "\n",
      "Player X's turn:\n",
      "Enter the row and column you want to make a mark in, using the format x,y 3,3\n",
      "X X O\n",
      "O O X\n",
      "X O X\n",
      "\n",
      "The game is a tie!\n",
      "_ _ _\n",
      "_ _ _\n",
      "_ _ _\n",
      "\n",
      "Player X's turn:\n",
      "Enter the row and column you want to make a mark in, using the format x,y 2,2\n",
      "_ _ _\n",
      "_ X _\n",
      "_ _ _\n",
      "\n",
      "Player O's turn:\n",
      "_ _ _\n",
      "_ X _\n",
      "O _ _\n",
      "\n",
      "Player X's turn:\n",
      "Enter the row and column you want to make a mark in, using the format x,y 1,1\n",
      "X _ _\n",
      "_ X _\n",
      "O _ _\n",
      "\n",
      "Player O's turn:\n",
      "X _ _\n",
      "_ X _\n",
      "O _ O\n",
      "\n",
      "Player X's turn:\n",
      "Enter the row and column you want to make a mark in, using the format x,y 3,2\n",
      "X _ _\n",
      "_ X _\n",
      "O X O\n",
      "\n",
      "Player O's turn:\n",
      "X O _\n",
      "_ X _\n",
      "O X O\n",
      "\n",
      "Player X's turn:\n",
      "Enter the row and column you want to make a mark in, using the format x,y 2,1\n",
      "X O _\n",
      "X X _\n",
      "O X O\n",
      "\n",
      "Player O's turn:\n",
      "X O _\n",
      "X X O\n",
      "O X O\n",
      "\n",
      "Player X's turn:\n",
      "Enter the row and column you want to make a mark in, using the format x,y 1,3\n",
      "X O X\n",
      "X X O\n",
      "O X O\n",
      "\n",
      "The game is a tie!\n"
     ]
    }
   ],
   "source": [
    "test_computer(player2)"
   ]
  },
  {
   "cell_type": "markdown",
   "metadata": {},
   "source": [
    "### Player 1 and Player 2 win stats"
   ]
  },
  {
   "cell_type": "code",
   "execution_count": 127,
   "metadata": {
    "collapsed": false
   },
   "outputs": [],
   "source": [
    "p1_2_scores = pd.DataFrame(p1_2_game.playerO_score)\n",
    "p1_2_scores.columns = ['score']\n",
    "p1_2_scores['not_loss'] = (p1_2_scores.score != 0).astype(int)\n",
    "group_size = 2000\n",
    "n_groups = len(p1_2_scores)/group_size\n",
    "p1_2_scores['group'] = np.repeat(np.arange(n_groups), group_size)\n",
    "p1_2_scores_agg = p1_2_scores.groupby('group').not_loss.transform(lambda x: x.sum()/float(x.shape[0]))"
   ]
  },
  {
   "cell_type": "code",
   "execution_count": 128,
   "metadata": {
    "collapsed": false,
    "scrolled": true
   },
   "outputs": [
    {
     "data": {
      "text/plain": [
       "<matplotlib.text.Text at 0x117dd2c10>"
      ]
     },
     "execution_count": 128,
     "metadata": {},
     "output_type": "execute_result"
    },
    {
     "data": {
      "image/png": "[encoded data removed]",
      "text/plain": [
       "<matplotlib.figure.Figure at 0x119766850>"
      ]
     },
     "metadata": {},
     "output_type": "display_data"
    }
   ],
   "source": [
    "p1_2_scores_agg.plot()\n",
    "plt.title('Proportion of non-loss games in every 2000 games')"
   ]
  },
  {
   "cell_type": "code",
   "execution_count": 129,
   "metadata": {
    "collapsed": false
   },
   "outputs": [
    {
     "data": {
      "text/plain": [
       "<matplotlib.axes._subplots.AxesSubplot at 0x11f0889d0>"
      ]
     },
     "execution_count": 129,
     "metadata": {},
     "output_type": "execute_result"
    },
    {
     "data": {
      "image/png": "[encoded data removed]",
      "text/plain": [
       "<matplotlib.figure.Figure at 0x11f0906d0>"
      ]
     },
     "metadata": {},
     "output_type": "display_data"
    }
   ],
   "source": [
    "p1_2_scores_agg.hist()"
   ]
  },
  {
   "cell_type": "code",
   "execution_count": 130,
   "metadata": {
    "collapsed": true
   },
   "outputs": [],
   "source": [
    "player1.set_epsilon(0)\n",
    "player2.set_epsilon(0)\n",
    "p1_2_real_game = ttt_game(player1, player2, print_output = False)"
   ]
  },
  {
   "cell_type": "code",
   "execution_count": 131,
   "metadata": {
    "collapsed": true
   },
   "outputs": [],
   "source": [
    "for i in range(20000):\n",
    "    p1_2_real_game.play()\n",
    "    p1_2_real_game.reset()"
   ]
  },
  {
   "cell_type": "code",
   "execution_count": 132,
   "metadata": {
    "collapsed": true
   },
   "outputs": [],
   "source": [
    "p1_2_real_scores = pd.DataFrame(p1_2_real_game.playerO_score)\n",
    "p1_2_real_scores.columns = ['score']\n",
    "p1_2_real_scores['not_loss'] = (p1_2_real_scores.score != 0).astype(int)\n",
    "group_size = 2000\n",
    "n_groups = len(p1_2_real_scores)/group_size\n",
    "p1_2_real_scores['group'] = np.repeat(np.arange(n_groups), group_size)\n",
    "p1_2_real_scores_agg = p1_2_real_scores.groupby('group').not_loss.transform(lambda x: x.sum()/float(x.shape[0]))"
   ]
  },
  {
   "cell_type": "code",
   "execution_count": 133,
   "metadata": {
    "collapsed": false
   },
   "outputs": [
    {
     "data": {
      "text/plain": [
       "<matplotlib.axes._subplots.AxesSubplot at 0x11d45b290>"
      ]
     },
     "execution_count": 133,
     "metadata": {},
     "output_type": "execute_result"
    },
    {
     "data": {
      "image/png": "[encoded data removed]",
      "text/plain": [
       "<matplotlib.figure.Figure at 0x1196da790>"
      ]
     },
     "metadata": {},
     "output_type": "display_data"
    }
   ],
   "source": [
    "p1_2_real_scores_agg.plot()"
   ]
  },
  {
   "cell_type": "code",
   "execution_count": 134,
   "metadata": {
    "collapsed": false
   },
   "outputs": [
    {
     "data": {
      "text/plain": [
       "<matplotlib.collections.PathCollection at 0x11971b2d0>"
      ]
     },
     "execution_count": 134,
     "metadata": {},
     "output_type": "execute_result"
    },
    {
     "data": {
      "image/png": "[encoded data removed]",
      "text/plain": [
       "<matplotlib.figure.Figure at 0x11a3a8310>"
      ]
     },
     "metadata": {},
     "output_type": "display_data"
    }
   ],
   "source": [
    "plt.scatter(np.arange(p1_2_real_scores.shape[0]), p1_2_real_scores.score)"
   ]
  },
  {
   "cell_type": "code",
   "execution_count": null,
   "metadata": {
    "collapsed": true
   },
   "outputs": [],
   "source": []
  },
  {
   "cell_type": "markdown",
   "metadata": {},
   "source": [
    "### Player 3 win stats"
   ]
  },
  {
   "cell_type": "code",
   "execution_count": 135,
   "metadata": {
    "collapsed": true
   },
   "outputs": [],
   "source": [
    "player3 = ttt_player('computer', 'O', epsilon=.9)"
   ]
  },
  {
   "cell_type": "code",
   "execution_count": 137,
   "metadata": {
    "collapsed": true
   },
   "outputs": [],
   "source": [
    "player1.set_epsilon(0)\n",
    "p1_3_game = train_computer_players(player1, player3, adj_p1_epsilon=False)"
   ]
  },
  {
   "cell_type": "code",
   "execution_count": 138,
   "metadata": {
    "collapsed": true
   },
   "outputs": [],
   "source": [
    "p1_3_scores = pd.DataFrame(p1_3_game.playerO_score)\n",
    "p1_3_scores.columns = ['score']\n",
    "p1_3_scores['not_loss'] = (p1_3_scores.score != 0).astype(int)\n",
    "group_size = 2000\n",
    "n_groups = len(p1_3_scores)/group_size\n",
    "p1_3_scores['group'] = np.repeat(np.arange(n_groups), group_size)\n",
    "p1_3_scores_agg = p1_3_scores.groupby('group').not_loss.transform(lambda x: x.sum()/float(x.shape[0]))"
   ]
  },
  {
   "cell_type": "code",
   "execution_count": 139,
   "metadata": {
    "collapsed": false
   },
   "outputs": [
    {
     "data": {
      "text/plain": [
       "<matplotlib.axes._subplots.AxesSubplot at 0x11b0eb1d0>"
      ]
     },
     "execution_count": 139,
     "metadata": {},
     "output_type": "execute_result"
    },
    {
     "data": {
      "image/png": "[encoded data removed]",
      "text/plain": [
       "<matplotlib.figure.Figure at 0x11d5012d0>"
      ]
     },
     "metadata": {},
     "output_type": "display_data"
    }
   ],
   "source": [
    "p1_3_scores_agg.plot()"
   ]
  },
  {
   "cell_type": "code",
   "execution_count": 140,
   "metadata": {
    "collapsed": true
   },
   "outputs": [],
   "source": [
    "player3.set_epsilon(0)\n",
    "p1_3_real_game = ttt_game(player1, player3, print_output = False)"
   ]
  },
  {
   "cell_type": "code",
   "execution_count": 141,
   "metadata": {
    "collapsed": true
   },
   "outputs": [],
   "source": [
    "for i in range(20000):\n",
    "    p1_3_real_game.play()\n",
    "    p1_3_real_game.reset()"
   ]
  },
  {
   "cell_type": "code",
   "execution_count": 142,
   "metadata": {
    "collapsed": true
   },
   "outputs": [],
   "source": [
    "p1_3_real_scores = pd.DataFrame(p1_3_real_game.playerO_score)\n",
    "p1_3_real_scores.columns = ['score']\n",
    "p1_3_real_scores['not_loss'] = (p1_3_real_scores.score != 0).astype(int)\n",
    "group_size = 2000\n",
    "n_groups = len(p1_3_real_scores)/group_size\n",
    "p1_3_real_scores['group'] = np.repeat(np.arange(n_groups), group_size)\n",
    "p1_3_real_scores_agg = p1_3_real_scores.groupby('group').not_loss.transform(lambda x: x.sum()/float(x.shape[0]))"
   ]
  },
  {
   "cell_type": "code",
   "execution_count": 144,
   "metadata": {
    "collapsed": false
   },
   "outputs": [
    {
     "data": {
      "text/plain": [
       "<matplotlib.axes._subplots.AxesSubplot at 0x120539710>"
      ]
     },
     "execution_count": 144,
     "metadata": {},
     "output_type": "execute_result"
    },
    {
     "data": {
      "image/png": "[encoded data removed]",
      "text/plain": [
       "<matplotlib.figure.Figure at 0x11f1022d0>"
      ]
     },
     "metadata": {},
     "output_type": "display_data"
    }
   ],
   "source": [
    "p1_3_real_scores_agg.plot()"
   ]
  },
  {
   "cell_type": "code",
   "execution_count": 145,
   "metadata": {
    "collapsed": false
   },
   "outputs": [
    {
     "data": {
      "text/plain": [
       "<matplotlib.collections.PathCollection at 0x11bc9dc50>"
      ]
     },
     "execution_count": 145,
     "metadata": {},
     "output_type": "execute_result"
    },
    {
     "data": {
      "image/png": "[encoded data removed]",
      "text/plain": [
       "<matplotlib.figure.Figure at 0x11ca19710>"
      ]
     },
     "metadata": {},
     "output_type": "display_data"
    }
   ],
   "source": [
    "plt.scatter(np.arange(p1_3_real_scores.shape[0]), p1_3_real_scores.score)"
   ]
  },
  {
   "cell_type": "code",
   "execution_count": null,
   "metadata": {
    "collapsed": true
   },
   "outputs": [],
   "source": []
  },
  {
   "cell_type": "markdown",
   "metadata": {},
   "source": [
    "### Figure out if Player 3 is buggy"
   ]
  },
  {
   "cell_type": "code",
   "execution_count": 74,
   "metadata": {
    "collapsed": true
   },
   "outputs": [],
   "source": [
    "player3 = ttt_player('computer', 'O', epsilon=.9)\n",
    "game2 = ttt_game('human', player3, print_output = True)"
   ]
  },
  {
   "cell_type": "code",
   "execution_count": 84,
   "metadata": {
    "collapsed": false
   },
   "outputs": [
    {
     "name": "stdout",
     "output_type": "stream",
     "text": [
      "_ _ _\n",
      "_ _ _\n",
      "_ _ _\n",
      "\n",
      "Player X's turn:\n",
      "Enter the row and column you want to make a mark in, using the format x,y 1,1\n",
      "X _ _\n",
      "_ _ _\n",
      "_ _ _\n",
      "\n",
      "Player O's turn:\n",
      "X _ _\n",
      "O _ _\n",
      "_ _ _\n",
      "\n",
      "Player X's turn:\n",
      "Enter the row and column you want to make a mark in, using the format x,y 2,2\n",
      "X _ _\n",
      "O X _\n",
      "_ _ _\n",
      "\n",
      "Player O's turn:\n",
      "X _ _\n",
      "O X _\n",
      "_ O _\n",
      "\n",
      "Player X's turn:\n",
      "Enter the row and column you want to make a mark in, using the format x,y 3,3\n",
      "X _ _\n",
      "O X _\n",
      "_ O X\n",
      "\n",
      "Player X wins!\n"
     ]
    }
   ],
   "source": [
    "game2.reset()\n",
    "game2.play()"
   ]
  },
  {
   "cell_type": "code",
   "execution_count": null,
   "metadata": {
    "collapsed": false
   },
   "outputs": [],
   "source": []
  },
  {
   "cell_type": "code",
   "execution_count": 146,
   "metadata": {
    "collapsed": false,
    "scrolled": true
   },
   "outputs": [
    {
     "data": {
      "text/plain": [
       "{('O', 'O', 'X', 'O', 'X', 'X', '_', 'X', 'O'): 0.45,\n",
       " ('O', 'O', 'X', 'O', 'X', '_', '_', 'X', '_'): 0.45,\n",
       " ('O', 'O', 'X', 'X', 'O', 'O', 'X', 'X', '_'): 0.36450000000000005,\n",
       " ('O', 'O', 'X', 'X', 'O', 'O', 'X', '_', 'X'): 0.405,\n",
       " ('O', 'O', 'X', 'X', 'O', 'O', '_', 'X', 'X'): 0.45,\n",
       " ('O', 'O', 'X', 'X', 'O', 'X', 'O', 'X', '_'): 0.45,\n",
       " ('O', 'O', 'X', 'X', 'O', '_', 'O', 'X', 'X'): 0.405,\n",
       " ('O', 'O', 'X', 'X', 'O', '_', '_', 'X', '_'): 0.495,\n",
       " ('O', 'O', 'X', 'X', 'O', '_', '_', '_', 'X'): 0.45,\n",
       " ('O', 'O', 'X', 'X', 'X', 'O', 'O', 'X', '_'): 0.5,\n",
       " ('O', 'O', 'X', 'X', 'X', 'O', 'O', '_', 'X'): 0.5,\n",
       " ('O', 'O', 'X', 'X', 'X', 'O', '_', 'O', 'X'): 0.45,\n",
       " ('O', 'O', 'X', 'X', 'X', 'O', '_', 'X', 'O'): 1.4874809411177089e-80,\n",
       " ('O', 'O', 'X', 'X', 'X', 'O', '_', '_', '_'): 0.45,\n",
       " ('O', 'O', 'X', 'X', 'X', '_', 'O', 'X', 'O'): 0.405,\n",
       " ('O', 'O', 'X', 'X', 'X', '_', 'O', '_', '_'): 0.45,\n",
       " ('O', 'O', 'X', 'X', 'X', '_', '_', 'O', '_'): 0.45,\n",
       " ('O', 'O', 'X', 'X', 'X', '_', '_', '_', 'O'): 0.405,\n",
       " ('O', 'O', 'X', 'X', '_', 'O', 'O', 'X', 'X'): 0.5,\n",
       " ('O', 'O', 'X', 'X', '_', 'O', 'X', 'O', 'X'): 0.405,\n",
       " ('O', 'O', 'X', 'X', '_', 'O', 'X', 'X', 'O'): 0.405,\n",
       " ('O', 'O', 'X', 'X', '_', 'O', 'X', '_', '_'): 0.45,\n",
       " ('O', 'O', 'X', 'X', '_', 'O', '_', 'X', '_'): 0.495,\n",
       " ('O', 'O', 'X', 'X', '_', 'O', '_', '_', 'X'): 0.4905,\n",
       " ('O', 'O', 'X', 'X', '_', 'X', 'O', 'X', 'O'): 0.45,\n",
       " ('O', 'O', 'X', 'X', '_', 'X', 'O', '_', '_'): 0.405,\n",
       " ('O', 'O', 'X', 'X', '_', '_', 'O', 'X', '_'): 0.5,\n",
       " ('O', 'O', 'X', 'X', '_', '_', 'O', '_', 'X'): 0.45,\n",
       " ('O', 'O', 'X', 'X', '_', '_', '_', 'O', 'X'): 0.45,\n",
       " ('O', 'O', 'X', 'X', '_', '_', '_', '_', '_'): 0.495,\n",
       " ('O', 'O', 'X', '_', 'X', 'O', 'O', 'X', 'X'): 0.5,\n",
       " ('O', 'O', 'X', '_', 'X', 'O', '_', 'X', '_'): 0.45,\n",
       " ('O', 'O', 'X', '_', 'X', 'X', 'O', 'X', 'O'): 4.740059639959078e-80,\n",
       " ('O', 'O', 'X', '_', 'X', 'X', 'O', '_', '_'): 0.405,\n",
       " ('O', 'O', 'X', '_', 'X', '_', 'O', 'X', '_'): 0.5,\n",
       " ('O', 'O', 'X', '_', 'X', '_', '_', 'X', 'O'): 3.68185397004433e-69,\n",
       " ('O', 'O', 'X', '_', 'X', '_', '_', '_', '_'): 0.45,\n",
       " ('O', 'O', '_', 'O', 'X', 'X', 'X', 'X', 'O'): 0.45,\n",
       " ('O', 'O', '_', 'O', 'X', 'X', 'X', '_', '_'): 0.45,\n",
       " ('O', 'O', '_', 'X', 'O', '_', 'X', 'X', '_'): 0.45,\n",
       " ('O', 'O', '_', 'X', 'O', '_', 'X', '_', 'X'): 0.45,\n",
       " ('O', 'O', '_', 'X', 'O', '_', '_', 'X', 'X'): 0.45,\n",
       " ('O', 'O', '_', 'X', 'X', 'O', 'O', 'X', 'X'): 0.5,\n",
       " ('O', 'O', '_', 'X', 'X', 'O', 'X', 'O', 'X'): 0.45,\n",
       " ('O', 'O', '_', 'X', 'X', 'O', '_', 'X', '_'): 0.5,\n",
       " ('O', 'O', '_', 'X', 'X', 'O', '_', '_', 'X'): 0.5,\n",
       " ('O', 'O', '_', 'X', 'X', '_', 'O', 'X', '_'): 0.45,\n",
       " ('O', 'O', '_', 'X', 'X', '_', 'O', '_', 'X'): 0.405,\n",
       " ('O', 'O', '_', 'X', 'X', '_', 'X', '_', 'O'): 0.405,\n",
       " ('O', 'O', '_', 'X', 'X', '_', '_', 'X', 'O'): 0.45,\n",
       " ('O', 'O', '_', 'X', 'X', '_', '_', '_', '_'): 4.335942454008986e-127,\n",
       " ('O', 'O', '_', 'X', '_', 'O', 'X', 'X', '_'): 0.405,\n",
       " ('O', 'O', '_', 'X', '_', 'O', 'X', '_', 'X'): 0.45,\n",
       " ('O', 'O', '_', 'X', '_', 'O', '_', 'X', 'X'): 0.45,\n",
       " ('O', 'O', '_', 'X', '_', 'X', 'O', 'X', '_'): 0.45,\n",
       " ('O', 'O', '_', 'X', '_', 'X', 'O', '_', 'X'): 0.45,\n",
       " ('O', 'O', '_', 'X', '_', 'X', '_', 'O', 'X'): 0.405,\n",
       " ('O', 'O', '_', 'X', '_', '_', '_', '_', 'X'): 0.4995,\n",
       " ('O', 'O', '_', '_', 'X', 'O', 'X', '_', 'X'): 1.3707016475592492e-51,\n",
       " ('O', 'O', '_', '_', 'X', 'X', 'O', 'X', '_'): 0.45,\n",
       " ('O', 'O', '_', '_', 'X', 'X', '_', 'X', 'O'): 0.45,\n",
       " ('O', 'O', '_', '_', 'X', 'X', '_', '_', '_'): 0.45,\n",
       " ('O', 'O', '_', '_', 'X', '_', 'X', '_', '_'): 0.45,\n",
       " ('O', 'O', '_', '_', 'X', '_', '_', 'X', '_'): 0.5,\n",
       " ('O', 'O', '_', '_', 'X', '_', '_', '_', 'X'): 0.5,\n",
       " ('O', 'X', 'O', 'O', 'X', 'X', 'X', 'O', '_'): 0.5,\n",
       " ('O', 'X', 'O', 'O', 'X', 'X', 'X', '_', 'O'): 8.127324375770175e-38,\n",
       " ('O', 'X', 'O', 'O', 'X', 'X', '_', 'O', 'X'): 0.5,\n",
       " ('O', 'X', 'O', 'O', 'X', 'X', '_', '_', '_'): 0.45,\n",
       " ('O', 'X', 'O', 'O', 'X', '_', 'X', 'O', 'X'): 0.5,\n",
       " ('O', 'X', 'O', 'O', 'X', '_', 'X', '_', '_'): 0.45,\n",
       " ('O', 'X', 'O', 'O', 'X', '_', '_', '_', 'X'): 0.45,\n",
       " ('O', 'X', 'O', 'X', 'O', 'O', 'X', '_', 'X'): 0.405,\n",
       " ('O', 'X', 'O', 'X', 'O', 'O', '_', 'X', 'X'): 0.45,\n",
       " ('O', 'X', 'O', 'X', 'O', 'X', 'X', 'O', '_'): 0.5,\n",
       " ('O', 'X', 'O', 'X', 'O', 'X', '_', 'O', 'X'): 0.5,\n",
       " ('O', 'X', 'O', 'X', 'O', '_', 'X', 'O', 'X'): 0.5,\n",
       " ('O', 'X', 'O', 'X', 'O', '_', '_', '_', 'X'): 0.5,\n",
       " ('O', 'X', 'O', 'X', 'X', 'O', 'O', '_', 'X'): 0.405,\n",
       " ('O', 'X', 'O', 'X', 'X', 'O', 'X', 'O', '_'): 0.5,\n",
       " ('O', 'X', 'O', 'X', 'X', 'O', '_', 'O', 'X'): 0.5,\n",
       " ('O', 'X', 'O', 'X', 'X', 'O', '_', '_', '_'): 0.45,\n",
       " ('O', 'X', 'O', 'X', 'X', '_', 'O', 'O', 'X'): 0.405,\n",
       " ('O', 'X', 'O', 'X', 'X', '_', 'O', '_', '_'): 0.405,\n",
       " ('O', 'X', 'O', 'X', 'X', '_', 'X', 'O', 'O'): 0.405,\n",
       " ('O', 'X', 'O', 'X', 'X', '_', '_', 'O', '_'): 0.45,\n",
       " ('O', 'X', 'O', 'X', 'X', '_', '_', '_', 'O'): 0.45,\n",
       " ('O', 'X', 'O', 'X', '_', 'O', 'O', 'X', 'X'): 0.405,\n",
       " ('O', 'X', 'O', 'X', '_', 'O', 'X', 'O', 'X'): 0.5,\n",
       " ('O', 'X', 'O', 'X', '_', 'O', '_', 'X', '_'): 0.45,\n",
       " ('O', 'X', 'O', 'X', '_', 'O', '_', '_', 'X'): 0.495,\n",
       " ('O', 'X', 'O', 'X', '_', 'X', 'O', 'O', 'X'): 0.45,\n",
       " ('O', 'X', 'O', 'X', '_', 'X', 'X', 'O', 'O'): 0.45,\n",
       " ('O', 'X', 'O', 'X', '_', 'X', '_', 'O', '_'): 0.45,\n",
       " ('O', 'X', 'O', 'X', '_', '_', 'O', '_', 'X'): 0.495,\n",
       " ('O', 'X', 'O', 'X', '_', '_', 'X', 'O', '_'): 0.5,\n",
       " ('O', 'X', 'O', 'X', '_', '_', '_', 'O', 'X'): 0.5,\n",
       " ('O', 'X', 'O', 'X', '_', '_', '_', '_', '_'): 0.495,\n",
       " ('O', 'X', 'O', '_', 'X', 'O', 'X', 'O', 'X'): 0.5,\n",
       " ('O', 'X', 'O', '_', 'X', 'O', 'X', '_', '_'): 0.45,\n",
       " ('O', 'X', 'O', '_', 'X', 'O', '_', '_', 'X'): 0.45,\n",
       " ('O', 'X', 'O', '_', 'X', 'X', 'O', 'O', 'X'): 0.45,\n",
       " ('O', 'X', 'O', '_', 'X', 'X', 'X', 'O', 'O'): 0.45,\n",
       " ('O', 'X', 'O', '_', 'X', 'X', '_', 'O', '_'): 0.45,\n",
       " ('O', 'X', 'O', '_', 'X', '_', 'O', '_', 'X'): 0.45,\n",
       " ('O', 'X', 'O', '_', 'X', '_', 'X', 'O', '_'): 0.5,\n",
       " ('O', 'X', 'O', '_', 'X', '_', 'X', '_', 'O'): 0.45,\n",
       " ('O', 'X', 'O', '_', 'X', '_', '_', 'O', 'X'): 0.5,\n",
       " ('O', 'X', 'O', '_', 'X', '_', '_', '_', '_'): 0.45,\n",
       " ('O', 'X', 'X', 'O', 'X', 'O', '_', 'O', 'X'): 0.45,\n",
       " ('O', 'X', 'X', 'X', 'O', 'O', 'O', 'X', '_'): 0.5,\n",
       " ('O', 'X', 'X', 'X', 'O', 'O', 'O', '_', 'X'): 0.5,\n",
       " ('O', 'X', 'X', 'X', 'O', 'O', 'X', 'O', '_'): 0.5,\n",
       " ('O', 'X', 'X', 'X', 'O', 'O', '_', 'O', 'X'): 0.5,\n",
       " ('O', 'X', 'X', 'X', 'O', 'O', '_', '_', '_'): 0.5,\n",
       " ('O', 'X', 'X', 'X', 'O', '_', 'O', 'O', 'X'): 0.405,\n",
       " ('O', 'X', 'X', 'X', 'O', '_', 'O', '_', '_'): 0.5,\n",
       " ('O', 'X', 'X', 'X', 'O', '_', '_', 'O', '_'): 0.5,\n",
       " ('O', 'X', 'X', 'X', 'X', 'O', 'O', 'O', '_'): 0.5,\n",
       " ('O', 'X', 'X', 'X', 'X', 'O', 'O', '_', 'O'): 0.405,\n",
       " ('O', 'X', 'X', 'X', 'X', 'O', '_', 'O', 'O'): 0.405,\n",
       " ('O', 'X', 'X', 'X', '_', 'O', 'O', 'O', 'X'): 0.5,\n",
       " ('O', 'X', 'X', 'X', '_', 'O', 'O', 'X', 'O'): 0.405,\n",
       " ('O', 'X', 'X', 'X', '_', 'O', 'O', '_', '_'): 0.5,\n",
       " ('O', 'X', 'X', 'X', '_', 'O', 'X', 'O', 'O'): 0.45,\n",
       " ('O', 'X', 'X', 'X', '_', 'O', '_', 'O', '_'): 0.5,\n",
       " ('O', 'X', 'X', 'X', '_', 'O', '_', '_', 'O'): 0.4905,\n",
       " ('O', 'X', 'X', '_', 'X', 'O', 'O', 'O', 'X'): 0.5,\n",
       " ('O', 'X', '_', 'O', 'X', 'O', 'X', 'O', 'X'): 0.45,\n",
       " ('O', 'X', '_', 'O', 'X', 'X', 'X', 'O', 'O'): 0.45,\n",
       " ('O', 'X', '_', 'O', 'X', 'X', '_', 'O', '_'): 0.5,\n",
       " ('O', 'X', '_', 'O', 'X', 'X', '_', '_', 'O'): 0.45,\n",
       " ('O', 'X', '_', 'O', 'X', '_', 'X', 'O', '_'): 0.45,\n",
       " ('O', 'X', '_', 'O', 'X', '_', '_', 'O', 'X'): 0.5,\n",
       " ('O', 'X', '_', 'O', 'X', '_', '_', '_', '_'): 0.45,\n",
       " ('O', 'X', '_', 'X', 'O', 'O', 'O', 'X', 'X'): 0.5,\n",
       " ('O', 'X', '_', 'X', 'O', 'O', 'X', 'O', 'X'): 0.5,\n",
       " ('O', 'X', '_', 'X', 'O', 'O', '_', 'X', '_'): 0.5,\n",
       " ('O', 'X', '_', 'X', 'O', 'O', '_', '_', 'X'): 0.5,\n",
       " ('O', 'X', '_', 'X', 'O', 'X', 'O', 'O', 'X'): 0.45,\n",
       " ('O', 'X', '_', 'X', 'O', 'X', '_', 'O', '_'): 0.5,\n",
       " ('O', 'X', '_', 'X', 'O', '_', 'O', '_', 'X'): 0.5,\n",
       " ('O', 'X', '_', 'X', 'O', '_', 'X', 'O', '_'): 0.5,\n",
       " ('O', 'X', '_', 'X', 'O', '_', '_', 'O', 'X'): 0.5,\n",
       " ('O', 'X', '_', 'X', 'O', '_', '_', '_', '_'): 0.5,\n",
       " ('O', 'X', '_', 'X', 'X', 'O', 'O', 'O', 'X'): 0.5,\n",
       " ('O', 'X', '_', 'X', 'X', 'O', 'O', '_', '_'): 0.45,\n",
       " ('O', 'X', '_', 'X', 'X', 'O', 'X', 'O', 'O'): 0.45,\n",
       " ('O', 'X', '_', 'X', 'X', 'O', '_', 'O', '_'): 0.5,\n",
       " ('O', 'X', '_', 'X', 'X', 'O', '_', '_', 'O'): 0.405,\n",
       " ('O', 'X', '_', 'X', 'X', '_', 'O', 'O', '_'): 0.45,\n",
       " ('O', 'X', '_', 'X', 'X', '_', 'O', '_', 'O'): 0.405,\n",
       " ('O', 'X', '_', 'X', 'X', '_', '_', 'O', 'O'): 0.45,\n",
       " ('O', 'X', '_', 'X', '_', 'O', 'O', 'X', '_'): 0.45,\n",
       " ('O', 'X', '_', 'X', '_', 'O', 'O', '_', 'X'): 0.5,\n",
       " ('O', 'X', '_', 'X', '_', 'O', 'X', 'O', '_'): 0.5,\n",
       " ('O', 'X', '_', 'X', '_', 'O', '_', 'O', 'X'): 0.5,\n",
       " ('O', 'X', '_', 'X', '_', 'O', '_', 'X', 'O'): 0.45,\n",
       " ('O', 'X', '_', 'X', '_', 'O', '_', '_', '_'): 0.5,\n",
       " ('O', 'X', '_', 'X', '_', 'X', 'O', 'O', '_'): 0.45,\n",
       " ('O', 'X', '_', 'X', '_', 'X', '_', 'O', 'O'): 0.45,\n",
       " ('O', 'X', '_', 'X', '_', '_', 'O', 'O', 'X'): 0.5,\n",
       " ('O', 'X', '_', 'X', '_', '_', 'O', '_', '_'): 0.495,\n",
       " ('O', 'X', '_', 'X', '_', '_', 'X', 'O', 'O'): 0.495,\n",
       " ('O', 'X', '_', 'X', '_', '_', '_', 'O', '_'): 0.5,\n",
       " ('O', 'X', '_', 'X', '_', '_', '_', '_', 'O'): 0.495,\n",
       " ('O', 'X', '_', '_', 'X', 'O', 'X', 'O', '_'): 0.45,\n",
       " ('O', 'X', '_', '_', 'X', 'O', '_', 'O', 'X'): 0.5,\n",
       " ('O', 'X', '_', '_', 'X', 'O', '_', '_', '_'): 0.45,\n",
       " ('O', 'X', '_', '_', 'X', 'X', 'O', 'O', '_'): 0.45,\n",
       " ('O', 'X', '_', '_', 'X', 'X', '_', 'O', 'O'): 0.45,\n",
       " ('O', 'X', '_', '_', 'X', '_', 'O', 'O', 'X'): 0.5,\n",
       " ('O', 'X', '_', '_', 'X', '_', 'O', '_', '_'): 0.45,\n",
       " ('O', 'X', '_', '_', 'X', '_', 'X', 'O', 'O'): 0.45,\n",
       " ('O', 'X', '_', '_', 'X', '_', '_', 'O', '_'): 0.5,\n",
       " ('O', 'X', '_', '_', 'X', '_', '_', '_', 'O'): 0.45,\n",
       " ('O', '_', 'O', 'O', 'X', 'X', 'X', 'O', 'X'): 0.5,\n",
       " ('O', '_', 'O', 'O', 'X', 'X', 'X', 'X', 'O'): 1.917221587342609e-36,\n",
       " ('O', '_', 'O', 'O', 'X', 'X', 'X', '_', '_'): 0.5,\n",
       " ('O', '_', 'O', 'O', 'X', 'X', '_', 'X', '_'): 0.45,\n",
       " ('O', '_', 'O', 'O', 'X', '_', 'X', 'X', '_'): 2.822153139799743e-52,\n",
       " ('O', '_', 'O', 'X', 'O', '_', 'X', 'X', '_'): 0.45,\n",
       " ('O', '_', 'O', 'X', 'O', '_', 'X', '_', 'X'): 0.45,\n",
       " ('O', '_', 'O', 'X', 'O', '_', '_', 'X', 'X'): 0.45,\n",
       " ('O', '_', 'O', 'X', 'X', 'O', 'O', 'X', 'X'): 0.36450000000000005,\n",
       " ('O', '_', 'O', 'X', 'X', 'O', 'X', 'O', 'X'): 0.5,\n",
       " ('O', '_', 'O', 'X', 'X', 'O', '_', 'X', '_'): 2.453021697117207e-68,\n",
       " ('O', '_', 'O', 'X', 'X', 'O', '_', '_', 'X'): 0.5,\n",
       " ('O', '_', 'O', 'X', 'X', '_', 'O', 'X', '_'): 0.405,\n",
       " ('O', '_', 'O', 'X', 'X', '_', 'O', '_', 'X'): 0.45,\n",
       " ('O', '_', 'O', 'X', 'X', '_', 'X', '_', 'O'): 0.45,\n",
       " ('O', '_', 'O', 'X', 'X', '_', '_', '_', '_'): 2.4128645529830588e-124,\n",
       " ('O', '_', 'O', 'X', '_', 'O', 'X', '_', 'X'): 0.45,\n",
       " ('O', '_', 'O', 'X', '_', 'O', '_', 'X', 'X'): 0.45,\n",
       " ('O', '_', 'O', 'X', '_', 'X', 'O', '_', 'X'): 0.45,\n",
       " ('O', '_', 'O', 'X', '_', 'X', '_', 'O', 'X'): 0.45,\n",
       " ('O', '_', 'O', 'X', '_', '_', '_', '_', 'X'): 0.5,\n",
       " ('O', '_', 'O', '_', 'X', 'O', 'X', '_', 'X'): 1.3707016475592492e-51,\n",
       " ('O', '_', 'O', '_', 'X', 'X', 'X', '_', 'O'): 0.45,\n",
       " ('O', '_', 'O', '_', 'X', 'X', '_', '_', '_'): 2.339932657018487e-126,\n",
       " ('O', '_', 'O', '_', 'X', '_', 'X', '_', '_'): 0.5,\n",
       " ('O', '_', 'O', '_', 'X', '_', '_', 'X', '_'): 0.45,\n",
       " ('O', '_', 'O', '_', 'X', '_', '_', '_', 'X'): 0.5,\n",
       " ('O', '_', 'X', 'O', 'X', '_', '_', '_', '_'): 0.45,\n",
       " ('O', '_', 'X', 'X', 'O', 'O', 'O', 'X', 'X'): 0.5,\n",
       " ('O', '_', 'X', 'X', 'O', 'O', 'X', 'O', 'X'): 0.5,\n",
       " ('O', '_', 'X', 'X', 'O', 'O', 'X', '_', '_'): 0.5,\n",
       " ('O', '_', 'X', 'X', 'O', 'O', '_', 'X', '_'): 0.5,\n",
       " ('O', '_', 'X', 'X', 'O', 'O', '_', '_', 'X'): 0.5,\n",
       " ('O', '_', 'X', 'X', 'O', 'X', 'O', '_', '_'): 0.45,\n",
       " ('O', '_', 'X', 'X', 'O', '_', 'O', 'X', '_'): 0.5,\n",
       " ('O', '_', 'X', 'X', 'O', '_', 'O', '_', 'X'): 0.45,\n",
       " ('O', '_', 'X', 'X', 'O', '_', '_', 'O', 'X'): 0.45,\n",
       " ('O', '_', 'X', 'X', 'O', '_', '_', '_', '_'): 0.5,\n",
       " ('O', '_', 'X', 'X', 'X', 'O', 'O', 'O', 'X'): 0.5,\n",
       " ('O', '_', 'X', 'X', 'X', 'O', 'O', 'X', 'O'): 0.405,\n",
       " ('O', '_', 'X', 'X', 'X', 'O', 'O', '_', '_'): 0.5,\n",
       " ('O', '_', 'X', 'X', 'X', 'O', '_', 'O', '_'): 0.45,\n",
       " ('O', '_', 'X', 'X', 'X', 'O', '_', '_', 'O'): 0.45,\n",
       " ('O', '_', 'X', 'X', 'X', '_', 'O', 'O', '_'): 0.45,\n",
       " ('O', '_', 'X', 'X', 'X', '_', 'O', '_', 'O'): 0.405,\n",
       " ('O', '_', 'X', 'X', 'X', '_', '_', 'O', 'O'): 0.405,\n",
       " ('O', '_', 'X', 'X', '_', 'O', 'O', 'X', '_'): 0.5,\n",
       " ('O', '_', 'X', 'X', '_', 'O', 'O', '_', 'X'): 0.5,\n",
       " ('O', '_', 'X', 'X', '_', 'O', 'X', 'O', '_'): 0.45,\n",
       " ('O', '_', 'X', 'X', '_', 'O', 'X', '_', 'O'): 0.45,\n",
       " ('O', '_', 'X', 'X', '_', 'O', '_', 'O', 'X'): 0.5,\n",
       " ('O', '_', 'X', 'X', '_', 'O', '_', 'X', 'O'): 0.495,\n",
       " ('O', '_', 'X', 'X', '_', 'O', '_', '_', '_'): 0.5,\n",
       " ('O', '_', 'X', 'X', '_', 'X', 'O', 'O', '_'): 0.405,\n",
       " ('O', '_', 'X', 'X', '_', 'X', 'O', '_', 'O'): 0.45,\n",
       " ('O', '_', 'X', 'X', '_', '_', 'O', 'O', 'X'): 0.45,\n",
       " ('O', '_', 'X', 'X', '_', '_', 'O', 'X', 'O'): 0.495,\n",
       " ('O', '_', 'X', 'X', '_', '_', 'O', '_', '_'): 0.495,\n",
       " ('O', '_', 'X', 'X', '_', '_', '_', 'O', '_'): 0.495,\n",
       " ('O', '_', 'X', 'X', '_', '_', '_', '_', 'O'): 0.495,\n",
       " ('O', '_', 'X', '_', 'X', 'O', '_', '_', '_'): 0.45,\n",
       " ('O', '_', 'X', '_', 'X', '_', 'O', 'O', 'X'): 0.405,\n",
       " ('O', '_', 'X', '_', 'X', '_', 'O', 'X', 'O'): 0.45,\n",
       " ('O', '_', 'X', '_', 'X', '_', 'O', '_', '_'): 0.5,\n",
       " ('O', '_', 'X', '_', 'X', '_', '_', 'O', '_'): 0.45,\n",
       " ('O', '_', 'X', '_', 'X', '_', '_', '_', 'O'): 0.45,\n",
       " ('O', '_', '_', 'O', 'X', 'O', 'X', '_', 'X'): 1.3707016475592492e-51,\n",
       " ('O', '_', '_', 'O', 'X', 'X', 'X', 'O', '_'): 0.45,\n",
       " ('O', '_', '_', 'O', 'X', 'X', 'X', '_', 'O'): 0.45,\n",
       " ('O', '_', '_', 'O', 'X', 'X', '_', 'X', 'O'): 0.45,\n",
       " ('O', '_', '_', 'O', 'X', 'X', '_', '_', '_'): 0.5,\n",
       " ('O', '_', '_', 'O', 'X', '_', 'X', '_', '_'): 2.558018346738084e-79,\n",
       " ('O', '_', '_', 'O', 'X', '_', '_', 'X', '_'): 0.45,\n",
       " ('O', '_', '_', 'O', 'X', '_', '_', '_', 'X'): 0.5,\n",
       " ('O', '_', '_', 'X', 'O', 'O', 'X', 'X', '_'): 0.45,\n",
       " ('O', '_', '_', 'X', 'O', 'O', 'X', '_', 'X'): 0.45,\n",
       " ('O', '_', '_', 'X', 'O', 'O', '_', 'X', 'X'): 0.45,\n",
       " ('O', '_', '_', 'X', 'O', 'X', 'O', '_', 'X'): 0.405,\n",
       " ('O', '_', '_', 'X', 'O', 'X', '_', 'O', 'X'): 0.45,\n",
       " ('O', '_', '_', 'X', 'O', '_', 'O', 'X', 'X'): 0.5,\n",
       " ('O', '_', '_', 'X', 'O', '_', 'X', 'O', 'X'): 0.5,\n",
       " ('O', '_', '_', 'X', 'O', '_', 'X', '_', '_'): 0.5,\n",
       " ('O', '_', '_', 'X', 'O', '_', '_', 'X', '_'): 0.5,\n",
       " ('O', '_', '_', 'X', 'O', '_', '_', '_', 'X'): 0.5,\n",
       " ('O', '_', '_', 'X', 'X', 'O', 'O', 'X', '_'): 1.573311849978117e-145,\n",
       " ('O', '_', '_', 'X', 'X', 'O', 'O', '_', 'X'): 0.5,\n",
       " ('O', '_', '_', 'X', 'X', 'O', 'X', '_', 'O'): 0.405,\n",
       " ('O', '_', '_', 'X', 'X', 'O', '_', 'O', 'X'): 0.5,\n",
       " ('O', '_', '_', 'X', 'X', 'O', '_', 'X', 'O'): 1.008433090527435e-71,\n",
       " ('O', '_', '_', 'X', 'X', 'O', '_', '_', '_'): 0.5,\n",
       " ('O', '_', '_', 'X', 'X', '_', 'O', 'O', 'X'): 0.45,\n",
       " ('O', '_', '_', 'X', 'X', '_', 'O', 'X', 'O'): 0.405,\n",
       " ('O', '_', '_', 'X', 'X', '_', 'O', '_', '_'): 2.8761728085065437e-243,\n",
       " ('O', '_', '_', 'X', 'X', '_', 'X', 'O', 'O'): 0.45,\n",
       " ('O', '_', '_', 'X', 'X', '_', '_', 'O', '_'): 8.861950706322993e-204,\n",
       " ('O', '_', '_', 'X', 'X', '_', '_', '_', 'O'): 9.347931650074628e-125,\n",
       " ('O', '_', '_', 'X', '_', 'O', 'O', 'X', 'X'): 0.5,\n",
       " ('O', '_', '_', 'X', '_', 'O', 'X', 'O', 'X'): 0.5,\n",
       " ('O', '_', '_', 'X', '_', 'O', 'X', '_', '_'): 0.5,\n",
       " ('O', '_', '_', 'X', '_', 'O', '_', 'X', '_'): 0.5,\n",
       " ('O', '_', '_', 'X', '_', 'O', '_', '_', 'X'): 0.5,\n",
       " ('O', '_', '_', 'X', '_', 'X', 'O', 'O', 'X'): 0.45,\n",
       " ('O', '_', '_', 'X', '_', '_', 'O', 'X', '_'): 0.495,\n",
       " ('O', '_', '_', 'X', '_', '_', 'O', '_', 'X'): 0.495,\n",
       " ('O', '_', '_', 'X', '_', '_', 'X', '_', 'O'): 0.4905,\n",
       " ('O', '_', '_', 'X', '_', '_', '_', 'O', 'X'): 0.495,\n",
       " ('O', '_', '_', 'X', '_', '_', '_', '_', '_'): 0.5,\n",
       " ('O', '_', '_', '_', 'X', 'O', 'X', 'O', 'X'): 1.3707016475592492e-51,\n",
       " ('O', '_', '_', '_', 'X', 'O', 'X', '_', '_'): 0.45,\n",
       " ('O', '_', '_', '_', 'X', 'O', '_', 'X', '_'): 0.45,\n",
       " ('O', '_', '_', '_', 'X', 'O', '_', '_', 'X'): 2.240055859300465e-51,\n",
       " ('O', '_', '_', '_', 'X', 'X', 'O', '_', '_'): 0.45,\n",
       " ('O', '_', '_', '_', 'X', 'X', '_', 'O', '_'): 0.45,\n",
       " ('O', '_', '_', '_', 'X', 'X', '_', '_', 'O'): 0.45,\n",
       " ('O', '_', '_', '_', 'X', '_', 'O', 'X', '_'): 0.45,\n",
       " ('O', '_', '_', '_', 'X', '_', 'O', '_', 'X'): 0.5,\n",
       " ('O', '_', '_', '_', 'X', '_', 'X', 'O', '_'): 0.45,\n",
       " ('O', '_', '_', '_', 'X', '_', 'X', '_', 'O'): 0.45,\n",
       " ('O', '_', '_', '_', 'X', '_', '_', 'O', 'X'): 0.5,\n",
       " ('O', '_', '_', '_', 'X', '_', '_', 'X', 'O'): 4.4710867296425797e-125,\n",
       " ('O', '_', '_', '_', 'X', '_', '_', '_', '_'): 0.5,\n",
       " ('X', 'O', 'O', 'O', 'X', 'X', 'O', 'X', '_'): 0.45,\n",
       " ('X', 'O', 'O', 'O', 'X', 'X', 'X', 'O', '_'): 1.2449791241079443e-71,\n",
       " ('X', 'O', 'O', 'O', 'X', 'X', 'X', '_', 'O'): 0.5,\n",
       " ('X', 'O', 'O', 'O', 'X', 'X', '_', 'X', 'O'): 0.5,\n",
       " ('X', 'O', 'O', 'O', 'X', 'X', '_', '_', '_'): 0.45,\n",
       " ('X', 'O', 'O', 'O', 'X', '_', 'X', 'X', 'O'): 0.5,\n",
       " ('X', 'O', 'O', 'O', 'X', '_', 'X', '_', '_'): 0.45,\n",
       " ('X', 'O', 'O', 'O', 'X', '_', '_', 'X', '_'): 0.45,\n",
       " ('X', 'O', 'O', 'X', 'X', 'O', 'O', 'X', '_'): 2.592223190471218e-85,\n",
       " ('X', 'O', 'O', 'X', 'X', 'O', '_', '_', '_'): 0.405,\n",
       " ('X', 'O', 'O', 'X', 'X', '_', 'O', 'X', 'O'): 0.405,\n",
       " ('X', 'O', 'O', 'X', 'X', '_', 'O', '_', '_'): 0.45,\n",
       " ('X', 'O', 'O', 'X', 'X', '_', '_', '_', 'O'): 4.235900462705233e-53,\n",
       " ('X', 'O', 'O', 'X', '_', 'O', 'O', 'X', 'X'): 0.45,\n",
       " ('X', 'O', 'O', 'X', '_', 'O', '_', '_', 'X'): 0.45,\n",
       " ('X', 'O', 'O', 'X', '_', 'X', 'O', 'X', 'O'): 0.45,\n",
       " ('X', 'O', 'O', 'X', '_', '_', 'O', 'X', '_'): 0.495,\n",
       " ('X', 'O', 'O', 'X', '_', '_', '_', '_', '_'): 0.45,\n",
       " ('X', 'O', 'O', '_', 'X', 'O', 'X', '_', '_'): 0.45,\n",
       " ('X', 'O', 'O', '_', 'X', 'O', '_', 'X', '_'): 0.45,\n",
       " ('X', 'O', 'O', '_', 'X', 'X', 'O', 'X', 'O'): 0.45,\n",
       " ('X', 'O', 'O', '_', 'X', 'X', '_', '_', 'O'): 0.45,\n",
       " ('X', 'O', 'O', '_', 'X', '_', 'O', 'X', '_'): 0.45,\n",
       " ('X', 'O', 'O', '_', 'X', '_', 'X', 'O', '_'): 0.405,\n",
       " ('X', 'O', 'O', '_', 'X', '_', 'X', '_', 'O'): 0.45,\n",
       " ('X', 'O', 'O', '_', 'X', '_', '_', 'X', 'O'): 0.5,\n",
       " ('X', 'O', 'O', '_', 'X', '_', '_', '_', '_'): 1.0843736060748098e-80,\n",
       " ('X', 'O', 'X', 'O', 'X', 'O', 'O', 'X', '_'): 0.45,\n",
       " ('X', 'O', 'X', 'O', 'X', 'O', '_', 'X', 'O'): 0.45,\n",
       " ('X', 'O', 'X', 'O', 'X', 'X', 'O', '_', 'O'): 0.5,\n",
       " ('X', 'O', 'X', 'O', 'X', 'X', '_', 'O', 'O'): 0.45,\n",
       " ('X', 'O', 'X', 'O', 'X', '_', 'O', 'X', 'O'): 0.5,\n",
       " ('X', 'O', 'X', 'O', 'X', '_', 'O', '_', '_'): 0.405,\n",
       " ('X', 'O', 'X', 'X', 'O', 'O', 'O', 'X', '_'): 0.5,\n",
       " ('X', 'O', 'X', 'X', 'O', 'O', 'O', '_', 'X'): 0.5,\n",
       " ('X', 'O', 'X', 'X', 'O', 'O', '_', 'X', 'O'): 0.45,\n",
       " ('X', 'O', 'X', 'X', 'O', 'O', '_', '_', '_'): 0.405,\n",
       " ('X', 'O', 'X', 'X', 'O', '_', 'O', 'X', 'O'): 0.5,\n",
       " ('X', 'O', 'X', 'X', 'O', '_', 'O', '_', '_'): 0.5,\n",
       " ('X', 'O', 'X', 'X', 'O', '_', '_', '_', 'O'): 0.45,\n",
       " ('X', 'O', 'X', 'X', 'X', 'O', 'O', 'O', '_'): 0.45,\n",
       " ('X', 'O', 'X', 'X', 'X', 'O', 'O', '_', 'O'): 0.5,\n",
       " ('X', 'O', 'X', 'X', '_', 'O', 'O', 'O', 'X'): 0.405,\n",
       " ('X', 'O', 'X', 'X', '_', 'O', 'O', 'X', 'O'): 0.5,\n",
       " ('X', 'O', 'X', 'X', '_', 'O', 'O', '_', '_'): 0.5,\n",
       " ('X', 'O', 'X', 'X', '_', 'O', '_', 'O', '_'): 0.405,\n",
       " ('X', 'O', 'X', 'X', '_', 'O', '_', '_', 'O'): 0.45,\n",
       " ('X', 'O', 'X', '_', 'X', 'O', 'O', 'X', 'O'): 0.5,\n",
       " ('X', 'O', 'X', '_', 'X', 'O', 'O', '_', '_'): 0.405,\n",
       " ('X', 'O', 'X', '_', 'X', 'O', '_', '_', 'O'): 0.45,\n",
       " ('X', 'O', '_', 'O', 'X', 'O', 'X', 'X', 'O'): 0.45,\n",
       " ('X', 'O', '_', 'O', 'X', 'X', 'O', 'X', 'O'): 0.5,\n",
       " ('X', 'O', '_', 'O', 'X', 'X', 'O', '_', '_'): 0.45,\n",
       " ('X', 'O', '_', 'O', 'X', 'X', 'X', 'O', 'O'): 0.45,\n",
       " ('X', 'O', '_', 'O', 'X', 'X', '_', '_', 'O'): 0.5,\n",
       " ('X', 'O', '_', 'O', 'X', '_', 'O', 'X', '_'): 0.45,\n",
       " ('X', 'O', '_', 'O', 'X', '_', '_', 'X', 'O'): 0.5,\n",
       " ('X', 'O', '_', 'O', 'X', '_', '_', '_', '_'): 9.75936245467329e-81,\n",
       " ('X', 'O', '_', 'X', 'O', 'O', 'O', 'X', 'X'): 0.5,\n",
       " ('X', 'O', '_', 'X', 'O', 'O', '_', '_', 'X'): 0.405,\n",
       " ('X', 'O', '_', 'X', 'O', 'X', 'O', 'X', 'O'): 0.5,\n",
       " ('X', 'O', '_', 'X', 'O', '_', 'O', 'X', '_'): 0.5,\n",
       " ('X', 'O', '_', 'X', 'O', '_', '_', 'X', 'O'): 0.45,\n",
       " ('X', 'O', '_', 'X', 'O', '_', '_', '_', '_'): 0.45,\n",
       " ('X', 'O', '_', 'X', 'X', 'O', 'O', 'X', 'O'): 0.5,\n",
       " ('X', 'O', '_', 'X', 'X', 'O', 'O', '_', '_'): 0.405,\n",
       " ('X', 'O', '_', 'X', 'X', 'O', '_', 'O', '_'): 1.3498270980914835e-52,\n",
       " ('X', 'O', '_', 'X', 'X', 'O', '_', '_', 'O'): 4.235900462705233e-53,\n",
       " ('X', 'O', '_', 'X', 'X', '_', 'O', 'O', '_'): 0.405,\n",
       " ('X', 'O', '_', 'X', 'X', '_', 'O', '_', 'O'): 4.706556069672481e-53,\n",
       " ('X', 'O', '_', 'X', 'X', '_', '_', 'O', 'O'): 4.235900462705233e-53,\n",
       " ('X', 'O', '_', 'X', '_', 'O', 'O', 'X', '_'): 0.5,\n",
       " ('X', 'O', '_', 'X', '_', 'O', 'O', '_', 'X'): 0.45,\n",
       " ('X', 'O', '_', 'X', '_', 'O', '_', 'O', 'X'): 0.45,\n",
       " ('X', 'O', '_', 'X', '_', 'O', '_', '_', '_'): 0.45,\n",
       " ('X', 'O', '_', 'X', '_', '_', 'O', 'X', 'O'): 0.5,\n",
       " ('X', 'O', '_', 'X', '_', '_', 'O', '_', '_'): 0.4905,\n",
       " ('X', 'O', '_', 'X', '_', '_', '_', 'O', '_'): 0.45,\n",
       " ('X', 'O', '_', 'X', '_', '_', '_', '_', 'O'): 0.45,\n",
       " ('X', 'O', '_', '_', 'X', 'O', 'O', 'X', '_'): 0.45,\n",
       " ('X', 'O', '_', '_', 'X', 'O', '_', 'X', 'O'): 0.5,\n",
       " ('X', 'O', '_', '_', 'X', 'O', '_', '_', '_'): 1.753767485164607e-83,\n",
       " ('X', 'O', '_', '_', 'X', '_', 'O', 'X', 'O'): 0.5,\n",
       " ('X', 'O', '_', '_', 'X', '_', 'O', '_', '_'): 1.359435828208834e-79,\n",
       " ('X', 'O', '_', '_', 'X', '_', 'X', 'O', 'O'): 0.45,\n",
       " ('X', 'O', '_', '_', 'X', '_', '_', 'O', '_'): 9.75936245467329e-81,\n",
       " ('X', 'O', '_', '_', 'X', '_', '_', '_', 'O'): 6.606543183950645e-53,\n",
       " ('X', 'X', 'O', 'O', 'X', 'O', 'X', 'O', '_'): 0.45,\n",
       " ('X', 'X', 'O', 'O', 'X', 'X', 'O', 'O', '_'): 0.45,\n",
       " ('X', 'X', 'O', 'O', 'X', 'X', 'O', '_', 'O'): 0.45,\n",
       " ('X', 'X', 'O', 'O', 'X', 'X', '_', 'O', 'O'): 0.5,\n",
       " ('X', 'X', 'O', 'O', 'X', '_', 'X', 'O', 'O'): 0.5,\n",
       " ('X', 'X', 'O', 'O', 'X', '_', '_', '_', 'O'): 0.405,\n",
       " ('X', 'X', 'O', 'X', 'O', 'O', '_', 'O', 'X'): 0.405,\n",
       " ('X', 'X', 'O', 'X', 'O', 'O', '_', '_', '_'): 0.405,\n",
       " ('X', 'X', 'O', 'X', '_', 'O', 'O', 'O', 'X'): 0.405,\n",
       " ('X', 'X', 'O', 'X', '_', 'O', '_', 'O', '_'): 0.45,\n",
       " ('X', 'X', '_', 'O', 'X', 'O', '_', '_', 'O'): 0.45,\n",
       " ('X', 'X', '_', 'O', 'X', '_', 'O', '_', 'O'): 0.45,\n",
       " ('X', 'X', '_', 'O', 'X', '_', '_', 'O', 'O'): 0.45,\n",
       " ('X', 'X', '_', 'X', 'O', 'O', 'O', 'O', 'X'): 0.405,\n",
       " ('X', 'X', '_', 'X', 'O', 'O', 'O', '_', '_'): 0.45,\n",
       " ('X', 'X', '_', 'X', 'O', 'O', '_', 'O', '_'): 0.45,\n",
       " ('X', 'X', '_', 'X', 'O', 'O', '_', '_', 'O'): 0.45,\n",
       " ('X', 'X', '_', 'X', '_', 'O', 'O', 'O', '_'): 0.45,\n",
       " ('X', 'X', '_', 'X', '_', 'O', '_', 'O', 'O'): 0.405,\n",
       " ('X', '_', 'O', 'O', 'X', 'X', 'O', 'X', 'O'): 0.45,\n",
       " ('X', '_', 'O', 'O', 'X', 'X', 'O', '_', '_'): 0.45,\n",
       " ('X', '_', 'O', 'O', 'X', 'X', 'X', 'O', 'O'): 0.5,\n",
       " ('X', '_', 'O', 'O', 'X', 'X', '_', 'O', '_'): 0.45,\n",
       " ('X', '_', 'O', 'O', 'X', 'X', '_', '_', 'O'): 0.5,\n",
       " ('X', '_', 'O', 'O', 'X', '_', 'X', 'O', '_'): 0.405,\n",
       " ('X', '_', 'O', 'O', 'X', '_', '_', '_', '_'): 0.45,\n",
       " ('X', '_', 'O', 'X', 'O', '_', '_', 'X', 'O'): 0.45,\n",
       " ('X', '_', 'O', 'X', 'O', '_', '_', '_', '_'): 0.45,\n",
       " ('X', '_', 'O', 'X', 'X', 'O', 'O', '_', '_'): 0.45,\n",
       " ('X', '_', 'O', 'X', 'X', 'O', '_', 'O', '_'): 1.499807886768315e-52,\n",
       " ('X', '_', 'O', 'X', 'X', '_', 'O', 'O', '_'): 0.405,\n",
       " ('X', '_', 'O', 'X', 'X', '_', 'O', '_', 'O'): 0.405,\n",
       " ('X', '_', 'O', 'X', '_', 'O', 'O', '_', 'X'): 0.45,\n",
       " ('X', '_', 'O', 'X', '_', 'O', '_', 'O', 'X'): 0.45,\n",
       " ('X', '_', 'O', 'X', '_', 'O', '_', '_', '_'): 0.45,\n",
       " ('X', '_', 'O', 'X', '_', '_', 'O', '_', '_'): 0.4905,\n",
       " ('X', '_', 'O', 'X', '_', '_', '_', 'O', '_'): 0.45,\n",
       " ('X', '_', 'O', 'X', '_', '_', '_', '_', 'O'): 0.45,\n",
       " ('X', '_', 'O', '_', 'X', 'O', 'X', 'O', '_'): 0.45,\n",
       " ('X', '_', 'O', '_', 'X', 'O', '_', '_', '_'): 0.45,\n",
       " ('X', '_', 'O', '_', 'X', 'X', 'O', '_', 'O'): 0.45,\n",
       " ('X', '_', 'O', '_', 'X', 'X', '_', 'O', 'O'): 0.45,\n",
       " ('X', '_', 'O', '_', 'X', '_', 'O', 'X', 'O'): 0.45,\n",
       " ('X', '_', 'O', '_', 'X', '_', 'O', '_', '_'): 0.45,\n",
       " ('X', '_', 'O', '_', 'X', '_', 'X', 'O', 'O'): 0.45,\n",
       " ('X', '_', 'O', '_', 'X', '_', '_', 'O', '_'): 0.45,\n",
       " ('X', '_', 'O', '_', 'X', '_', '_', '_', 'O'): 0.5,\n",
       " ('X', '_', 'X', 'O', 'X', 'O', 'O', '_', '_'): 0.45,\n",
       " ('X', '_', 'X', 'O', 'X', 'O', '_', '_', 'O'): 0.45,\n",
       " ('X', '_', 'X', 'O', 'X', '_', 'O', 'O', '_'): 0.45,\n",
       " ('X', '_', 'X', 'O', 'X', '_', 'O', '_', 'O'): 0.45,\n",
       " ('X', '_', 'X', 'X', 'O', 'O', 'O', 'O', 'X'): 0.405,\n",
       " ('X', '_', 'X', 'X', 'O', 'O', 'O', 'X', 'O'): 0.405,\n",
       " ('X', '_', 'X', 'X', 'O', 'O', 'O', '_', '_'): 0.45,\n",
       " ('X', '_', 'X', 'X', 'O', 'O', '_', 'O', '_'): 0.45,\n",
       " ('X', '_', 'X', 'X', 'O', 'O', '_', '_', 'O'): 0.45,\n",
       " ('X', '_', 'X', 'X', 'O', '_', 'O', 'O', '_'): 0.45,\n",
       " ('X', '_', 'X', 'X', 'O', '_', 'O', '_', 'O'): 0.405,\n",
       " ('X', '_', 'X', 'X', 'O', '_', '_', 'O', 'O'): 0.45,\n",
       " ('X', '_', 'X', 'X', '_', 'O', 'O', 'O', '_'): 0.45,\n",
       " ('X', '_', 'X', 'X', '_', 'O', 'O', '_', 'O'): 0.405,\n",
       " ('X', '_', 'X', 'X', '_', 'O', '_', 'O', 'O'): 0.45,\n",
       " ('X', '_', 'X', '_', 'X', 'O', 'O', 'O', '_'): 0.45,\n",
       " ('X', '_', 'X', '_', 'X', 'O', 'O', '_', 'O'): 0.45,\n",
       " ('X', '_', 'X', '_', 'X', 'O', '_', 'O', 'O'): 0.405,\n",
       " ('X', '_', '_', 'O', 'X', 'X', 'O', 'O', '_'): 0.45,\n",
       " ('X', '_', '_', 'O', 'X', 'X', 'O', '_', 'O'): 0.5,\n",
       " ('X', '_', '_', 'O', 'X', 'X', '_', 'O', 'O'): 0.5,\n",
       " ('X', '_', '_', 'O', 'X', '_', 'O', 'X', 'O'): 0.45,\n",
       " ('X', '_', '_', 'O', 'X', '_', 'O', '_', '_'): 0.45,\n",
       " ('X', '_', '_', 'O', 'X', '_', 'X', 'O', 'O'): 0.45,\n",
       " ('X', '_', '_', 'O', 'X', '_', '_', '_', 'O'): 0.495,\n",
       " ('X', '_', '_', 'X', 'O', 'O', 'O', '_', 'X'): 0.5,\n",
       " ('X', '_', '_', 'X', 'O', 'O', '_', 'O', 'X'): 0.45,\n",
       " ('X', '_', '_', 'X', 'O', 'O', '_', 'X', 'O'): 0.45,\n",
       " ('X', '_', '_', 'X', 'O', 'O', '_', '_', '_'): 0.45,\n",
       " ('X', '_', '_', 'X', 'O', '_', 'O', 'X', 'O'): 0.5,\n",
       " ('X', '_', '_', 'X', 'O', '_', 'O', '_', '_'): 0.5,\n",
       " ('X', '_', '_', 'X', 'O', '_', '_', 'O', '_'): 0.45,\n",
       " ('X', '_', '_', 'X', 'O', '_', '_', '_', 'O'): 0.45,\n",
       " ('X', '_', '_', 'X', 'X', 'O', 'O', 'O', '_'): 1.3498270980914835e-52,\n",
       " ('X', '_', '_', 'X', 'X', 'O', '_', 'O', 'O'): 1.2148443882823352e-52,\n",
       " ('X', '_', '_', 'X', '_', 'O', 'O', 'O', 'X'): 0.405,\n",
       " ('X', '_', '_', 'X', '_', 'O', 'O', '_', '_'): 0.5,\n",
       " ('X', '_', '_', 'X', '_', 'O', '_', 'O', '_'): 0.45,\n",
       " ('X', '_', '_', 'X', '_', 'O', '_', '_', 'O'): 0.45,\n",
       " ('X', '_', '_', '_', 'X', 'O', 'O', 'X', 'O'): 0.45,\n",
       " ('X', '_', '_', '_', 'X', 'O', 'O', '_', '_'): 0.45,\n",
       " ('X', '_', '_', '_', 'X', 'O', 'X', 'O', 'O'): 0.405,\n",
       " ('X', '_', '_', '_', 'X', 'O', '_', '_', 'O'): 0.495,\n",
       " ('X', '_', '_', '_', 'X', '_', 'O', 'O', '_'): 0.45,\n",
       " ('X', '_', '_', '_', 'X', '_', 'O', '_', 'O'): 0.5,\n",
       " ('X', '_', '_', '_', 'X', '_', '_', 'O', 'O'): 0.495,\n",
       " ('_', 'O', 'O', 'O', 'X', 'X', 'X', 'O', 'X'): 0.45,\n",
       " ('_', 'O', 'O', 'O', 'X', 'X', 'X', 'X', 'O'): 0.5,\n",
       " ('_', 'O', 'O', 'O', 'X', 'X', 'X', '_', '_'): 0.5,\n",
       " ('_', 'O', 'O', 'O', 'X', 'X', '_', 'X', '_'): 0.5,\n",
       " ('_', 'O', 'O', 'O', 'X', '_', 'X', 'X', '_'): 2.822153139799743e-52,\n",
       " ('_', 'O', 'O', 'X', 'O', '_', 'X', 'X', '_'): 0.45,\n",
       " ('_', 'O', 'O', 'X', 'O', '_', 'X', '_', 'X'): 0.405,\n",
       " ('_', 'O', 'O', 'X', 'O', '_', '_', 'X', 'X'): 0.45,\n",
       " ('_', 'O', 'O', 'X', 'X', 'O', 'O', 'X', 'X'): 0.405,\n",
       " ('_', 'O', 'O', 'X', 'X', 'O', '_', '_', 'X'): 0.45,\n",
       " ('_', 'O', 'O', 'X', 'X', '_', 'O', 'X', '_'): 0.405,\n",
       " ('_', 'O', 'O', 'X', 'X', '_', 'O', '_', 'X'): 0.45,\n",
       " ('_', 'O', 'O', 'X', 'X', '_', '_', 'X', 'O'): 0.45,\n",
       " ('_', 'O', 'O', 'X', 'X', '_', '_', '_', '_'): 0.45,\n",
       " ('_', 'O', 'O', 'X', '_', 'O', 'X', 'X', '_'): 0.45,\n",
       " ('_', 'O', 'O', 'X', '_', 'O', '_', 'X', 'X'): 0.45,\n",
       " ('_', 'O', 'O', 'X', '_', 'X', 'O', 'X', '_'): 0.45,\n",
       " ('_', 'O', 'O', '_', 'X', 'O', 'X', '_', 'X'): 0.405,\n",
       " ('_', 'O', 'O', '_', 'X', 'X', 'O', 'X', '_'): 0.45,\n",
       " ('_', 'O', 'O', '_', 'X', 'X', 'X', '_', 'O'): 0.45,\n",
       " ('_', 'O', 'O', '_', 'X', 'X', '_', 'X', 'O'): 0.45,\n",
       " ('_', 'O', 'O', '_', 'X', 'X', '_', '_', '_'): 9.788359361147838e-122,\n",
       " ('_', 'O', 'O', '_', 'X', '_', 'X', '_', '_'): 0.495,\n",
       " ('_', 'O', 'O', '_', 'X', '_', '_', 'X', '_'): 0.5,\n",
       " ('_', 'O', 'O', '_', 'X', '_', '_', '_', 'X'): 0.45,\n",
       " ('_', 'O', 'X', 'O', 'X', 'O', 'O', 'X', 'X'): 0.45,\n",
       " ('_', 'O', 'X', 'O', 'X', 'X', 'O', 'X', 'O'): 0.5,\n",
       " ('_', 'O', 'X', 'O', 'X', 'X', 'O', '_', '_'): 0.45,\n",
       " ('_', 'O', 'X', 'O', 'X', '_', 'O', 'X', '_'): 0.5,\n",
       " ('_', 'O', 'X', 'O', 'X', '_', '_', 'X', 'O'): 2.936883951188981e-70,\n",
       " ('_', 'O', 'X', 'X', 'O', 'O', 'O', 'X', 'X'): 0.5,\n",
       " ('_', 'O', 'X', 'X', 'O', 'O', 'X', 'X', 'O'): 0.405,\n",
       " ('_', 'O', 'X', 'X', 'O', 'O', 'X', '_', '_'): 0.405,\n",
       " ('_', 'O', 'X', 'X', 'O', 'O', '_', 'X', '_'): 0.4905,\n",
       " ('_', 'O', 'X', 'X', 'O', 'X', 'O', 'X', 'O'): 0.5,\n",
       " ('_', 'O', 'X', 'X', 'O', 'X', 'O', '_', '_'): 0.45,\n",
       " ('_', 'O', 'X', 'X', 'O', '_', 'O', 'X', '_'): 0.5,\n",
       " ('_', 'O', 'X', 'X', 'O', '_', 'O', '_', 'X'): 0.45,\n",
       " ('_', 'O', 'X', 'X', 'O', '_', '_', 'X', 'O'): 0.5,\n",
       " ('_', 'O', 'X', 'X', 'O', '_', '_', '_', '_'): 0.5,\n",
       " ('_', 'O', 'X', 'X', 'X', 'O', 'O', 'O', 'X'): 0.45,\n",
       " ('_', 'O', 'X', 'X', 'X', 'O', 'O', 'X', 'O'): 0.5,\n",
       " ('_', 'O', 'X', 'X', 'X', 'O', 'O', '_', '_'): 0.5,\n",
       " ('_', 'O', 'X', 'X', 'X', 'O', '_', '_', 'O'): 0.45,\n",
       " ('_', 'O', 'X', 'X', '_', 'O', 'O', 'X', '_'): 0.5,\n",
       " ('_', 'O', 'X', 'X', '_', 'O', 'O', '_', 'X'): 0.5,\n",
       " ('_', 'O', 'X', 'X', '_', 'O', 'X', 'O', '_'): 0.45,\n",
       " ('_', 'O', 'X', 'X', '_', 'O', 'X', '_', 'O'): 0.45,\n",
       " ('_', 'O', 'X', 'X', '_', 'O', '_', 'X', 'O'): 0.4905,\n",
       " ('_', 'O', 'X', 'X', '_', 'O', '_', '_', '_'): 0.495,\n",
       " ('_', 'O', 'X', 'X', '_', 'X', 'O', 'O', '_'): 0.45,\n",
       " ('_', 'O', 'X', 'X', '_', 'X', 'O', '_', 'O'): 0.45,\n",
       " ('_', 'O', 'X', 'X', '_', '_', 'O', 'O', 'X'): 0.45,\n",
       " ('_', 'O', 'X', 'X', '_', '_', 'O', 'X', 'O'): 0.5,\n",
       " ('_', 'O', 'X', 'X', '_', '_', 'O', '_', '_'): 0.495,\n",
       " ('_', 'O', 'X', '_', 'X', 'O', 'O', 'X', '_'): 0.5,\n",
       " ('_', 'O', 'X', '_', 'X', 'O', '_', 'X', 'O'): 3.4169502341189634e-67,\n",
       " ('_', 'O', 'X', '_', 'X', 'X', 'O', 'O', '_'): 0.45,\n",
       " ('_', 'O', 'X', '_', 'X', 'X', 'O', '_', 'O'): 0.45,\n",
       " ('_', 'O', 'X', '_', 'X', '_', 'O', 'O', 'X'): 0.45,\n",
       " ('_', 'O', 'X', '_', 'X', '_', 'O', 'X', 'O'): 0.5,\n",
       " ('_', 'O', 'X', '_', 'X', '_', 'O', '_', '_'): 0.495,\n",
       " ('_', 'O', 'X', '_', 'X', '_', '_', '_', 'O'): 0.45,\n",
       " ('_', 'O', '_', 'O', 'X', 'X', 'O', 'X', '_'): 0.5,\n",
       " ('_', 'O', '_', 'O', 'X', 'X', 'X', '_', 'O'): 0.45,\n",
       " ('_', 'O', '_', 'O', 'X', 'X', '_', 'X', 'O'): 0.5,\n",
       " ('_', 'O', '_', 'O', 'X', '_', 'X', '_', '_'): 1.2048595623053442e-80,\n",
       " ('_', 'O', '_', 'X', 'O', 'O', 'X', 'X', '_'): 0.405,\n",
       " ('_', 'O', '_', 'X', 'O', 'O', 'X', '_', 'X'): 0.45,\n",
       " ('_', 'O', '_', 'X', 'O', 'O', '_', 'X', 'X'): 0.45,\n",
       " ('_', 'O', '_', 'X', 'O', 'X', 'O', 'X', '_'): 0.5,\n",
       " ('_', 'O', '_', 'X', 'O', '_', 'O', 'X', 'X'): 0.5,\n",
       " ('_', 'O', '_', 'X', 'O', '_', 'X', 'X', 'O'): 0.405,\n",
       " ('_', 'O', '_', 'X', 'O', '_', 'X', '_', '_'): 0.45,\n",
       " ('_', 'O', '_', 'X', 'O', '_', '_', 'X', '_'): 0.495,\n",
       " ('_', 'O', '_', 'X', 'O', '_', '_', '_', 'X'): 0.5,\n",
       " ('_', 'O', '_', 'X', 'X', 'O', 'O', 'X', '_'): 0.5,\n",
       " ('_', 'O', '_', 'X', 'X', 'O', 'O', '_', 'X'): 0.45,\n",
       " ('_', 'O', '_', 'X', 'X', 'O', '_', 'X', 'O'): 0.5,\n",
       " ('_', 'O', '_', 'X', 'X', 'O', '_', '_', '_'): 0.495,\n",
       " ('_', 'O', '_', 'X', 'X', '_', 'O', 'O', 'X'): 0.405,\n",
       " ('_', 'O', '_', 'X', 'X', '_', 'O', 'X', 'O'): 0.45,\n",
       " ('_', 'O', '_', 'X', 'X', '_', 'O', '_', '_'): 8.285013976135253e-126,\n",
       " ('_', 'O', '_', 'X', 'X', '_', '_', 'O', '_'): 2.7563322144234513e-81,\n",
       " ('_', 'O', '_', 'X', 'X', '_', '_', '_', 'O'): 0.45,\n",
       " ('_', 'O', '_', 'X', '_', 'O', 'O', 'X', 'X'): 0.5,\n",
       " ('_', 'O', '_', 'X', '_', 'O', 'X', 'X', 'O'): 0.45,\n",
       " ('_', 'O', '_', 'X', '_', 'O', 'X', '_', '_'): 0.45,\n",
       " ('_', 'O', '_', 'X', '_', 'O', '_', 'X', '_'): 0.495,\n",
       " ('_', 'O', '_', 'X', '_', 'O', '_', '_', 'X'): 0.495,\n",
       " ('_', 'O', '_', 'X', '_', 'X', 'O', 'X', 'O'): 0.45,\n",
       " ('_', 'O', '_', 'X', '_', '_', 'O', 'X', '_'): 0.5,\n",
       " ('_', 'O', '_', 'X', '_', '_', 'O', '_', 'X'): 0.495,\n",
       " ('_', 'O', '_', 'X', '_', '_', 'X', '_', 'O'): 0.45,\n",
       " ('_', 'O', '_', 'X', '_', '_', '_', '_', '_'): 0.4995,\n",
       " ('_', 'O', '_', '_', 'X', 'O', '_', '_', 'X'): 2.4429201853639784e-82,\n",
       " ('_', 'O', '_', '_', 'X', 'X', 'O', 'X', 'O'): 0.45,\n",
       " ('_', 'O', '_', '_', 'X', 'X', 'O', '_', '_'): 0.45,\n",
       " ('_', 'O', '_', '_', 'X', 'X', '_', '_', 'O'): 0.45,\n",
       " ('_', 'O', '_', '_', 'X', '_', 'O', 'X', '_'): 0.5,\n",
       " ('_', 'O', '_', '_', 'X', '_', 'O', '_', 'X'): 0.45,\n",
       " ('_', 'O', '_', '_', 'X', '_', 'X', '_', 'O'): 0.45,\n",
       " ('_', 'O', '_', '_', 'X', '_', '_', 'X', 'O'): 0.5,\n",
       " ('_', 'O', '_', '_', 'X', '_', '_', '_', '_'): 9.64090640723907e-53,\n",
       " ('_', 'X', 'O', 'O', 'X', 'O', 'X', 'O', 'X'): 0.45,\n",
       " ('_', 'X', 'O', 'O', 'X', 'X', 'O', 'O', 'X'): 0.45,\n",
       " ('_', 'X', 'O', 'O', 'X', 'X', 'O', '_', '_'): 0.45,\n",
       " ('_', 'X', 'O', 'O', 'X', 'X', 'X', 'O', 'O'): 0.5,\n",
       " ('_', 'X', 'O', 'O', 'X', 'X', '_', 'O', '_'): 0.5,\n",
       " ('_', 'X', 'O', 'O', 'X', 'X', '_', '_', 'O'): 0.45,\n",
       " ('_', 'X', 'O', 'O', 'X', '_', 'X', 'O', '_'): 0.5,\n",
       " ('_', 'X', 'O', 'O', 'X', '_', '_', 'O', 'X'): 0.45,\n",
       " ('_', 'X', 'O', 'O', 'X', '_', '_', '_', '_'): 0.45,\n",
       " ('_', 'X', 'O', 'X', 'O', 'O', 'X', 'O', 'X'): 0.45,\n",
       " ('_', 'X', 'O', 'X', 'O', 'O', '_', '_', 'X'): 0.495,\n",
       " ('_', 'X', 'O', 'X', 'O', '_', '_', 'O', 'X'): 0.5,\n",
       " ('_', 'X', 'O', 'X', 'X', 'O', 'O', 'O', 'X'): 0.405,\n",
       " ('_', 'X', 'O', 'X', 'X', 'O', 'O', '_', '_'): 0.45,\n",
       " ('_', 'X', 'O', 'X', 'X', 'O', '_', 'O', '_'): 0.5,\n",
       " ('_', 'X', 'O', 'X', 'X', '_', 'O', 'O', '_'): 0.45,\n",
       " ('_', 'X', 'O', 'X', 'X', '_', '_', 'O', 'O'): 0.45,\n",
       " ('_', 'X', 'O', 'X', '_', 'O', 'O', 'X', '_'): 0.45,\n",
       " ('_', 'X', 'O', 'X', '_', 'O', 'O', '_', 'X'): 0.4905,\n",
       " ('_', 'X', 'O', 'X', '_', 'O', '_', 'O', 'X'): 0.495,\n",
       " ('_', 'X', 'O', 'X', '_', 'O', '_', '_', '_'): 0.4995,\n",
       " ('_', 'X', 'O', '_', 'X', 'O', 'X', 'O', '_'): 0.5,\n",
       " ('_', 'X', 'O', '_', 'X', 'O', '_', 'O', 'X'): 0.45,\n",
       " ('_', 'X', 'O', '_', 'X', 'O', '_', '_', '_'): 0.45,\n",
       " ('_', 'X', 'O', '_', 'X', 'X', 'O', 'O', '_'): 0.45,\n",
       " ('_', 'X', 'O', '_', 'X', 'X', '_', 'O', 'O'): 0.45,\n",
       " ('_', 'X', 'O', '_', 'X', '_', 'O', 'O', 'X'): 0.45,\n",
       " ('_', 'X', 'O', '_', 'X', '_', 'O', '_', '_'): 0.45,\n",
       " ('_', 'X', 'O', '_', 'X', '_', 'X', 'O', 'O'): 0.5,\n",
       " ('_', 'X', 'O', '_', 'X', '_', '_', 'O', '_'): 0.5,\n",
       " ('_', 'X', 'O', '_', 'X', '_', '_', '_', 'O'): 0.45,\n",
       " ('_', 'X', 'X', 'X', 'O', 'O', 'O', 'O', 'X'): 0.45,\n",
       " ('_', 'X', 'X', 'X', 'O', 'O', 'O', 'X', 'O'): 0.45,\n",
       " ('_', 'X', 'X', 'X', 'O', 'O', 'O', '_', '_'): 0.45,\n",
       " ('_', 'X', 'X', 'X', 'O', 'O', '_', 'O', '_'): 0.45,\n",
       " ('_', 'X', 'X', 'X', 'O', 'O', '_', '_', 'O'): 0.45,\n",
       " ('_', 'X', 'X', 'X', 'O', '_', 'O', 'O', '_'): 0.45,\n",
       " ('_', 'X', 'X', 'X', 'O', '_', 'O', '_', 'O'): 0.45,\n",
       " ('_', 'X', 'X', 'X', 'O', '_', '_', 'O', 'O'): 0.45,\n",
       " ('_', 'X', 'X', 'X', '_', 'O', 'O', 'O', '_'): 0.45,\n",
       " ('_', 'X', 'X', 'X', '_', 'O', 'O', '_', 'O'): 0.45,\n",
       " ('_', 'X', 'X', 'X', '_', 'O', '_', 'O', 'O'): 0.45,\n",
       " ('_', 'X', '_', 'O', 'X', 'X', 'O', '_', 'O'): 0.45,\n",
       " ('_', 'X', '_', 'O', 'X', 'X', '_', 'O', 'O'): 0.5,\n",
       " ('_', 'X', '_', 'O', 'X', '_', 'O', 'O', 'X'): 0.45,\n",
       " ('_', 'X', '_', 'O', 'X', '_', 'O', '_', '_'): 0.45,\n",
       " ('_', 'X', '_', 'O', 'X', '_', 'X', 'O', 'O'): 0.45,\n",
       " ('_', 'X', '_', 'O', 'X', '_', '_', '_', 'O'): 0.45,\n",
       " ('_', 'X', '_', 'X', 'O', 'O', 'O', 'X', '_'): 0.5,\n",
       " ('_', 'X', '_', 'X', 'O', 'O', 'O', '_', 'X'): 0.5,\n",
       " ('_', 'X', '_', 'X', 'O', 'O', '_', 'O', 'X'): 0.495,\n",
       " ('_', 'X', '_', 'X', 'O', 'O', '_', '_', '_'): 0.495,\n",
       " ('_', 'X', '_', 'X', 'O', '_', 'O', 'O', 'X'): 0.495,\n",
       " ('_', 'X', '_', 'X', 'X', 'O', 'O', 'O', '_'): 0.5,\n",
       " ('_', 'X', '_', 'X', 'X', 'O', 'O', '_', 'O'): 0.45,\n",
       " ('_', 'X', '_', 'X', '_', 'O', 'O', 'O', 'X'): 0.495,\n",
       " ('_', 'X', '_', 'X', '_', 'O', 'O', 'X', 'O'): 0.45,\n",
       " ('_', 'X', '_', 'X', '_', 'O', 'O', '_', '_'): 0.5,\n",
       " ('_', 'X', '_', 'X', '_', 'O', '_', 'O', '_'): 0.495,\n",
       " ('_', 'X', '_', 'X', '_', 'O', '_', '_', 'O'): 0.4995,\n",
       " ('_', 'X', '_', '_', 'X', 'O', 'O', 'O', 'X'): 0.45,\n",
       " ('_', 'X', '_', '_', 'X', 'O', 'O', '_', '_'): 0.45,\n",
       " ('_', 'X', '_', '_', 'X', 'O', 'X', 'O', 'O'): 0.45,\n",
       " ('_', 'X', '_', '_', 'X', 'O', '_', '_', 'O'): 0.45,\n",
       " ('_', 'X', '_', '_', 'X', '_', 'O', 'O', '_'): 0.5,\n",
       " ('_', 'X', '_', '_', 'X', '_', 'O', '_', 'O'): 0.45,\n",
       " ('_', 'X', '_', '_', 'X', '_', '_', 'O', 'O'): 0.5,\n",
       " ('_', '_', 'O', 'O', 'X', 'O', 'X', 'X', '_'): 2.822153139799743e-52,\n",
       " ('_', '_', 'O', 'O', 'X', 'O', 'X', '_', 'X'): 0.45,\n",
       " ('_', '_', 'O', 'O', 'X', 'X', 'O', 'X', '_'): 0.45,\n",
       " ('_', '_', 'O', 'O', 'X', 'X', 'X', 'O', '_'): 0.5,\n",
       " ('_', '_', 'O', 'O', 'X', 'X', 'X', '_', 'O'): 0.5,\n",
       " ('_', '_', 'O', 'O', 'X', 'X', '_', 'X', 'O'): 0.45,\n",
       " ('_', '_', 'O', 'O', 'X', 'X', '_', '_', '_'): 0.5,\n",
       " ('_', '_', 'O', 'O', 'X', '_', 'X', 'X', 'O'): 2.822153139799743e-52,\n",
       " ('_', '_', 'O', 'O', 'X', '_', 'X', '_', '_'): 4.445041889381478e-52,\n",
       " ('_', '_', 'O', 'O', 'X', '_', '_', 'X', '_'): 0.45,\n",
       " ('_', '_', 'O', 'O', 'X', '_', '_', '_', 'X'): 0.45,\n",
       " ('_', '_', 'O', 'X', 'O', 'O', 'X', 'X', '_'): 0.405,\n",
       " ('_', '_', 'O', 'X', 'O', 'O', 'X', '_', 'X'): 0.405,\n",
       " ('_', '_', 'O', 'X', 'O', 'O', '_', 'X', 'X'): 0.45,\n",
       " ('_', '_', 'O', 'X', 'O', '_', 'X', 'O', 'X'): 0.45,\n",
       " ('_', '_', 'O', 'X', 'O', '_', 'X', 'X', 'O'): 0.45,\n",
       " ('_', '_', 'O', 'X', 'O', '_', 'X', '_', '_'): 0.45,\n",
       " ('_', '_', 'O', 'X', 'O', '_', '_', 'X', '_'): 0.495,\n",
       " ('_', '_', 'O', 'X', 'O', '_', '_', '_', 'X'): 0.495,\n",
       " ('_', '_', 'O', 'X', 'X', 'O', 'O', 'X', '_'): 1.7342006043375815e-70,\n",
       " ('_', '_', 'O', 'X', 'X', 'O', 'O', '_', 'X'): 0.405,\n",
       " ('_', '_', 'O', 'X', 'X', 'O', '_', 'O', 'X'): 0.45,\n",
       " ('_', '_', 'O', 'X', 'X', 'O', '_', '_', '_'): 0.5,\n",
       " ('_', '_', 'O', 'X', 'X', '_', 'O', 'O', 'X'): 0.45,\n",
       " ('_', '_', 'O', 'X', 'X', '_', 'O', 'X', 'O'): 0.45,\n",
       " ('_', '_', 'O', 'X', 'X', '_', 'O', '_', '_'): 4.4710867296425797e-125,\n",
       " ('_', '_', 'O', 'X', 'X', '_', '_', 'O', '_'): 8.91925846887816e-80,\n",
       " ('_', '_', 'O', 'X', 'X', '_', '_', '_', 'O'): 0.45,\n",
       " ('_', '_', 'O', 'X', '_', 'O', 'O', 'X', 'X'): 0.48195,\n",
       " ('_', '_', 'O', 'X', '_', 'O', 'X', '_', '_'): 0.45,\n",
       " ('_', '_', 'O', 'X', '_', 'O', '_', 'X', '_'): 0.4995,\n",
       " ('_', '_', 'O', 'X', '_', 'O', '_', '_', 'X'): 0.49905,\n",
       " ('_', '_', 'O', 'X', '_', '_', 'O', 'X', '_'): 0.495,\n",
       " ('_', '_', 'O', 'X', '_', '_', 'O', '_', 'X'): 0.495,\n",
       " ('_', '_', 'O', 'X', '_', '_', 'X', '_', 'O'): 0.45,\n",
       " ('_', '_', 'O', 'X', '_', '_', '_', '_', '_'): 0.4995,\n",
       " ('_', '_', 'O', '_', 'X', 'O', 'X', 'O', 'X'): 0.45,\n",
       " ('_', '_', 'O', '_', 'X', 'O', 'X', '_', '_'): 0.495,\n",
       " ('_', '_', 'O', '_', 'X', 'O', '_', 'X', '_'): 0.45,\n",
       " ('_', '_', 'O', '_', 'X', 'O', '_', '_', 'X'): 2.5190620351194924e-80,\n",
       " ('_', '_', 'O', '_', 'X', 'X', 'O', '_', '_'): 3.167430495913659e-120,\n",
       " ('_', '_', 'O', '_', 'X', 'X', 'X', 'O', 'O'): 0.45,\n",
       " ('_', '_', 'O', '_', 'X', 'X', '_', 'O', '_'): 6.814642172904404e-125,\n",
       " ('_', '_', 'O', '_', 'X', 'X', '_', '_', 'O'): 1.363474968444869e-120,\n",
       " ('_', '_', 'O', '_', 'X', '_', 'O', 'X', '_'): 0.45,\n",
       " ('_', '_', 'O', '_', 'X', '_', 'O', '_', 'X'): 0.45,\n",
       " ('_', '_', 'O', '_', 'X', '_', 'X', 'O', '_'): 0.495,\n",
       " ('_', '_', 'O', '_', 'X', '_', 'X', '_', 'O'): 0.5,\n",
       " ('_', '_', 'O', '_', 'X', '_', '_', 'O', 'X'): 0.45,\n",
       " ('_', '_', 'O', '_', 'X', '_', '_', 'X', 'O'): 6.228025159978204e-124,\n",
       " ('_', '_', 'O', '_', 'X', '_', '_', '_', '_'): 0.5,\n",
       " ('_', '_', 'X', 'O', 'X', '_', 'O', 'O', 'X'): 0.45,\n",
       " ('_', '_', 'X', 'O', 'X', '_', 'O', 'X', 'O'): 0.45,\n",
       " ('_', '_', 'X', 'O', 'X', '_', 'O', '_', '_'): 0.495,\n",
       " ('_', '_', 'X', 'O', 'X', '_', '_', '_', 'O'): 0.45,\n",
       " ('_', '_', 'X', 'X', 'O', 'O', 'O', 'X', '_'): 0.5,\n",
       " ('_', '_', 'X', 'X', 'O', 'O', 'O', '_', 'X'): 0.5,\n",
       " ('_', '_', 'X', 'X', 'O', 'O', '_', 'X', 'O'): 0.495,\n",
       " ('_', '_', 'X', 'X', 'O', 'O', '_', '_', '_'): 0.495,\n",
       " ('_', '_', 'X', 'X', 'O', '_', 'O', 'O', 'X'): 0.45,\n",
       " ('_', '_', 'X', 'X', 'O', '_', 'O', 'X', 'O'): 0.5,\n",
       " ('_', '_', 'X', 'X', 'O', '_', 'O', '_', '_'): 0.5,\n",
       " ('_', '_', 'X', 'X', 'O', '_', '_', 'O', '_'): 0.5,\n",
       " ('_', '_', 'X', 'X', 'O', '_', '_', '_', 'O'): 0.495,\n",
       " ('_', '_', 'X', 'X', 'X', 'O', 'O', 'O', '_'): 0.5,\n",
       " ('_', '_', 'X', 'X', 'X', 'O', 'O', '_', 'O'): 0.5,\n",
       " ('_', '_', 'X', 'X', 'X', 'O', '_', 'O', 'O'): 0.45,\n",
       " ('_', '_', 'X', 'X', '_', 'O', 'O', 'O', 'X'): 0.4905,\n",
       " ('_', '_', 'X', 'X', '_', 'O', 'O', 'X', 'O'): 0.495,\n",
       " ('_', '_', 'X', 'X', '_', 'O', 'O', '_', '_'): 0.5,\n",
       " ('_', '_', 'X', 'X', '_', 'O', '_', 'O', '_'): 0.495,\n",
       " ('_', '_', 'X', 'X', '_', 'O', '_', '_', 'O'): 0.495,\n",
       " ('_', '_', 'X', 'X', '_', '_', 'O', 'O', '_'): 0.4995,\n",
       " ('_', '_', 'X', 'X', '_', '_', 'O', '_', 'O'): 0.5,\n",
       " ('_', '_', 'X', '_', 'X', 'O', 'O', 'O', 'X'): 0.45,\n",
       " ('_', '_', 'X', '_', 'X', 'O', 'O', 'X', 'O'): 0.45,\n",
       " ('_', '_', 'X', '_', 'X', 'O', 'O', '_', '_'): 0.495,\n",
       " ('_', '_', 'X', '_', 'X', 'O', '_', '_', 'O'): 0.45,\n",
       " ('_', '_', 'X', '_', 'X', '_', 'O', 'O', '_'): 0.495,\n",
       " ('_', '_', 'X', '_', 'X', '_', 'O', '_', 'O'): 0.5,\n",
       " ('_', '_', 'X', '_', 'X', '_', '_', 'O', 'O'): 0.45,\n",
       " ('_', '_', '_', 'O', 'X', 'O', 'X', '_', '_'): 2.8861967805754906e-78,\n",
       " ('_', '_', '_', 'O', 'X', 'O', '_', '_', 'X'): 1.0355821623148487e-83,\n",
       " ('_', '_', '_', 'O', 'X', 'X', 'O', 'X', 'O'): 0.45,\n",
       " ('_', '_', '_', 'O', 'X', 'X', 'O', '_', '_'): 0.5,\n",
       " ('_', '_', '_', 'O', 'X', 'X', 'X', 'O', 'O'): 0.45,\n",
       " ('_', '_', '_', 'O', 'X', 'X', '_', '_', 'O'): 0.5,\n",
       " ('_', '_', '_', 'O', 'X', '_', 'O', 'X', '_'): 0.45,\n",
       " ('_', '_', '_', 'O', 'X', '_', 'O', '_', 'X'): 0.45,\n",
       " ('_', '_', '_', 'O', 'X', '_', 'X', 'O', '_'): 7.905083588285365e-81,\n",
       " ('_', '_', '_', 'O', 'X', '_', 'X', '_', 'O'): 2.1986281668275806e-82,\n",
       " ('_', '_', '_', 'O', 'X', '_', '_', 'X', 'O'): 3.4657704300719743e-121,\n",
       " ('_', '_', '_', 'O', 'X', '_', '_', '_', '_'): 6.165425876222401e-52,\n",
       " ('_', '_', '_', 'X', 'O', 'O', 'O', 'X', 'X'): 0.5,\n",
       " ('_', '_', '_', 'X', 'O', 'O', 'X', 'O', 'X'): 0.45,\n",
       " ('_', '_', '_', 'X', 'O', 'O', 'X', 'X', 'O'): 0.45,\n",
       " ('_', '_', '_', 'X', 'O', 'O', 'X', '_', '_'): 0.45,\n",
       " ('_', '_', '_', 'X', 'O', 'O', '_', 'X', '_'): 0.495,\n",
       " ('_', '_', '_', 'X', 'O', 'O', '_', '_', 'X'): 0.495,\n",
       " ('_', '_', '_', 'X', 'O', '_', 'O', 'X', '_'): 0.5,\n",
       " ('_', '_', '_', 'X', 'O', '_', 'O', '_', 'X'): 0.5,\n",
       " ('_', '_', '_', 'X', 'O', '_', 'X', 'O', '_'): 0.45,\n",
       " ('_', '_', '_', 'X', 'O', '_', 'X', '_', 'O'): 0.45,\n",
       " ('_', '_', '_', 'X', 'O', '_', '_', 'O', 'X'): 0.5,\n",
       " ('_', '_', '_', 'X', 'O', '_', '_', 'X', 'O'): 0.5,\n",
       " ('_', '_', '_', 'X', 'O', '_', '_', '_', '_'): 0.5,\n",
       " ('_', '_', '_', 'X', 'X', 'O', 'O', 'O', 'X'): 0.45,\n",
       " ('_', '_', '_', 'X', 'X', 'O', 'O', 'X', 'O'): 8.043912071239127e-73,\n",
       " ('_', '_', '_', 'X', 'X', 'O', 'O', '_', '_'): 0.5,\n",
       " ('_', '_', '_', 'X', 'X', 'O', '_', 'O', '_'): 2.3086564586955596e-52,\n",
       " ('_', '_', '_', 'X', 'X', 'O', '_', '_', 'O'): 0.5,\n",
       " ('_', '_', '_', 'X', 'X', '_', 'O', 'O', '_'): 7.178180072121625e-204,\n",
       " ('_', '_', '_', 'X', 'X', '_', 'O', '_', 'O'): 2.2392626557955366e-122,\n",
       " ('_', '_', '_', 'X', 'X', '_', '_', 'O', 'O'): 1.1684411516070161e-82,\n",
       " ('_', '_', '_', 'X', '_', 'O', 'O', 'X', '_'): 0.5,\n",
       " ('_', '_', '_', 'X', '_', 'O', 'O', '_', 'X'): 0.5,\n",
       " ('_', '_', '_', 'X', '_', 'O', 'X', 'O', '_'): 0.45,\n",
       " ('_', '_', '_', 'X', '_', 'O', 'X', '_', 'O'): 0.45,\n",
       " ('_', '_', '_', 'X', '_', 'O', '_', 'O', 'X'): 0.495,\n",
       " ('_', '_', '_', 'X', '_', 'O', '_', 'X', 'O'): 0.4995,\n",
       " ('_', '_', '_', 'X', '_', 'O', '_', '_', '_'): 0.5,\n",
       " ('_', '_', '_', 'X', '_', '_', 'O', 'O', 'X'): 0.495,\n",
       " ('_', '_', '_', 'X', '_', '_', 'O', 'X', 'O'): 0.495,\n",
       " ('_', '_', '_', 'X', '_', '_', 'O', '_', '_'): 0.5,\n",
       " ('_', '_', '_', 'X', '_', '_', 'X', 'O', 'O'): 0.45,\n",
       " ('_', '_', '_', 'X', '_', '_', '_', 'O', '_'): 0.45,\n",
       " ('_', '_', '_', 'X', '_', '_', '_', '_', 'O'): 0.4995,\n",
       " ('_', '_', '_', '_', 'X', 'O', 'O', 'X', '_'): 0.45,\n",
       " ('_', '_', '_', '_', 'X', 'O', 'O', '_', 'X'): 3.3510564956981876e-82,\n",
       " ('_', '_', '_', '_', 'X', 'O', 'X', '_', 'O'): 0.45,\n",
       " ('_', '_', '_', '_', 'X', 'O', '_', 'O', 'X'): 1.4425199402555755e-82,\n",
       " ('_', '_', '_', '_', 'X', 'O', '_', 'X', 'O'): 5.605222643980383e-124,\n",
       " ('_', '_', '_', '_', 'X', 'O', '_', '_', '_'): 2.921044656988788e-51,\n",
       " ('_', '_', '_', '_', 'X', 'X', 'O', 'O', '_'): 0.45,\n",
       " ('_', '_', '_', '_', 'X', 'X', 'O', '_', 'O'): 0.45,\n",
       " ('_', '_', '_', '_', 'X', 'X', '_', 'O', 'O'): 0.45,\n",
       " ('_', '_', '_', '_', 'X', '_', 'O', 'O', 'X'): 0.45,\n",
       " ('_', '_', '_', '_', 'X', '_', 'O', 'X', 'O'): 3.9104080196464924e-120,\n",
       " ('_', '_', '_', '_', 'X', '_', 'O', '_', '_'): 0.5,\n",
       " ('_', '_', '_', '_', 'X', '_', 'X', 'O', 'O'): 0.45,\n",
       " ('_', '_', '_', '_', 'X', '_', '_', 'O', '_'): 3.008092892432775e-52,\n",
       " ('_', '_', '_', '_', 'X', '_', '_', '_', 'O'): 0.5}"
      ]
     },
     "execution_count": 146,
     "metadata": {},
     "output_type": "execute_result"
    }
   ],
   "source": [
    "player3.policy"
   ]
  },
  {
   "cell_type": "code",
   "execution_count": 156,
   "metadata": {
    "collapsed": false
   },
   "outputs": [
    {
     "data": {
      "text/plain": [
       "True"
      ]
     },
     "execution_count": 156,
     "metadata": {},
     "output_type": "execute_result"
    }
   ],
   "source": [
    "a = player1.policy[('X','_','_','_','_','_','_','_','_')]\n",
    "b = player1.policy[('_','_','_','_','X','_','_','_','_')]\n",
    "a > b"
   ]
  },
  {
   "cell_type": "code",
   "execution_count": 151,
   "metadata": {
    "collapsed": false
   },
   "outputs": [
    {
     "name": "stdout",
     "output_type": "stream",
     "text": [
      "_ _ _\n",
      "_ _ _\n",
      "_ _ _\n",
      "Initial board state\n",
      "\n",
      "X _ _\n",
      "_ _ _\n",
      "_ _ _\n",
      "Win probability = 0.50000000006500467\n",
      "\n",
      "_ X _\n",
      "_ _ _\n",
      "_ _ _\n",
      "Win probability = 0.50000000006032996\n",
      "\n",
      "_ _ X\n",
      "_ _ _\n",
      "_ _ _\n",
      "Win probability = 0.50000000006617540\n",
      "\n",
      "_ _ _\n",
      "X _ _\n",
      "_ _ _\n",
      "Win probability = 0.50000000050375748\n",
      "\n",
      "_ _ _\n",
      "_ X _\n",
      "_ _ _\n",
      "Win probability = 0.50000000006148015\n",
      "\n",
      "_ _ _\n",
      "_ _ X\n",
      "_ _ _\n",
      "Win probability = 0.50000000006487921\n",
      "\n",
      "_ _ _\n",
      "_ _ _\n",
      "X _ _\n",
      "Win probability = 0.50000000006544532\n",
      "\n",
      "_ _ _\n",
      "_ _ _\n",
      "_ X _\n",
      "Win probability = 0.50000000006377066\n",
      "\n",
      "_ _ _\n",
      "_ _ _\n",
      "_ _ X\n",
      "Win probability = 0.50000000006577427\n",
      "\n"
     ]
    }
   ],
   "source": [
    "explore_policy(['_','_','_','_','_','_','_','_','_'], player1)"
   ]
  },
  {
   "cell_type": "markdown",
   "metadata": {},
   "source": [
    "### What is Player 1's deal?"
   ]
  },
  {
   "cell_type": "code",
   "execution_count": 157,
   "metadata": {
    "collapsed": true
   },
   "outputs": [],
   "source": [
    "p1_tim_game = ttt_game(player1, 'human')"
   ]
  },
  {
   "cell_type": "code",
   "execution_count": 158,
   "metadata": {
    "collapsed": false
   },
   "outputs": [
    {
     "name": "stdout",
     "output_type": "stream",
     "text": [
      "_ _ _\n",
      "_ _ _\n",
      "_ _ _\n",
      "\n",
      "Player X's turn:\n",
      "_ _ _\n",
      "X _ _\n",
      "_ _ _\n",
      "\n",
      "Player O's turn:\n",
      "Enter the row and column you want to make a mark in, using the format x,y 1,1\n",
      "O _ _\n",
      "X _ _\n",
      "_ _ _\n",
      "\n",
      "Player X's turn:\n",
      "O _ _\n",
      "X _ _\n",
      "_ _ X\n",
      "\n",
      "Player O's turn:\n",
      "Enter the row and column you want to make a mark in, using the format x,y 1,2\n",
      "O O _\n",
      "X _ _\n",
      "_ _ X\n",
      "\n",
      "Player X's turn:\n",
      "O O X\n",
      "X _ _\n",
      "_ _ X\n",
      "\n",
      "Player O's turn:\n",
      "Enter the row and column you want to make a mark in, using the format x,y 2,3\n",
      "O O X\n",
      "X _ O\n",
      "_ _ X\n",
      "\n",
      "Player X's turn:\n",
      "O O X\n",
      "X _ O\n",
      "X _ X\n",
      "\n",
      "Player O's turn:\n",
      "Enter the row and column you want to make a mark in, using the format x,y 3,2\n",
      "O O X\n",
      "X _ O\n",
      "X O X\n",
      "\n",
      "Player X's turn:\n",
      "O O X\n",
      "X X O\n",
      "X O X\n",
      "\n",
      "Player X wins!\n"
     ]
    }
   ],
   "source": [
    "p1_tim_game.reset()\n",
    "p1_tim_game.play()"
   ]
  },
  {
   "cell_type": "code",
   "execution_count": null,
   "metadata": {
    "collapsed": true
   },
   "outputs": [],
   "source": []
  },
  {
   "cell_type": "markdown",
   "metadata": {},
   "source": [
    "### Win stats"
   ]
  },
  {
   "cell_type": "code",
   "execution_count": 49,
   "metadata": {
    "collapsed": false
   },
   "outputs": [
    {
     "data": {
      "text/plain": [
       "0    0.027\n",
       "1    0.027\n",
       "2    0.027\n",
       "3    0.027\n",
       "4    0.027\n",
       "Name: not_loss, dtype: float64"
      ]
     },
     "execution_count": 49,
     "metadata": {},
     "output_type": "execute_result"
    }
   ],
   "source": [
    "scores = pd.DataFrame(game.playerO_score)\n",
    "scores.columns = ['score']\n",
    "scores['not_loss'] = (scores.score != 0).astype(int)\n",
    "group_size = 2000\n",
    "n_groups = len(scores)/group_size\n",
    "scores['group'] = np.repeat(np.arange(n_groups), group_size)\n",
    "scores_agg = scores.groupby('group').not_loss.transform(lambda x: x.sum()/float(x.shape[0]))\n",
    "scores_agg.head()"
   ]
  },
  {
   "cell_type": "code",
   "execution_count": 50,
   "metadata": {
    "collapsed": false
   },
   "outputs": [
    {
     "data": {
      "text/plain": [
       "<matplotlib.axes._subplots.AxesSubplot at 0x114b0fe50>"
      ]
     },
     "execution_count": 50,
     "metadata": {},
     "output_type": "execute_result"
    },
    {
     "data": {
      "image/png": "[encoded data removed]",
      "text/plain": [
       "<matplotlib.figure.Figure at 0x1184882d0>"
      ]
     },
     "metadata": {},
     "output_type": "display_data"
    }
   ],
   "source": [
    "scores_agg.plot()"
   ]
  },
  {
   "cell_type": "code",
   "execution_count": 51,
   "metadata": {
    "collapsed": false
   },
   "outputs": [
    {
     "data": {
      "text/plain": [
       "<matplotlib.axes._subplots.AxesSubplot at 0x11a2e7110>"
      ]
     },
     "execution_count": 51,
     "metadata": {},
     "output_type": "execute_result"
    },
    {
     "data": {
      "image/png": "[encoded data removed]",
      "text/plain": [
       "<matplotlib.figure.Figure at 0x11a2fb6d0>"
      ]
     },
     "metadata": {},
     "output_type": "display_data"
    }
   ],
   "source": [
    "scores.score.hist()"
   ]
  },
  {
   "cell_type": "code",
   "execution_count": 56,
   "metadata": {
    "collapsed": false
   },
   "outputs": [
    {
     "data": {
      "text/plain": [
       "0.1"
      ]
     },
     "execution_count": 56,
     "metadata": {},
     "output_type": "execute_result"
    }
   ],
   "source": [
    "player3.alpha"
   ]
  },
  {
   "cell_type": "code",
   "execution_count": 17,
   "metadata": {
    "collapsed": false
   },
   "outputs": [
    {
     "data": {
      "text/plain": [
       "<matplotlib.collections.PathCollection at 0x110740090>"
      ]
     },
     "execution_count": 17,
     "metadata": {},
     "output_type": "execute_result"
    },
    {
     "data": {
      "image/png": "[encoded data removed]",
      "text/plain": [
       "<matplotlib.figure.Figure at 0x10f76d550>"
      ]
     },
     "metadata": {},
     "output_type": "display_data"
    }
   ],
   "source": [
    "scores = game.playerO_score\n",
    "n = len(scores)\n",
    "plt.scatter(np.arange(n), scores)"
   ]
  },
  {
   "cell_type": "code",
   "execution_count": 18,
   "metadata": {
    "collapsed": false
   },
   "outputs": [
    {
     "data": {
      "text/plain": [
       "171939"
      ]
     },
     "execution_count": 18,
     "metadata": {},
     "output_type": "execute_result"
    }
   ],
   "source": [
    "np.argmax(scores)"
   ]
  },
  {
   "cell_type": "code",
   "execution_count": 19,
   "metadata": {
    "collapsed": false
   },
   "outputs": [
    {
     "data": {
      "text/plain": [
       "<matplotlib.collections.PathCollection at 0x110738ed0>"
      ]
     },
     "execution_count": 19,
     "metadata": {},
     "output_type": "execute_result"
    },
    {
     "data": {
      "image/png": "[encoded data removed]",
      "text/plain": [
       "<matplotlib.figure.Figure at 0x11074fad0>"
      ]
     },
     "metadata": {},
     "output_type": "display_data"
    }
   ],
   "source": [
    "scores_X = game.playerX_score\n",
    "n = len(scores_X)\n",
    "plt.scatter(np.arange(n), scores_X)"
   ]
  },
  {
   "cell_type": "code",
   "execution_count": null,
   "metadata": {
    "collapsed": true
   },
   "outputs": [],
   "source": []
  },
  {
   "cell_type": "code",
   "execution_count": null,
   "metadata": {
    "collapsed": true
   },
   "outputs": [],
   "source": []
  },
  {
   "cell_type": "code",
   "execution_count": null,
   "metadata": {
    "collapsed": true
   },
   "outputs": [],
   "source": []
  },
  {
   "cell_type": "markdown",
   "metadata": {},
   "source": [
    "# Mental Bookmark\n",
    "- Refactor code so I can do the rest of the testing faster\n",
    "- X doesn't usually learn the corner as the optimal first move. Why?  \n",
    "-- Try training for 200k games, check the policy. If corners aren't optimal, train more and see if it helps. If corners are optimal, set alpha = 0 and keep stats on player 3.\n",
    "- create readme\n",
    "- create a module that I can import?\n",
    "- give computer players one policy dictionary to share?  \n",
    "-- they'll train twice as fast, and have all entries"
   ]
  },
  {
   "cell_type": "code",
   "execution_count": null,
   "metadata": {
    "collapsed": true
   },
   "outputs": [],
   "source": []
  }
 ],
 "metadata": {
  "anaconda-cloud": {},
  "kernelspec": {
   "display_name": "Python [conda root]",
   "language": "python",
   "name": "conda-root-py"
  },
  "language_info": {
   "codemirror_mode": {
    "name": "ipython",
    "version": 2
   },
   "file_extension": ".py",
   "mimetype": "text/x-python",
   "name": "python",
   "nbconvert_exporter": "python",
   "pygments_lexer": "ipython2",
   "version": "2.7.12"
  }
 },
 "nbformat": 4,
 "nbformat_minor": 1
}
